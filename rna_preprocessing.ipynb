{
 "cells": [
  {
   "cell_type": "code",
   "execution_count": 17,
   "id": "51d73510",
   "metadata": {},
   "outputs": [],
   "source": [
    "import os\n",
    "import torch\n",
    "from torch.utils.data import Dataset\n",
    "import pydicom\n",
    "import numpy as np\n",
    "from torchvision import transforms\n",
    "import pandas as pd\n",
    "from sklearn.preprocessing import StandardScaler"
   ]
  },
  {
   "cell_type": "markdown",
   "id": "c2317010",
   "metadata": {},
   "source": [
    "generate the RNA data set, will put citation here later"
   ]
  },
  {
   "cell_type": "code",
   "execution_count": 18,
   "id": "b1278b23",
   "metadata": {},
   "outputs": [
    {
     "name": "stdout",
     "output_type": "stream",
     "text": [
      "(22126, 130)\n",
      "             R01-023   R01-024   R01-006   R01-153   R01-031   R01-032  \\\n",
      "1/2-SBSRNA4      NaN       NaN       NaN       NaN       NaN       NaN   \n",
      "A1BG             NaN  2.528510  1.713994  3.143938  1.795080  2.410910   \n",
      "A1BG-AS1         NaN       NaN       NaN  0.646213       NaN       NaN   \n",
      "A1CF             NaN       NaN       NaN       NaN       NaN       NaN   \n",
      "A2LD1        2.03438  0.436761  1.601030  3.366031  0.994382  2.130685   \n",
      "\n",
      "              R01-033   R01-034    R01-035   R01-037  ...   R01-136   R01-137  \\\n",
      "1/2-SBSRNA4       NaN       NaN        NaN       NaN  ...       NaN       NaN   \n",
      "A1BG         2.538406       NaN  10.386501  1.826220  ...  3.534986  7.560916   \n",
      "A1BG-AS1          NaN       NaN        NaN       NaN  ...  2.408296  3.474290   \n",
      "A1CF              NaN       NaN        NaN       NaN  ...       NaN       NaN   \n",
      "A2LD1        0.842759  1.835353   0.662647  0.646078  ...       NaN       NaN   \n",
      "\n",
      "              R01-138  R01-139  R01-140  R01-141  R01-142   R01-144   R01-145  \\\n",
      "1/2-SBSRNA4       NaN      NaN      NaN      NaN      NaN       NaN       NaN   \n",
      "A1BG         3.560950  2.22318      NaN  2.09417  1.94455       NaN  6.130287   \n",
      "A1BG-AS1     1.382054  2.09133      NaN  1.30469  1.05570  0.939564  1.445220   \n",
      "A1CF              NaN      NaN      NaN      NaN      NaN       NaN       NaN   \n",
      "A2LD1             NaN      NaN      NaN      NaN      NaN       NaN       NaN   \n",
      "\n",
      "             R01-146  \n",
      "1/2-SBSRNA4      NaN  \n",
      "A1BG             NaN  \n",
      "A1BG-AS1         NaN  \n",
      "A1CF             NaN  \n",
      "A2LD1            NaN  \n",
      "\n",
      "[5 rows x 130 columns]\n"
     ]
    }
   ],
   "source": [
    "df = pd.read_csv('data/GSE103584_R01_NSCLC_RNAseq.txt', sep='\\t', index_col=0)\n",
    "\n",
    "# Check shape and preview\n",
    "print(df.shape)\n",
    "print(df.head())"
   ]
  },
  {
   "cell_type": "markdown",
   "id": "cc917ba8",
   "metadata": {},
   "source": [
    "variance filtering, selecting only the ones that vary the most, as i suspect this to be the most important information. \n",
    "\n",
    "But also if N/A is a lot in these sample dont want them so i should filter by that as well\n",
    "\n",
    "I want to have at least 80% of the samples with relevant genes"
   ]
  },
  {
   "cell_type": "code",
   "execution_count": 19,
   "id": "210ed767",
   "metadata": {},
   "outputs": [
    {
     "name": "stdout",
     "output_type": "stream",
     "text": [
      "(10693, 130)\n"
     ]
    }
   ],
   "source": [
    "# First, filter by expression frequency\n",
    "df.replace('NA', np.nan, inplace=True)\n",
    "\n",
    "# Calculate % of non-missing (or non-zero) values per gene\n",
    "expression_counts = df.notna().sum(axis=1)\n",
    "expression_fraction = expression_counts / df.shape[1]\n",
    "\n",
    "# Keep genes expressed in at least 80% of samples\n",
    "df_frequent = df[expression_fraction > 0.8]\n",
    "\n",
    "\n",
    "print(df_frequent.shape)\n"
   ]
  },
  {
   "cell_type": "markdown",
   "id": "7871efca",
   "metadata": {},
   "source": [
    "now need to filter by variance to focus on interesting genes, will use a log as tends to be exponential"
   ]
  },
  {
   "cell_type": "code",
   "execution_count": 20,
   "id": "fd2e8cbd",
   "metadata": {},
   "outputs": [
    {
     "name": "stdout",
     "output_type": "stream",
     "text": [
      "(1000, 130)\n",
      "Top 5 gene variances:\n",
      "TOR1AIP1    8.245657\n",
      "CHD7        7.297720\n",
      "ZFYVE26     7.106993\n",
      "NAA38       5.580402\n",
      "CASP2       4.665585\n",
      "dtype: float64\n"
     ]
    }
   ],
   "source": [
    "\n",
    "df_frequent = df_frequent.astype(float)\n",
    "df_log = np.log10(df_frequent + 1)\n",
    "# print(df_log)\n",
    "\n",
    "# Assumes df is already loaded and numeric with gene names as index\n",
    "gene_variances = df_log.var(axis=1)  # variance across samples for each gene\n",
    "\n",
    "# Sort by variance\n",
    "top_genes = gene_variances.sort_values(ascending=False)\n",
    "\n",
    "# Select top N high-variance genes (e.g., 1000)\n",
    "df_top = df_log.loc[top_genes.index[:1000]]\n",
    "\n",
    "print(df_top.shape)\n",
    "\n",
    "print(\"Top 5 gene variances:\")\n",
    "print(top_genes.head())\n",
    "\n"
   ]
  },
  {
   "cell_type": "code",
   "execution_count": 21,
   "id": "cf3b7abf",
   "metadata": {},
   "outputs": [
    {
     "name": "stdout",
     "output_type": "stream",
     "text": [
      "Max value: R01-023    8.053078\n",
      "R01-024    8.996512\n",
      "R01-006    7.232996\n",
      "R01-153    7.720986\n",
      "R01-031    9.113943\n",
      "             ...   \n",
      "R01-141    5.147284\n",
      "R01-142    5.423483\n",
      "R01-144    4.975018\n",
      "R01-145    5.227481\n",
      "R01-146    5.991229\n",
      "Length: 130, dtype: float64\n",
      "Min value: R01-023    0.164201\n",
      "R01-024    0.142637\n",
      "R01-006    0.123429\n",
      "R01-153    0.109324\n",
      "R01-031    0.166936\n",
      "             ...   \n",
      "R01-141    0.191111\n",
      "R01-142    0.228900\n",
      "R01-144    0.224928\n",
      "R01-145    0.160699\n",
      "R01-146    0.236914\n",
      "Length: 130, dtype: float64\n",
      "Top 5 values:\n",
      "           R01-023   R01-024   R01-006   R01-153   R01-031   R01-032  \\\n",
      "TOR1AIP1  7.195900  3.360916  7.232996  7.720986  7.346353  7.155336   \n",
      "CHD7      1.322126  1.345326  1.833200  1.131132  9.113943  7.705864   \n",
      "ZFYVE26   6.723456  6.940517  0.827326  1.710891  6.569375  1.277587   \n",
      "NAA38     8.053078  8.996512  1.275730  1.611778  2.638750  8.597695   \n",
      "CASP2     0.888649  1.161618  0.637659  0.896804  8.399674  0.971874   \n",
      "\n",
      "           R01-033   R01-034   R01-035   R01-037  ...   R01-136   R01-137  \\\n",
      "TOR1AIP1  3.495915  7.396200  1.481184  7.757396  ...  1.273991  1.236405   \n",
      "CHD7      1.463337  1.273576  7.976350  9.350248  ...  1.591904  1.405863   \n",
      "ZFYVE26   6.453319  6.357937  1.465582  7.079182  ...  0.935718  0.813681   \n",
      "NAA38     1.685269  8.113943  2.025877  1.717570  ...  0.971723  1.255391   \n",
      "CASP2     1.097850  0.658265  7.313867  0.624544  ...  1.116057  1.013559   \n",
      "\n",
      "           R01-138   R01-139   R01-140   R01-141   R01-142   R01-144  \\\n",
      "TOR1AIP1  1.151197  0.977387  1.086857  1.183126  1.279528  0.987301   \n",
      "CHD7      1.304458  1.567284  1.214161  1.876008  1.065227  1.510079   \n",
      "ZFYVE26   1.117576  1.116264  1.127663  1.249612  0.958955  0.931158   \n",
      "NAA38     1.158920  1.292644  1.513696  0.952766  1.289156  1.298766   \n",
      "CASP2     0.745172  1.141104  0.986265  1.157866  0.950059  1.161558   \n",
      "\n",
      "           R01-145   R01-146  \n",
      "TOR1AIP1  1.006738  1.374248  \n",
      "CHD7      1.192418  1.344284  \n",
      "ZFYVE26   1.115111  0.947797  \n",
      "NAA38     1.289384  1.299496  \n",
      "CASP2     0.751992  0.459263  \n",
      "\n",
      "[5 rows x 130 columns]\n"
     ]
    }
   ],
   "source": [
    "print(\"Max value:\", df_top.max())\n",
    "print(\"Min value:\", df_top.min())\n",
    "# print the values of the first 5 genes in df_top\n",
    "print(\"Top 5 values:\")\n",
    "print(df_top.head())"
   ]
  },
  {
   "cell_type": "code",
   "execution_count": 22,
   "id": "ddfdd2d3",
   "metadata": {},
   "outputs": [
    {
     "name": "stdout",
     "output_type": "stream",
     "text": [
      "           R01-023   R01-024   R01-006   R01-153   R01-031   R01-032  \\\n",
      "TOR1AIP1  1.080242 -0.255279  1.093161  1.263102  1.132637  1.066116   \n",
      "CHD7     -0.488815 -0.480227 -0.299628 -0.559516  2.395517  1.874282   \n",
      "ZFYVE26   1.451424  1.532845 -0.760265 -0.428833  1.393627 -0.591369   \n",
      "NAA38     2.383069  2.782442 -0.485908 -0.343652  0.091084  2.613616   \n",
      "CASP2    -0.406776 -0.280401 -0.522975 -0.403000  3.070556 -0.368246   \n",
      "\n",
      "           R01-033   R01-034   R01-035   R01-037  ...   R01-136   R01-137  \\\n",
      "TOR1AIP1 -0.208266  1.149996 -0.909890  1.275782  ... -0.982044 -0.995134   \n",
      "CHD7     -0.436542 -0.506787  1.974409  2.482991  ... -0.388950 -0.457817   \n",
      "ZFYVE26   1.350093  1.314315 -0.520850  1.584860  ... -0.719606 -0.765384   \n",
      "NAA38    -0.312542  2.408834 -0.168357 -0.298869  ... -0.614600 -0.494518   \n",
      "CASP2    -0.309923 -0.513435  2.567867 -0.529047  ... -0.301494 -0.348947   \n",
      "\n",
      "           R01-138   R01-139   R01-140   R01-141   R01-142   R01-144  \\\n",
      "TOR1AIP1 -1.024807 -1.085336 -1.047213 -1.013688 -0.980116 -1.081883   \n",
      "CHD7     -0.495355 -0.398064 -0.528781 -0.283782 -0.583912 -0.419239   \n",
      "ZFYVE26  -0.651390 -0.651882 -0.647606 -0.601862 -0.710890 -0.721317   \n",
      "NAA38    -0.535356 -0.478748 -0.385173 -0.622625 -0.480224 -0.476156   \n",
      "CASP2    -0.473200 -0.289898 -0.361583 -0.282138 -0.378345 -0.280429   \n",
      "\n",
      "           R01-145   R01-146  \n",
      "TOR1AIP1 -1.075115 -0.947130  \n",
      "CHD7     -0.536829 -0.480612  \n",
      "ZFYVE26  -0.652315 -0.715076  \n",
      "NAA38    -0.480128 -0.475847  \n",
      "CASP2    -0.470043 -0.605566  \n",
      "\n",
      "[5 rows x 130 columns]\n"
     ]
    }
   ],
   "source": [
    "# Standardize df_log so each gene (row) has mean 0 and std 1 (z-score)\n",
    "df_zscore = df_top.sub(df_top.mean(axis=1), axis=0).div(df_top.std(axis=1), axis=0)\n",
    "print(df_zscore.head())"
   ]
  },
  {
   "cell_type": "markdown",
   "id": "8dfae637",
   "metadata": {},
   "source": [
    "#grab the relevant images and combine them into Xy"
   ]
  },
  {
   "cell_type": "code",
   "execution_count": 52,
   "id": "f7907c4b",
   "metadata": {},
   "outputs": [],
   "source": [
    "#save the standardized data so i can load it in a different notebook\n",
    "df_zscore.to_csv('data/df_zscore.csv')"
   ]
  }
 ],
 "metadata": {
  "kernelspec": {
   "display_name": "Python 3",
   "language": "python",
   "name": "python3"
  },
  "language_info": {
   "codemirror_mode": {
    "name": "ipython",
    "version": 3
   },
   "file_extension": ".py",
   "mimetype": "text/x-python",
   "name": "python",
   "nbconvert_exporter": "python",
   "pygments_lexer": "ipython3",
   "version": "3.11.9"
  }
 },
 "nbformat": 4,
 "nbformat_minor": 5
}
