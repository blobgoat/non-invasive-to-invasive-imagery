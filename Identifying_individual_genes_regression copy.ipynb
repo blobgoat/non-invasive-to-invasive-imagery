{
 "cells": [
  {
   "cell_type": "code",
   "execution_count": 1,
   "id": "11cba5da",
   "metadata": {},
   "outputs": [],
   "source": [
    "\n",
    "import os\n",
    "import torch\n",
    "from torch.utils.data import Dataset, DataLoader\n",
    "import pydicom\n",
    "import numpy as np\n",
    "from torchvision import transforms\n",
    "import pandas as pd\n",
    "from sklearn.preprocessing import StandardScaler\n",
    "from sklearn.metrics import mean_squared_error, r2_score\n",
    "import torch.nn as nn\n",
    "from torch.utils.data import random_split\n",
    "from model import MedicalImageCNN, CNNToRNA, train_model\n",
    "import matplotlib.pyplot as plt\n",
    "\n",
    "from helper import collate_fn\n",
    "device = torch.device(\"cpu\")"
   ]
  },
  {
   "cell_type": "markdown",
   "id": "4f57076f",
   "metadata": {},
   "source": [
    "this shows that the image loader works, in rna preprocessing we already sorted everything so no worries and can take index to simply get the indexeth important gene"
   ]
  },
  {
   "cell_type": "code",
   "execution_count": 1,
   "id": "108d80bf",
   "metadata": {},
   "outputs": [
    {
     "ename": "NameError",
     "evalue": "name 'transforms' is not defined",
     "output_type": "error",
     "traceback": [
      "\u001b[31m---------------------------------------------------------------------------\u001b[39m",
      "\u001b[31mNameError\u001b[39m                                 Traceback (most recent call last)",
      "\u001b[36mCell\u001b[39m\u001b[36m \u001b[39m\u001b[32mIn[1]\u001b[39m\u001b[32m, line 3\u001b[39m\n\u001b[32m      1\u001b[39m \u001b[38;5;28;01mfrom\u001b[39;00m\u001b[38;5;250m \u001b[39m\u001b[34;01mhelper\u001b[39;00m\u001b[38;5;250m \u001b[39m\u001b[38;5;28;01mimport\u001b[39;00m PatientDicomDatasetSingleGeneByIndex\n\u001b[32m----> \u001b[39m\u001b[32m3\u001b[39m transform = \u001b[43mtransforms\u001b[49m.Compose([\n\u001b[32m      4\u001b[39m     transforms.Resize((\u001b[32m224\u001b[39m, \u001b[32m224\u001b[39m)),\n\u001b[32m      5\u001b[39m     transforms.Normalize(mean=[\u001b[32m0.5\u001b[39m], std=[\u001b[32m0.5\u001b[39m])\n\u001b[32m      6\u001b[39m ])\n\u001b[32m      7\u001b[39m \u001b[38;5;28;01mif\u001b[39;00m \u001b[38;5;129;01mnot\u001b[39;00m os.path.exists(\u001b[33m'\u001b[39m\u001b[33mdata/Images/NSCLC Radiogenomics\u001b[39m\u001b[33m'\u001b[39m):\n\u001b[32m      8\u001b[39m          \u001b[38;5;28;01mraise\u001b[39;00m \u001b[38;5;167;01mFileNotFoundError\u001b[39;00m(\u001b[33m\"\u001b[39m\u001b[33mThe directory \u001b[39m\u001b[33m'\u001b[39m\u001b[33mdata/Images/NSCLC Radiogenomics\u001b[39m\u001b[33m'\u001b[39m\u001b[33m does not exist.\u001b[39m\u001b[33m\"\u001b[39m)\n",
      "\u001b[31mNameError\u001b[39m: name 'transforms' is not defined"
     ]
    }
   ],
   "source": [
    "\n",
    "from helper import PatientDicomDatasetSingleGeneByIndex\n",
    "\n",
    "transform = transforms.Compose([\n",
    "    transforms.Resize((224, 224)),\n",
    "    transforms.Normalize(mean=[0.5], std=[0.5])\n",
    "])\n",
    "if not os.path.exists('data/Images/NSCLC Radiogenomics'):\n",
    "         raise FileNotFoundError(\"The directory 'data/Images/NSCLC Radiogenomics' does not exist.\")\n",
    "if not os.path.exists('data/df_zscore.csv'):\n",
    "         raise FileNotFoundError(\"The file 'data/df_zscore.csv' does not exist.\")\n",
    "# Verify that the dataset is properly loaded\n",
    "dataset =PatientDicomDatasetSingleGeneByIndex(root_dir='data/Images/NSCLC Radiogenomics', csv_path='data/df_zscore.csv', transform=transform, index=3)\n",
    "\n",
    "# Check the length of the dataset to ensure it is not empty\n",
    "if len(dataset) == 0:\n",
    "    raise ValueError(\"The dataset is empty. Please check the root_dir and csv_path for correctness.\")\n",
    "print(\"Dataset length:\", len(dataset))\n",
    "\n",
    "images, patient_id, gene_value, gene_name = dataset[2]\n",
    "\n",
    "print(\"Image tensor shape:\", images[0].shape)\n",
    "print('gene_value:', gene_value)\n",
    "print('gene_name:', gene_name)"
   ]
  },
  {
   "cell_type": "code",
   "execution_count": 3,
   "id": "92881311",
   "metadata": {},
   "outputs": [],
   "source": [
    "train_size = int(0.7 * len(dataset))\n",
    "val_size = int(0.15 * len(dataset))\n",
    "test_size = len(dataset) - train_size - val_size"
   ]
  },
  {
   "cell_type": "markdown",
   "id": "0a89a62a",
   "metadata": {},
   "source": [
    "now we are going to train a model for each gene and extract the train loses and val losses to identify meaningful genes\n",
    "\n",
    "lets do the top 10"
   ]
  },
  {
   "cell_type": "code",
   "execution_count": null,
   "id": "40d10d9a",
   "metadata": {},
   "outputs": [],
   "source": []
  },
  {
   "cell_type": "code",
   "execution_count": null,
   "id": "990ab3fb",
   "metadata": {},
   "outputs": [
    {
     "name": "stdout",
     "output_type": "stream",
     "text": [
      "Using device: cuda\n",
      "Loading CSV and images...\n",
      "⚠️ Skipping patient R01-059 due to NaN gene value for CASP2\n",
      "Training model for gene: CASP2 (Index: 4)\n",
      "\n",
      "Epoch [1/50]\n"
     ]
    },
    {
     "name": "stderr",
     "output_type": "stream",
     "text": [
      "                                                           \r"
     ]
    },
    {
     "name": "stdout",
     "output_type": "stream",
     "text": [
      "Train Loss: 0.5778 | Val Loss: 1.7337\n",
      "\n",
      "Epoch [2/50]\n"
     ]
    },
    {
     "name": "stderr",
     "output_type": "stream",
     "text": [
      "                                                           \r"
     ]
    },
    {
     "name": "stdout",
     "output_type": "stream",
     "text": [
      "Train Loss: 0.5645 | Val Loss: 1.7692\n",
      "\n",
      "Epoch [3/50]\n"
     ]
    },
    {
     "name": "stderr",
     "output_type": "stream",
     "text": [
      "                                                           \r"
     ]
    },
    {
     "name": "stdout",
     "output_type": "stream",
     "text": [
      "Train Loss: 0.5487 | Val Loss: 1.7988\n",
      "⏹️ Early stopping triggered at epoch 3\n",
      "Finished training for gene: CASP2\n",
      "Loading CSV and images...\n",
      "⚠️ Skipping patient R01-005 due to NaN gene value for DLG2\n",
      "⚠️ Skipping patient R01-037 due to NaN gene value for DLG2\n",
      "⚠️ Skipping patient R01-046 due to NaN gene value for DLG2\n",
      "⚠️ Skipping patient R01-052 due to NaN gene value for DLG2\n",
      "⚠️ Skipping patient R01-054 due to NaN gene value for DLG2\n",
      "⚠️ Skipping patient R01-059 due to NaN gene value for DLG2\n",
      "⚠️ Skipping patient R01-069 due to NaN gene value for DLG2\n",
      "⚠️ Skipping patient R01-072 due to NaN gene value for DLG2\n",
      "⚠️ Skipping patient R01-150 due to NaN gene value for DLG2\n",
      "⚠️ Skipping patient R01-157 due to NaN gene value for DLG2\n",
      "Training model for gene: DLG2 (Index: 5)\n",
      "\n",
      "Epoch [1/50]\n"
     ]
    },
    {
     "name": "stderr",
     "output_type": "stream",
     "text": [
      "                                                           \r"
     ]
    },
    {
     "name": "stdout",
     "output_type": "stream",
     "text": [
      "Train Loss: 0.9686 | Val Loss: 1.0947\n",
      "\n",
      "Epoch [2/50]\n"
     ]
    },
    {
     "name": "stderr",
     "output_type": "stream",
     "text": [
      "                                                           \r"
     ]
    },
    {
     "name": "stdout",
     "output_type": "stream",
     "text": [
      "Train Loss: 0.9803 | Val Loss: 1.0956\n",
      "\n",
      "Epoch [3/50]\n"
     ]
    },
    {
     "name": "stderr",
     "output_type": "stream",
     "text": [
      "                                                           \r"
     ]
    },
    {
     "name": "stdout",
     "output_type": "stream",
     "text": [
      "Train Loss: 0.9770 | Val Loss: 1.0987\n",
      "⏹️ Early stopping triggered at epoch 3\n",
      "Finished training for gene: DLG2\n",
      "Loading CSV and images...\n",
      "⚠️ Skipping patient R01-018 due to NaN gene value for DNAL1\n",
      "Training model for gene: DNAL1 (Index: 6)\n",
      "\n",
      "Epoch [1/50]\n"
     ]
    },
    {
     "name": "stderr",
     "output_type": "stream",
     "text": [
      "                                                           \r"
     ]
    },
    {
     "name": "stdout",
     "output_type": "stream",
     "text": [
      "Train Loss: 1.3128 | Val Loss: 0.3832\n",
      "\n",
      "Epoch [2/50]\n"
     ]
    },
    {
     "name": "stderr",
     "output_type": "stream",
     "text": [
      "                                                           \r"
     ]
    },
    {
     "name": "stdout",
     "output_type": "stream",
     "text": [
      "Train Loss: 1.2597 | Val Loss: 0.3891\n",
      "\n",
      "Epoch [3/50]\n"
     ]
    },
    {
     "name": "stderr",
     "output_type": "stream",
     "text": [
      "                                                           \r"
     ]
    },
    {
     "name": "stdout",
     "output_type": "stream",
     "text": [
      "Train Loss: 1.2444 | Val Loss: 0.4009\n",
      "⏹️ Early stopping triggered at epoch 3\n",
      "Finished training for gene: DNAL1\n",
      "Loading CSV and images...\n",
      "⚠️ Skipping patient R01-004 due to NaN gene value for ANKRD30BL\n",
      "⚠️ Skipping patient R01-043 due to NaN gene value for ANKRD30BL\n",
      "⚠️ Skipping patient R01-052 due to NaN gene value for ANKRD30BL\n",
      "⚠️ Skipping patient R01-056 due to NaN gene value for ANKRD30BL\n",
      "⚠️ Skipping patient R01-062 due to NaN gene value for ANKRD30BL\n",
      "⚠️ Skipping patient R01-077 due to NaN gene value for ANKRD30BL\n",
      "⚠️ Skipping patient R01-094 due to NaN gene value for ANKRD30BL\n",
      "⚠️ Skipping patient R01-153 due to NaN gene value for ANKRD30BL\n",
      "⚠️ Skipping patient R01-156 due to NaN gene value for ANKRD30BL\n",
      "⚠️ Skipping patient R01-157 due to NaN gene value for ANKRD30BL\n",
      "⚠️ Skipping patient R01-159 due to NaN gene value for ANKRD30BL\n",
      "Training model for gene: ANKRD30BL (Index: 7)\n",
      "\n",
      "Epoch [1/50]\n"
     ]
    },
    {
     "name": "stderr",
     "output_type": "stream",
     "text": [
      "                                                           \r"
     ]
    },
    {
     "name": "stdout",
     "output_type": "stream",
     "text": [
      "Train Loss: 1.0416 | Val Loss: 0.7968\n",
      "\n",
      "Epoch [2/50]\n"
     ]
    },
    {
     "name": "stderr",
     "output_type": "stream",
     "text": [
      "                                                           \r"
     ]
    },
    {
     "name": "stdout",
     "output_type": "stream",
     "text": [
      "Train Loss: 0.9999 | Val Loss: 0.8128\n",
      "\n",
      "Epoch [3/50]\n"
     ]
    },
    {
     "name": "stderr",
     "output_type": "stream",
     "text": [
      "                                                           \r"
     ]
    },
    {
     "name": "stdout",
     "output_type": "stream",
     "text": [
      "Train Loss: 0.9903 | Val Loss: 0.8054\n",
      "⏹️ Early stopping triggered at epoch 3\n",
      "Finished training for gene: ANKRD30BL\n",
      "Loading CSV and images...\n",
      "⚠️ Skipping patient R01-051 due to NaN gene value for ORAI2\n",
      "⚠️ Skipping patient R01-052 due to NaN gene value for ORAI2\n",
      "⚠️ Skipping patient R01-069 due to NaN gene value for ORAI2\n",
      "Training model for gene: ORAI2 (Index: 8)\n",
      "\n",
      "Epoch [1/50]\n"
     ]
    },
    {
     "name": "stderr",
     "output_type": "stream",
     "text": [
      "                                                           \r"
     ]
    },
    {
     "name": "stdout",
     "output_type": "stream",
     "text": [
      "Train Loss: 1.2149 | Val Loss: 0.6231\n",
      "\n",
      "Epoch [2/50]\n"
     ]
    },
    {
     "name": "stderr",
     "output_type": "stream",
     "text": [
      "                                                           \r"
     ]
    },
    {
     "name": "stdout",
     "output_type": "stream",
     "text": [
      "Train Loss: 1.1837 | Val Loss: 0.6253\n",
      "\n",
      "Epoch [3/50]\n"
     ]
    },
    {
     "name": "stderr",
     "output_type": "stream",
     "text": [
      "                                                           \r"
     ]
    },
    {
     "name": "stdout",
     "output_type": "stream",
     "text": [
      "Train Loss: 1.1772 | Val Loss: 0.6301\n",
      "⏹️ Early stopping triggered at epoch 3\n",
      "Finished training for gene: ORAI2\n",
      "Loading CSV and images...\n",
      "⚠️ Skipping patient R01-013 due to NaN gene value for PDE3A\n",
      "⚠️ Skipping patient R01-018 due to NaN gene value for PDE3A\n",
      "⚠️ Skipping patient R01-021 due to NaN gene value for PDE3A\n",
      "⚠️ Skipping patient R01-022 due to NaN gene value for PDE3A\n",
      "⚠️ Skipping patient R01-027 due to NaN gene value for PDE3A\n",
      "⚠️ Skipping patient R01-037 due to NaN gene value for PDE3A\n",
      "⚠️ Skipping patient R01-052 due to NaN gene value for PDE3A\n",
      "⚠️ Skipping patient R01-061 due to NaN gene value for PDE3A\n",
      "⚠️ Skipping patient R01-065 due to NaN gene value for PDE3A\n",
      "⚠️ Skipping patient R01-069 due to NaN gene value for PDE3A\n",
      "⚠️ Skipping patient R01-073 due to NaN gene value for PDE3A\n",
      "⚠️ Skipping patient R01-093 due to NaN gene value for PDE3A\n",
      "⚠️ Skipping patient R01-096 due to NaN gene value for PDE3A\n",
      "⚠️ Skipping patient R01-160 due to NaN gene value for PDE3A\n",
      "Training model for gene: PDE3A (Index: 9)\n",
      "\n",
      "Epoch [1/50]\n"
     ]
    },
    {
     "name": "stderr",
     "output_type": "stream",
     "text": [
      "                                                           \r"
     ]
    },
    {
     "name": "stdout",
     "output_type": "stream",
     "text": [
      "Train Loss: 1.0930 | Val Loss: 1.1984\n",
      "\n",
      "Epoch [2/50]\n"
     ]
    },
    {
     "name": "stderr",
     "output_type": "stream",
     "text": [
      "                                                           \r"
     ]
    },
    {
     "name": "stdout",
     "output_type": "stream",
     "text": [
      "Train Loss: 0.9109 | Val Loss: 0.9685\n",
      "\n",
      "Epoch [3/50]\n"
     ]
    },
    {
     "name": "stderr",
     "output_type": "stream",
     "text": [
      "                                                           \r"
     ]
    },
    {
     "name": "stdout",
     "output_type": "stream",
     "text": [
      "Train Loss: 0.7173 | Val Loss: 0.5420\n",
      "\n",
      "Epoch [4/50]\n"
     ]
    },
    {
     "name": "stderr",
     "output_type": "stream",
     "text": [
      "                                                           \r"
     ]
    },
    {
     "name": "stdout",
     "output_type": "stream",
     "text": [
      "Train Loss: 0.6111 | Val Loss: 0.5848\n",
      "\n",
      "Epoch [5/50]\n"
     ]
    },
    {
     "name": "stderr",
     "output_type": "stream",
     "text": [
      "                                                           \r"
     ]
    },
    {
     "name": "stdout",
     "output_type": "stream",
     "text": [
      "Train Loss: 0.5630 | Val Loss: 0.3470\n",
      "\n",
      "Epoch [6/50]\n"
     ]
    },
    {
     "name": "stderr",
     "output_type": "stream",
     "text": [
      "                                                           \r"
     ]
    },
    {
     "name": "stdout",
     "output_type": "stream",
     "text": [
      "Train Loss: 0.6289 | Val Loss: 0.3155\n",
      "\n",
      "Epoch [7/50]\n"
     ]
    },
    {
     "name": "stderr",
     "output_type": "stream",
     "text": [
      "                                                           \r"
     ]
    },
    {
     "name": "stdout",
     "output_type": "stream",
     "text": [
      "Train Loss: 0.4990 | Val Loss: 0.9548\n",
      "\n",
      "Epoch [8/50]\n"
     ]
    },
    {
     "name": "stderr",
     "output_type": "stream",
     "text": [
      "                                                           \r"
     ]
    },
    {
     "name": "stdout",
     "output_type": "stream",
     "text": [
      "Train Loss: 0.6249 | Val Loss: 0.6389\n",
      "⏹️ Early stopping triggered at epoch 8\n",
      "Finished training for gene: PDE3A\n",
      "Loading CSV and images...\n",
      "Training model for gene: SEC22A (Index: 10)\n",
      "\n",
      "Epoch [1/50]\n"
     ]
    },
    {
     "name": "stderr",
     "output_type": "stream",
     "text": [
      "                                                           \r"
     ]
    },
    {
     "name": "stdout",
     "output_type": "stream",
     "text": [
      "Train Loss: 1.5024 | Val Loss: 0.1891\n",
      "\n",
      "Epoch [2/50]\n"
     ]
    },
    {
     "name": "stderr",
     "output_type": "stream",
     "text": [
      "                                                           \r"
     ]
    },
    {
     "name": "stdout",
     "output_type": "stream",
     "text": [
      "Train Loss: 1.3487 | Val Loss: 0.2002\n",
      "\n",
      "Epoch [3/50]\n"
     ]
    },
    {
     "name": "stderr",
     "output_type": "stream",
     "text": [
      "                                                           \r"
     ]
    },
    {
     "name": "stdout",
     "output_type": "stream",
     "text": [
      "Train Loss: 1.3642 | Val Loss: 0.2135\n",
      "⏹️ Early stopping triggered at epoch 3\n",
      "Finished training for gene: SEC22A\n",
      "Loading CSV and images...\n",
      "Training model for gene: SYPL1 (Index: 11)\n",
      "\n",
      "Epoch [1/50]\n"
     ]
    },
    {
     "name": "stderr",
     "output_type": "stream",
     "text": [
      "                                                           \r"
     ]
    },
    {
     "name": "stdout",
     "output_type": "stream",
     "text": [
      "Train Loss: 1.0561 | Val Loss: 0.6857\n",
      "\n",
      "Epoch [2/50]\n"
     ]
    },
    {
     "name": "stderr",
     "output_type": "stream",
     "text": [
      "                                                           \r"
     ]
    },
    {
     "name": "stdout",
     "output_type": "stream",
     "text": [
      "Train Loss: 1.0182 | Val Loss: 0.6878\n",
      "\n",
      "Epoch [3/50]\n"
     ]
    },
    {
     "name": "stderr",
     "output_type": "stream",
     "text": [
      "                                                           \r"
     ]
    },
    {
     "name": "stdout",
     "output_type": "stream",
     "text": [
      "Train Loss: 1.0087 | Val Loss: 0.7838\n",
      "⏹️ Early stopping triggered at epoch 3\n",
      "Finished training for gene: SYPL1\n",
      "Loading CSV and images...\n",
      "⚠️ Skipping patient R01-022 due to NaN gene value for RCOR1\n",
      "⚠️ Skipping patient R01-037 due to NaN gene value for RCOR1\n",
      "Training model for gene: RCOR1 (Index: 12)\n",
      "\n",
      "Epoch [1/50]\n"
     ]
    },
    {
     "name": "stderr",
     "output_type": "stream",
     "text": [
      "                                                           \r"
     ]
    },
    {
     "name": "stdout",
     "output_type": "stream",
     "text": [
      "Train Loss: 1.0173 | Val Loss: 2.1966\n",
      "\n",
      "Epoch [2/50]\n"
     ]
    },
    {
     "name": "stderr",
     "output_type": "stream",
     "text": [
      "                                                           \r"
     ]
    },
    {
     "name": "stdout",
     "output_type": "stream",
     "text": [
      "Train Loss: 1.0201 | Val Loss: 1.9607\n",
      "\n",
      "Epoch [3/50]\n"
     ]
    },
    {
     "name": "stderr",
     "output_type": "stream",
     "text": [
      "                                                           \r"
     ]
    },
    {
     "name": "stdout",
     "output_type": "stream",
     "text": [
      "Train Loss: 1.0045 | Val Loss: 1.9147\n",
      "\n",
      "Epoch [4/50]\n"
     ]
    },
    {
     "name": "stderr",
     "output_type": "stream",
     "text": [
      "                                                           \r"
     ]
    },
    {
     "name": "stdout",
     "output_type": "stream",
     "text": [
      "Train Loss: 0.9957 | Val Loss: 1.9161\n",
      "\n",
      "Epoch [5/50]\n"
     ]
    },
    {
     "name": "stderr",
     "output_type": "stream",
     "text": [
      "                                                           \r"
     ]
    },
    {
     "name": "stdout",
     "output_type": "stream",
     "text": [
      "Train Loss: 0.9912 | Val Loss: 1.9107\n",
      "\n",
      "Epoch [6/50]\n"
     ]
    },
    {
     "name": "stderr",
     "output_type": "stream",
     "text": [
      "                                                           \r"
     ]
    },
    {
     "name": "stdout",
     "output_type": "stream",
     "text": [
      "Train Loss: 0.9914 | Val Loss: 1.9136\n",
      "\n",
      "Epoch [7/50]\n"
     ]
    },
    {
     "name": "stderr",
     "output_type": "stream",
     "text": [
      "                                                           \r"
     ]
    },
    {
     "name": "stdout",
     "output_type": "stream",
     "text": [
      "Train Loss: 0.9910 | Val Loss: 1.9154\n",
      "⏹️ Early stopping triggered at epoch 7\n",
      "Finished training for gene: RCOR1\n",
      "Loading CSV and images...\n",
      "Training model for gene: SAV1 (Index: 13)\n",
      "\n",
      "Epoch [1/50]\n"
     ]
    },
    {
     "name": "stderr",
     "output_type": "stream",
     "text": [
      "                                                           \r"
     ]
    },
    {
     "name": "stdout",
     "output_type": "stream",
     "text": [
      "Train Loss: 1.3332 | Val Loss: 0.7092\n",
      "\n",
      "Epoch [2/50]\n"
     ]
    },
    {
     "name": "stderr",
     "output_type": "stream",
     "text": [
      "                                                           \r"
     ]
    },
    {
     "name": "stdout",
     "output_type": "stream",
     "text": [
      "Train Loss: 1.2652 | Val Loss: 0.7160\n",
      "\n",
      "Epoch [3/50]\n"
     ]
    },
    {
     "name": "stderr",
     "output_type": "stream",
     "text": [
      "                                                           \r"
     ]
    },
    {
     "name": "stdout",
     "output_type": "stream",
     "text": [
      "Train Loss: 1.2284 | Val Loss: 0.7247\n",
      "⏹️ Early stopping triggered at epoch 3\n",
      "Finished training for gene: SAV1\n"
     ]
    },
    {
     "data": {
      "image/png": "[encoded data removed]",
      "text/plain": [
       "<Figure size 1200x600 with 1 Axes>"
      ]
     },
     "metadata": {},
     "output_type": "display_data"
    },
    {
     "ename": "RuntimeError",
     "evalue": "Parent directory models does not exist.",
     "output_type": "error",
     "traceback": [
      "\u001b[31m---------------------------------------------------------------------------\u001b[39m",
      "\u001b[31mRuntimeError\u001b[39m                              Traceback (most recent call last)",
      "\u001b[36mCell\u001b[39m\u001b[36m \u001b[39m\u001b[32mIn[8]\u001b[39m\u001b[32m, line 83\u001b[39m\n\u001b[32m     81\u001b[39m top_gene = \u001b[38;5;28mlist\u001b[39m(gene_performance.keys())[\u001b[32m0\u001b[39m]\n\u001b[32m     82\u001b[39m top_model = gene_performance[top_gene][\u001b[33m'\u001b[39m\u001b[33mmodel\u001b[39m\u001b[33m'\u001b[39m]\n\u001b[32m---> \u001b[39m\u001b[32m83\u001b[39m \u001b[43mtorch\u001b[49m\u001b[43m.\u001b[49m\u001b[43msave\u001b[49m\u001b[43m(\u001b[49m\u001b[43mtop_model\u001b[49m\u001b[43m,\u001b[49m\u001b[43m \u001b[49m\u001b[33;43mf\u001b[39;49m\u001b[33;43m'\u001b[39;49m\u001b[33;43mmodels/top_gene_model_\u001b[39;49m\u001b[38;5;132;43;01m{\u001b[39;49;00m\u001b[43mtop_gene\u001b[49m\u001b[38;5;132;43;01m}\u001b[39;49;00m\u001b[33;43m.pth\u001b[39;49m\u001b[33;43m'\u001b[39;49m\u001b[43m)\u001b[49m\n",
      "\u001b[36mFile \u001b[39m\u001b[32m~\\AppData\\Local\\Packages\\PythonSoftwareFoundation.Python.3.11_qbz5n2kfra8p0\\LocalCache\\local-packages\\Python311\\site-packages\\torch\\serialization.py:964\u001b[39m, in \u001b[36msave\u001b[39m\u001b[34m(obj, f, pickle_module, pickle_protocol, _use_new_zipfile_serialization, _disable_byteorder_record)\u001b[39m\n\u001b[32m    961\u001b[39m     f = os.fspath(f)\n\u001b[32m    963\u001b[39m \u001b[38;5;28;01mif\u001b[39;00m _use_new_zipfile_serialization:\n\u001b[32m--> \u001b[39m\u001b[32m964\u001b[39m     \u001b[38;5;28;01mwith\u001b[39;00m \u001b[43m_open_zipfile_writer\u001b[49m\u001b[43m(\u001b[49m\u001b[43mf\u001b[49m\u001b[43m)\u001b[49m \u001b[38;5;28;01mas\u001b[39;00m opened_zipfile:\n\u001b[32m    965\u001b[39m         _save(\n\u001b[32m    966\u001b[39m             obj,\n\u001b[32m    967\u001b[39m             opened_zipfile,\n\u001b[32m   (...)\u001b[39m\u001b[32m    970\u001b[39m             _disable_byteorder_record,\n\u001b[32m    971\u001b[39m         )\n\u001b[32m    972\u001b[39m         \u001b[38;5;28;01mreturn\u001b[39;00m\n",
      "\u001b[36mFile \u001b[39m\u001b[32m~\\AppData\\Local\\Packages\\PythonSoftwareFoundation.Python.3.11_qbz5n2kfra8p0\\LocalCache\\local-packages\\Python311\\site-packages\\torch\\serialization.py:828\u001b[39m, in \u001b[36m_open_zipfile_writer\u001b[39m\u001b[34m(name_or_buffer)\u001b[39m\n\u001b[32m    826\u001b[39m \u001b[38;5;28;01melse\u001b[39;00m:\n\u001b[32m    827\u001b[39m     container = _open_zipfile_writer_buffer\n\u001b[32m--> \u001b[39m\u001b[32m828\u001b[39m \u001b[38;5;28;01mreturn\u001b[39;00m \u001b[43mcontainer\u001b[49m\u001b[43m(\u001b[49m\u001b[43mname_or_buffer\u001b[49m\u001b[43m)\u001b[49m\n",
      "\u001b[36mFile \u001b[39m\u001b[32m~\\AppData\\Local\\Packages\\PythonSoftwareFoundation.Python.3.11_qbz5n2kfra8p0\\LocalCache\\local-packages\\Python311\\site-packages\\torch\\serialization.py:792\u001b[39m, in \u001b[36m_open_zipfile_writer_file.__init__\u001b[39m\u001b[34m(self, name)\u001b[39m\n\u001b[32m    785\u001b[39m     \u001b[38;5;28msuper\u001b[39m().\u001b[34m__init__\u001b[39m(\n\u001b[32m    786\u001b[39m         torch._C.PyTorchFileWriter(\n\u001b[32m    787\u001b[39m             \u001b[38;5;28mself\u001b[39m.file_stream, get_crc32_options(), _get_storage_alignment()\n\u001b[32m    788\u001b[39m         )\n\u001b[32m    789\u001b[39m     )\n\u001b[32m    790\u001b[39m \u001b[38;5;28;01melse\u001b[39;00m:\n\u001b[32m    791\u001b[39m     \u001b[38;5;28msuper\u001b[39m().\u001b[34m__init__\u001b[39m(\n\u001b[32m--> \u001b[39m\u001b[32m792\u001b[39m         \u001b[43mtorch\u001b[49m\u001b[43m.\u001b[49m\u001b[43m_C\u001b[49m\u001b[43m.\u001b[49m\u001b[43mPyTorchFileWriter\u001b[49m\u001b[43m(\u001b[49m\n\u001b[32m    793\u001b[39m \u001b[43m            \u001b[49m\u001b[38;5;28;43mself\u001b[39;49m\u001b[43m.\u001b[49m\u001b[43mname\u001b[49m\u001b[43m,\u001b[49m\u001b[43m \u001b[49m\u001b[43mget_crc32_options\u001b[49m\u001b[43m(\u001b[49m\u001b[43m)\u001b[49m\u001b[43m,\u001b[49m\u001b[43m \u001b[49m\u001b[43m_get_storage_alignment\u001b[49m\u001b[43m(\u001b[49m\u001b[43m)\u001b[49m\n\u001b[32m    794\u001b[39m \u001b[43m        \u001b[49m\u001b[43m)\u001b[49m\n\u001b[32m    795\u001b[39m     )\n",
      "\u001b[31mRuntimeError\u001b[39m: Parent directory models does not exist."
     ]
    }
   ],
   "source": [
    "\n",
    "criterion = nn.MSELoss()\n",
    "\n",
    "batch_size = 1\n",
    "#want to store the models for each gene, the list of losses, list of vals, gene name as uid\n",
    "gene_performance = {}\n",
    "\n",
    "device = torch.device(\"cuda\" if torch.cuda.is_available() else \"cpu\")\n",
    "print(f\"Using device: {device}\")\n",
    "\n",
    "for gene_idx in range(4,14):\n",
    "    \n",
    "\n",
    "    # Update the dataset index for the current gene\n",
    "    dataset = PatientDicomDatasetSingleGeneByIndex(\n",
    "        root_dir='data/Images/NSCLC Radiogenomics',\n",
    "        csv_path='data/df_zscore.csv',\n",
    "        transform=transform,\n",
    "        index=gene_idx\n",
    "    )\n",
    "    train_size = int(0.7 * len(dataset))\n",
    "    val_size = int(0.15 * len(dataset))\n",
    "    test_size = len(dataset) - train_size - val_size\n",
    "\n",
    "    # Split the dataset\n",
    "    train_dataset, val_dataset, test_dataset = random_split(\n",
    "        dataset, [train_size, val_size, test_size]\n",
    "    )\n",
    "    _,_,_,gene_name = dataset[0]\n",
    "    print(f\"Training model for gene: {gene_name} (Index: {gene_idx})\")\n",
    "    # Update DataLoaders\n",
    "    train_loader = DataLoader(train_dataset, batch_size=batch_size, shuffle=True, collate_fn=collate_fn)\n",
    "    val_loader = DataLoader(val_dataset, batch_size=batch_size, shuffle=False, collate_fn=collate_fn)\n",
    "    test_loader = DataLoader(test_dataset, batch_size=batch_size, shuffle=False, collate_fn=collate_fn)\n",
    "\n",
    "    # Create a new model for the current gene\n",
    "    model = CNNToRNA(\n",
    "        cnn_encoder=MedicalImageCNN(output_dim=128),\n",
    "        embedding_dim=128,\n",
    "        output_dim=1  # Single output for the current gene\n",
    "    )\n",
    "    model.to(device)\n",
    "    optimizer = torch.optim.Adam(model.parameters(), lr=0.001)\n",
    "\n",
    "\n",
    "    # Train the model\n",
    "    train_losses, val_losses = train_model(\n",
    "        model, train_loader, val_loader,\n",
    "        criterion, optimizer, device, patience=2\n",
    "    )\n",
    "\n",
    "    # Store the losses for the current gene\n",
    "    gene_performance[gene_name] = {\n",
    "        'train_losses': train_losses,\n",
    "        'val_losses': val_losses,\n",
    "        'model': model,\n",
    "        'total_lost': val_losses[-1],  # Store the last validation loss\n",
    "        'gene_name': gene_name\n",
    "    }\n",
    "\n",
    "    print(f\"Finished training for gene: {gene_name}\")\n",
    "\n",
    "\n",
    "#sort by total_lost in descending order\n",
    "gene_performance = dict(sorted(gene_performance.items(), key=lambda item: item[1]['total_lost'], reverse=True))\n",
    "\n",
    "# Visualize losses for top 10 genes\n",
    "top_genes = list(gene_performance.keys())[:10]\n",
    "# top genes structure: {'gene_name': {'train_losses': [...], 'val_losses': [...], 'model': model, 'total_lost': value}}\n",
    "plt.figure(figsize=(12, 6))\n",
    "gene_losses = {gene: gene_performance[gene] for gene in top_genes}\n",
    "for gene, losses in gene_losses.items():\n",
    "    plt.plot(losses['train_losses'], label=f'{gene} - Training Loss')\n",
    "    plt.plot(losses['val_losses'], label=f'{gene} - Validation Loss')\n",
    "plt.xlabel('Epochs')\n",
    "plt.ylabel('Loss')\n",
    "plt.title('Training and Validation Losses for Top 10 Genes')\n",
    "plt.legend()\n",
    "plt.show()\n",
    "\n",
    "\n",
    "#save the top model\n",
    "top_gene = list(gene_performance.keys())[0]\n",
    "top_model = gene_performance[top_gene]['model']\n",
    "torch.save(top_model, f'models/top_gene_model_{top_gene}.pth')\n",
    "\n"
   ]
  },
  {
   "cell_type": "code",
   "execution_count": 9,
   "id": "fa28509c",
   "metadata": {},
   "outputs": [],
   "source": [
    "top_model = gene_performance[top_gene]['model']\n",
    "torch.save(top_model, f'models/top_gene_model_{top_gene}.pth')"
   ]
  },
  {
   "cell_type": "code",
   "execution_count": 10,
   "id": "589dca2b",
   "metadata": {},
   "outputs": [
    {
     "name": "stderr",
     "output_type": "stream",
     "text": [
      "                                                        "
     ]
    },
    {
     "name": "stdout",
     "output_type": "stream",
     "text": [
      "Test MSE: 0.1547759473323822\n",
      "Test R² : -9.104867935180664\n"
     ]
    },
    {
     "name": "stderr",
     "output_type": "stream",
     "text": [
      "\r"
     ]
    }
   ],
   "source": [
    "import torch\n",
    "import numpy as np\n",
    "from tqdm import tqdm\n",
    "\n",
    "def test_model(model, test_loader, device):\n",
    "    model.eval()\n",
    "    model.to(device)\n",
    "\n",
    "    all_predictions = []\n",
    "    all_targets = []\n",
    "\n",
    "    with torch.no_grad():\n",
    "        for images, _, gene_values, _ in tqdm(test_loader, desc=\"Testing\", leave=False):\n",
    "            images = images.to(device)\n",
    "            gene_values = gene_values.to(device)\n",
    "\n",
    "            outputs = model(images)\n",
    "\n",
    "            all_predictions.append(outputs.cpu().numpy())\n",
    "            all_targets.append(gene_values.cpu().numpy())\n",
    "\n",
    "    preds = np.concatenate(all_predictions, axis=0)\n",
    "    targets = np.concatenate(all_targets, axis=0)\n",
    "\n",
    "    return preds, targets\n",
    "\n",
    "test_loader = DataLoader(test_dataset, batch_size=batch_size, shuffle=False, collate_fn=collate_fn)\n",
    "preds, labels = test_model(model, test_loader, device)\n",
    "\n",
    "print(\"Test MSE:\", mean_squared_error(labels, preds))\n",
    "print(\"Test R² :\", r2_score(labels, preds))  # Good for regression quality"
   ]
  },
  {
   "cell_type": "markdown",
   "id": "a68b358c",
   "metadata": {},
   "source": [
    "Using device: cuda\n",
    "Loading CSV and images...\n",
    "Training model for gene: TOR1AIP1 (Index: 0)\n",
    "\n",
    "Epoch [1/50]\n",
    "                                                           \n",
    "Train Loss: 1.2124 | Val Loss: 1.0963\n",
    "\n",
    "Epoch [2/50]\n",
    "                                                           \n",
    "Train Loss: 0.9965 | Val Loss: 1.1295\n",
    "\n",
    "Epoch [3/50]\n",
    "                                                           \n",
    "Train Loss: 0.9968 | Val Loss: 1.0111\n",
    "\n",
    "Epoch [4/50]\n",
    "                                                           \n",
    "Train Loss: 1.0476 | Val Loss: 1.0684\n",
    "\n",
    "Epoch [5/50]\n",
    "                                                           \n",
    "Train Loss: 0.9974 | Val Loss: 1.1030\n",
    "⏹️ Early stopping triggered at epoch 5\n",
    "Finished training for gene: T\n",
    "Loading CSV and images...\n",
    "Training model for gene: CHD7 (Index: 1)\n",
    "\n",
    "Epoch [1/50]\n",
    "                                                           \n",
    "Train Loss: 1.0388 | Val Loss: 0.9577\n",
    "\n",
    "Epoch [2/50]\n",
    "                                                           \n",
    "Train Loss: 1.0117 | Val Loss: 0.9599\n",
    "\n",
    "Epoch [3/50]\n",
    "                                                           \n",
    "Train Loss: 0.9990 | Val Loss: 0.9664\n",
    "⏹️ Early stopping triggered at epoch 3\n",
    "Finished training for gene: H\n",
    "Loading CSV and images...\n",
    "Training model for gene: ZFYVE26 (Index: 2)\n",
    "\n",
    "Epoch [1/50]\n",
    "                                                           \n",
    "Train Loss: 1.0488 | Val Loss: 1.2646\n",
    "\n",
    "Epoch [2/50]\n",
    "                                                           \n",
    "Train Loss: 0.9712 | Val Loss: 1.3228\n",
    "\n",
    "Epoch [3/50]\n",
    "                                                           \n",
    "Train Loss: 0.9699 | Val Loss: 1.2495\n",
    "\n",
    "Epoch [4/50]\n",
    "                                                           \n",
    "Train Loss: 0.9638 | Val Loss: 1.2301\n",
    "\n",
    "Epoch [5/50]\n",
    "                                                           \n",
    "Train Loss: 0.9582 | Val Loss: 1.2411\n",
    "\n",
    "Epoch [6/50]\n",
    "                                                           \n",
    "Train Loss: 0.9625 | Val Loss: 1.2595\n",
    "⏹️ Early stopping triggered at epoch 6\n",
    "Finished training for gene: Y\n",
    "Loading CSV and images...\n",
    "⚠️ Skipping patient R01-105 due to NaN gene value for NAA38\n",
    "⚠️ Skipping patient R01-117 due to NaN gene value for NAA38\n",
    "Training model for gene: NAA38 (Index: 3)\n",
    "\n",
    "Epoch [1/50]\n",
    "                                                           \n",
    "Train Loss: 1.1192 | Val Loss: 1.3882\n",
    "\n",
    "Epoch [2/50]\n",
    "                                                           \n",
    "Train Loss: 1.0048 | Val Loss: 1.4121\n",
    "\n",
    "Epoch [3/50]\n",
    "                                                           \n",
    "Train Loss: 1.0017 | Val Loss: 1.3954\n",
    "⏹️ Early stopping triggered at epoch 3\n",
    "Finished training for gene: 3\n",
    "Loading CSV and images...\n",
    "⚠️ Skipping patient R01-059 due to NaN gene value for CASP2\n",
    "Training model for gene: CASP2 (Index: 4)\n",
    "\n",
    "Epoch [1/50]\n",
    "                                                           \n",
    "Train Loss: 0.8814 | Val Loss: 1.2944\n",
    "\n",
    "Epoch [2/50]\n",
    "                                                           \n",
    "Train Loss: 0.8641 | Val Loss: 1.2921\n",
    "\n",
    "Epoch [3/50]\n",
    "                                                           \n",
    "Train Loss: 0.8583 | Val Loss: 1.2769\n",
    "\n",
    "Epoch [4/50]\n",
    "                                                           \n",
    "Train Loss: 0.8601 | Val Loss: 1.2701\n",
    "\n",
    "Epoch [5/50]\n",
    "                                                           \n",
    "Train Loss: 0.8577 | Val Loss: 1.2807\n",
    "\n",
    "Epoch [6/50]\n",
    "                                                           \n",
    "Train Loss: 0.8582 | Val Loss: 1.2700\n",
    "⏹️ Early stopping triggered at epoch 6\n",
    "Finished training for gene: 2\n",
    "Loading CSV and images...\n",
    "⚠️ Skipping patient R01-005 due to NaN gene value for DLG2\n",
    "⚠️ Skipping patient R01-037 due to NaN gene value for DLG2\n",
    "⚠️ Skipping patient R01-046 due to NaN gene value for DLG2\n",
    "⚠️ Skipping patient R01-052 due to NaN gene value for DLG2\n",
    "⚠️ Skipping patient R01-054 due to NaN gene value for DLG2\n",
    "⚠️ Skipping patient R01-059 due to NaN gene value for DLG2\n",
    "⚠️ Skipping patient R01-069 due to NaN gene value for DLG2\n",
    "⚠️ Skipping patient R01-072 due to NaN gene value for DLG2\n",
    "⚠️ Skipping patient R01-150 due to NaN gene value for DLG2\n",
    "⚠️ Skipping patient R01-157 due to NaN gene value for DLG2\n",
    "Training model for gene: DLG2 (Index: 5)\n",
    "\n",
    "Epoch [1/50]\n",
    "                                                           \n",
    "Train Loss: 1.0904 | Val Loss: 0.8995\n",
    "\n",
    "Epoch [2/50]\n",
    "                                                           \n",
    "Train Loss: 0.9568 | Val Loss: 0.7646\n",
    "\n",
    "Epoch [3/50]\n",
    "                                                           \n",
    "Train Loss: 0.5789 | Val Loss: 1.4091\n",
    "\n",
    "Epoch [4/50]\n",
    "                                                           \n",
    "Train Loss: 0.4650 | Val Loss: 0.5233\n",
    "\n",
    "Epoch [5/50]\n",
    "                                                           \n",
    "Train Loss: 0.4338 | Val Loss: 0.7821\n",
    "\n",
    "Epoch [6/50]\n",
    "                                                           \n",
    "Train Loss: 0.2997 | Val Loss: 1.1243\n",
    "⏹️ Early stopping triggered at epoch 6\n",
    "\n",
    "\n",
    "^^had a bug with a print statement but wanted to document this"
   ]
  }
 ],
 "metadata": {
  "kernelspec": {
   "display_name": "Python 3",
   "language": "python",
   "name": "python3"
  },
  "language_info": {
   "codemirror_mode": {
    "name": "ipython",
    "version": 3
   },
   "file_extension": ".py",
   "mimetype": "text/x-python",
   "name": "python",
   "nbconvert_exporter": "python",
   "pygments_lexer": "ipython3",
   "version": "3.11.9"
  }
 },
 "nbformat": 4,
 "nbformat_minor": 5
}
