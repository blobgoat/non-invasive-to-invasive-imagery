{
 "cells": [
  {
   "cell_type": "code",
   "execution_count": 1,
   "id": "11cba5da",
   "metadata": {},
   "outputs": [],
   "source": [
    "\n",
    "import os\n",
    "import torch\n",
    "from torch.utils.data import Dataset, DataLoader\n",
    "import pydicom\n",
    "import numpy as np\n",
    "from torchvision import transforms\n",
    "import pandas as pd\n",
    "from sklearn.preprocessing import StandardScaler\n",
    "from sklearn.metrics import mean_squared_error, r2_score\n",
    "import torch.nn as nn\n",
    "from torch.utils.data import random_split\n",
    "from model import MedicalImageCNN, CNNToRNA,CNNClassifier, train_model\n",
    "import matplotlib.pyplot as plt\n",
    "\n",
    "from helper import collate_fn\n",
    "device = torch.device(\"cpu\")"
   ]
  },
  {
   "cell_type": "markdown",
   "id": "4f57076f",
   "metadata": {},
   "source": [
    "this shows that the image loader works, in rna preprocessing we already sorted everything so no worries and can take index to simply get the indexeth important gene"
   ]
  },
  {
   "cell_type": "code",
   "execution_count": 2,
   "id": "108d80bf",
   "metadata": {},
   "outputs": [
    {
     "name": "stdout",
     "output_type": "stream",
     "text": [
      "Loading CSV and images...\n",
      "⚠️ Skipping patient R01-105 due to NaN gene value for NAA38\n",
      "⚠️ Skipping patient R01-117 due to NaN gene value for NAA38\n",
      "Dataset length: 128\n",
      "Image tensor shape: torch.Size([1, 224, 224])\n",
      "gene_value: tensor(2)\n",
      "gene_name: NAA38\n"
     ]
    }
   ],
   "source": [
    "\n",
    "from helper import PatientDicomDatasetSingleGeneByIndexClass\n",
    "\n",
    "transform = transforms.Compose([\n",
    "    transforms.Resize((224, 224)),\n",
    "    transforms.Normalize(mean=[0.5], std=[0.5])\n",
    "])\n",
    "if not os.path.exists('data/Images/NSCLC Radiogenomics'):\n",
    "         raise FileNotFoundError(\"The directory 'data/Images/NSCLC Radiogenomics' does not exist.\")\n",
    "if not os.path.exists('data/df_zscore.csv'):\n",
    "         raise FileNotFoundError(\"The file 'data/df_zscore.csv' does not exist.\")\n",
    "# Verify that the dataset is properly loaded\n",
    "dataset =PatientDicomDatasetSingleGeneByIndexClass(root_dir='data/Images/NSCLC Radiogenomics', csv_path='data/df_zscore.csv', transform=transform, index=3)\n",
    "\n",
    "# Check the length of the dataset to ensure it is not empty\n",
    "if len(dataset) == 0:\n",
    "    raise ValueError(\"The dataset is empty. Please check the root_dir and csv_path for correctness.\")\n",
    "print(\"Dataset length:\", len(dataset))\n",
    "\n",
    "images, patient_id, gene_value, gene_name = dataset[2]\n",
    "\n",
    "print(\"Image tensor shape:\", images[0].shape)\n",
    "print('gene_value:', gene_value)\n",
    "print('gene_name:', gene_name)"
   ]
  },
  {
   "cell_type": "code",
   "execution_count": 3,
   "id": "92881311",
   "metadata": {},
   "outputs": [],
   "source": [
    "train_size = int(0.7 * len(dataset))\n",
    "val_size = int(0.15 * len(dataset))\n",
    "test_size = len(dataset) - train_size - val_size"
   ]
  },
  {
   "cell_type": "markdown",
   "id": "0a89a62a",
   "metadata": {},
   "source": [
    "now we are going to train a model for each gene and extract the train loses and val losses to identify meaningful genes\n",
    "\n",
    "lets do the top 10"
   ]
  },
  {
   "cell_type": "code",
   "execution_count": null,
   "id": "40d10d9a",
   "metadata": {},
   "outputs": [],
   "source": []
  },
  {
   "cell_type": "code",
   "execution_count": 5,
   "id": "990ab3fb",
   "metadata": {},
   "outputs": [
    {
     "name": "stdout",
     "output_type": "stream",
     "text": [
      "Using device: cuda\n",
      "Loading CSV and images...\n",
      "Training model for gene: TOR1AIP1 (Index: 0)\n",
      "\n",
      "Epoch [1/50]\n"
     ]
    },
    {
     "name": "stderr",
     "output_type": "stream",
     "text": [
      "                                                           \r"
     ]
    },
    {
     "name": "stdout",
     "output_type": "stream",
     "text": [
      "Train Loss: 1.1275 | Val Loss: 1.0959\n",
      "\n",
      "Epoch [2/50]\n"
     ]
    },
    {
     "name": "stderr",
     "output_type": "stream",
     "text": [
      "                                                           \r"
     ]
    },
    {
     "name": "stdout",
     "output_type": "stream",
     "text": [
      "Train Loss: 1.0980 | Val Loss: 1.0912\n",
      "\n",
      "Epoch [3/50]\n"
     ]
    },
    {
     "name": "stderr",
     "output_type": "stream",
     "text": [
      "                                                           \r"
     ]
    },
    {
     "name": "stdout",
     "output_type": "stream",
     "text": [
      "Train Loss: 1.0725 | Val Loss: 1.0189\n",
      "\n",
      "Epoch [4/50]\n"
     ]
    },
    {
     "name": "stderr",
     "output_type": "stream",
     "text": [
      "                                                           \r"
     ]
    },
    {
     "name": "stdout",
     "output_type": "stream",
     "text": [
      "Train Loss: 0.9582 | Val Loss: 0.9907\n",
      "\n",
      "Epoch [5/50]\n"
     ]
    },
    {
     "name": "stderr",
     "output_type": "stream",
     "text": [
      "                                                           \r"
     ]
    },
    {
     "name": "stdout",
     "output_type": "stream",
     "text": [
      "Train Loss: 0.8963 | Val Loss: 1.0056\n",
      "\n",
      "Epoch [6/50]\n"
     ]
    },
    {
     "name": "stderr",
     "output_type": "stream",
     "text": [
      "                                                           \r"
     ]
    },
    {
     "name": "stdout",
     "output_type": "stream",
     "text": [
      "Train Loss: 0.8341 | Val Loss: 1.0813\n",
      "⏹️ Early stopping triggered at epoch 6\n",
      "Finished training for gene: TOR1AIP1\n",
      "Loading CSV and images...\n",
      "Training model for gene: CHD7 (Index: 1)\n",
      "\n",
      "Epoch [1/50]\n"
     ]
    },
    {
     "name": "stderr",
     "output_type": "stream",
     "text": [
      "                                                           \r"
     ]
    },
    {
     "name": "stdout",
     "output_type": "stream",
     "text": [
      "Train Loss: 1.2938 | Val Loss: 0.4172\n",
      "\n",
      "Epoch [2/50]\n"
     ]
    },
    {
     "name": "stderr",
     "output_type": "stream",
     "text": [
      "                                                           \r"
     ]
    },
    {
     "name": "stdout",
     "output_type": "stream",
     "text": [
      "Train Loss: 0.5658 | Val Loss: 0.3686\n",
      "\n",
      "Epoch [3/50]\n"
     ]
    },
    {
     "name": "stderr",
     "output_type": "stream",
     "text": [
      "                                                           \r"
     ]
    },
    {
     "name": "stdout",
     "output_type": "stream",
     "text": [
      "Train Loss: 0.5171 | Val Loss: 0.3624\n",
      "\n",
      "Epoch [4/50]\n"
     ]
    },
    {
     "name": "stderr",
     "output_type": "stream",
     "text": [
      "                                                           \r"
     ]
    },
    {
     "name": "stdout",
     "output_type": "stream",
     "text": [
      "Train Loss: 0.4904 | Val Loss: 0.3765\n",
      "\n",
      "Epoch [5/50]\n"
     ]
    },
    {
     "name": "stderr",
     "output_type": "stream",
     "text": [
      "                                                           \r"
     ]
    },
    {
     "name": "stdout",
     "output_type": "stream",
     "text": [
      "Train Loss: 0.4998 | Val Loss: 0.4147\n",
      "⏹️ Early stopping triggered at epoch 5\n",
      "Finished training for gene: CHD7\n",
      "Loading CSV and images...\n",
      "Training model for gene: ZFYVE26 (Index: 2)\n",
      "\n",
      "Epoch [1/50]\n"
     ]
    },
    {
     "name": "stderr",
     "output_type": "stream",
     "text": [
      "                                                           \r"
     ]
    },
    {
     "name": "stdout",
     "output_type": "stream",
     "text": [
      "Train Loss: 1.2300 | Val Loss: 0.7266\n",
      "\n",
      "Epoch [2/50]\n"
     ]
    },
    {
     "name": "stderr",
     "output_type": "stream",
     "text": [
      "                                                           \r"
     ]
    },
    {
     "name": "stdout",
     "output_type": "stream",
     "text": [
      "Train Loss: 0.5952 | Val Loss: 0.8705\n",
      "\n",
      "Epoch [3/50]\n"
     ]
    },
    {
     "name": "stderr",
     "output_type": "stream",
     "text": [
      "                                                           \r"
     ]
    },
    {
     "name": "stdout",
     "output_type": "stream",
     "text": [
      "Train Loss: 0.6008 | Val Loss: 0.7219\n",
      "\n",
      "Epoch [4/50]\n"
     ]
    },
    {
     "name": "stderr",
     "output_type": "stream",
     "text": [
      "                                                           \r"
     ]
    },
    {
     "name": "stdout",
     "output_type": "stream",
     "text": [
      "Train Loss: 0.6009 | Val Loss: 0.7317\n",
      "\n",
      "Epoch [5/50]\n"
     ]
    },
    {
     "name": "stderr",
     "output_type": "stream",
     "text": [
      "                                                           \r"
     ]
    },
    {
     "name": "stdout",
     "output_type": "stream",
     "text": [
      "Train Loss: 0.5730 | Val Loss: 0.6574\n",
      "\n",
      "Epoch [6/50]\n"
     ]
    },
    {
     "name": "stderr",
     "output_type": "stream",
     "text": [
      "                                                           \r"
     ]
    },
    {
     "name": "stdout",
     "output_type": "stream",
     "text": [
      "Train Loss: 0.6064 | Val Loss: 0.6687\n",
      "\n",
      "Epoch [7/50]\n"
     ]
    },
    {
     "name": "stderr",
     "output_type": "stream",
     "text": [
      "                                                           \r"
     ]
    },
    {
     "name": "stdout",
     "output_type": "stream",
     "text": [
      "Train Loss: 0.5873 | Val Loss: 0.6604\n",
      "⏹️ Early stopping triggered at epoch 7\n",
      "Finished training for gene: ZFYVE26\n",
      "Loading CSV and images...\n",
      "⚠️ Skipping patient R01-105 due to NaN gene value for NAA38\n",
      "⚠️ Skipping patient R01-117 due to NaN gene value for NAA38\n",
      "Training model for gene: NAA38 (Index: 3)\n",
      "\n",
      "Epoch [1/50]\n"
     ]
    },
    {
     "name": "stderr",
     "output_type": "stream",
     "text": [
      "                                                           \r"
     ]
    },
    {
     "name": "stdout",
     "output_type": "stream",
     "text": [
      "Train Loss: 1.2635 | Val Loss: 0.5109\n",
      "\n",
      "Epoch [2/50]\n"
     ]
    },
    {
     "name": "stderr",
     "output_type": "stream",
     "text": [
      "                                                           \r"
     ]
    },
    {
     "name": "stdout",
     "output_type": "stream",
     "text": [
      "Train Loss: 0.4584 | Val Loss: 0.4208\n",
      "\n",
      "Epoch [3/50]\n"
     ]
    },
    {
     "name": "stderr",
     "output_type": "stream",
     "text": [
      "                                                           \r"
     ]
    },
    {
     "name": "stdout",
     "output_type": "stream",
     "text": [
      "Train Loss: 0.4559 | Val Loss: 0.4472\n",
      "\n",
      "Epoch [4/50]\n"
     ]
    },
    {
     "name": "stderr",
     "output_type": "stream",
     "text": [
      "                                                           \r"
     ]
    },
    {
     "name": "stdout",
     "output_type": "stream",
     "text": [
      "Train Loss: 0.3990 | Val Loss: 0.6550\n",
      "⏹️ Early stopping triggered at epoch 4\n",
      "Finished training for gene: NAA38\n",
      "Loading CSV and images...\n",
      "⚠️ Skipping patient R01-059 due to NaN gene value for CASP2\n",
      "Training model for gene: CASP2 (Index: 4)\n",
      "\n",
      "Epoch [1/50]\n"
     ]
    },
    {
     "name": "stderr",
     "output_type": "stream",
     "text": [
      "                                                           \r"
     ]
    },
    {
     "name": "stdout",
     "output_type": "stream",
     "text": [
      "Train Loss: 1.7307 | Val Loss: 0.8086\n",
      "\n",
      "Epoch [2/50]\n"
     ]
    },
    {
     "name": "stderr",
     "output_type": "stream",
     "text": [
      "                                                           \r"
     ]
    },
    {
     "name": "stdout",
     "output_type": "stream",
     "text": [
      "Train Loss: 0.3183 | Val Loss: 0.4454\n",
      "\n",
      "Epoch [3/50]\n"
     ]
    },
    {
     "name": "stderr",
     "output_type": "stream",
     "text": [
      "                                                           \r"
     ]
    },
    {
     "name": "stdout",
     "output_type": "stream",
     "text": [
      "Train Loss: 0.3295 | Val Loss: 0.6050\n",
      "\n",
      "Epoch [4/50]\n"
     ]
    },
    {
     "name": "stderr",
     "output_type": "stream",
     "text": [
      "                                                           \r"
     ]
    },
    {
     "name": "stdout",
     "output_type": "stream",
     "text": [
      "Train Loss: 0.3278 | Val Loss: 0.5689\n",
      "⏹️ Early stopping triggered at epoch 4\n",
      "Finished training for gene: CASP2\n",
      "Loading CSV and images...\n",
      "⚠️ Skipping patient R01-005 due to NaN gene value for DLG2\n",
      "⚠️ Skipping patient R01-037 due to NaN gene value for DLG2\n",
      "⚠️ Skipping patient R01-046 due to NaN gene value for DLG2\n",
      "⚠️ Skipping patient R01-052 due to NaN gene value for DLG2\n",
      "⚠️ Skipping patient R01-054 due to NaN gene value for DLG2\n",
      "⚠️ Skipping patient R01-059 due to NaN gene value for DLG2\n",
      "⚠️ Skipping patient R01-069 due to NaN gene value for DLG2\n",
      "⚠️ Skipping patient R01-072 due to NaN gene value for DLG2\n",
      "⚠️ Skipping patient R01-150 due to NaN gene value for DLG2\n",
      "⚠️ Skipping patient R01-157 due to NaN gene value for DLG2\n",
      "Training model for gene: DLG2 (Index: 5)\n",
      "\n",
      "Epoch [1/50]\n"
     ]
    },
    {
     "name": "stderr",
     "output_type": "stream",
     "text": [
      "                                                           \r"
     ]
    },
    {
     "name": "stdout",
     "output_type": "stream",
     "text": [
      "Train Loss: 1.0972 | Val Loss: 1.1007\n",
      "\n",
      "Epoch [2/50]\n"
     ]
    },
    {
     "name": "stderr",
     "output_type": "stream",
     "text": [
      "                                                           \r"
     ]
    },
    {
     "name": "stdout",
     "output_type": "stream",
     "text": [
      "Train Loss: 1.0647 | Val Loss: 1.1210\n",
      "\n",
      "Epoch [3/50]\n"
     ]
    },
    {
     "name": "stderr",
     "output_type": "stream",
     "text": [
      "                                                           \r"
     ]
    },
    {
     "name": "stdout",
     "output_type": "stream",
     "text": [
      "Train Loss: 1.0344 | Val Loss: 1.1548\n",
      "⏹️ Early stopping triggered at epoch 3\n",
      "Finished training for gene: DLG2\n",
      "Loading CSV and images...\n",
      "⚠️ Skipping patient R01-018 due to NaN gene value for DNAL1\n",
      "Training model for gene: DNAL1 (Index: 6)\n",
      "\n",
      "Epoch [1/50]\n"
     ]
    },
    {
     "name": "stderr",
     "output_type": "stream",
     "text": [
      "                                                           \r"
     ]
    },
    {
     "name": "stdout",
     "output_type": "stream",
     "text": [
      "Train Loss: 1.7788 | Val Loss: 0.4187\n",
      "\n",
      "Epoch [2/50]\n"
     ]
    },
    {
     "name": "stderr",
     "output_type": "stream",
     "text": [
      "                                                           \r"
     ]
    },
    {
     "name": "stdout",
     "output_type": "stream",
     "text": [
      "Train Loss: 0.4384 | Val Loss: 0.4556\n",
      "\n",
      "Epoch [3/50]\n"
     ]
    },
    {
     "name": "stderr",
     "output_type": "stream",
     "text": [
      "                                                           \r"
     ]
    },
    {
     "name": "stdout",
     "output_type": "stream",
     "text": [
      "Train Loss: 0.5236 | Val Loss: 0.4137\n",
      "\n",
      "Epoch [4/50]\n"
     ]
    },
    {
     "name": "stderr",
     "output_type": "stream",
     "text": [
      "                                                           \r"
     ]
    },
    {
     "name": "stdout",
     "output_type": "stream",
     "text": [
      "Train Loss: 0.4204 | Val Loss: 0.4386\n",
      "\n",
      "Epoch [5/50]\n"
     ]
    },
    {
     "name": "stderr",
     "output_type": "stream",
     "text": [
      "                                                           \r"
     ]
    },
    {
     "name": "stdout",
     "output_type": "stream",
     "text": [
      "Train Loss: 0.3941 | Val Loss: 0.5517\n",
      "⏹️ Early stopping triggered at epoch 5\n",
      "Finished training for gene: DNAL1\n",
      "Loading CSV and images...\n",
      "⚠️ Skipping patient R01-004 due to NaN gene value for ANKRD30BL\n",
      "⚠️ Skipping patient R01-043 due to NaN gene value for ANKRD30BL\n",
      "⚠️ Skipping patient R01-052 due to NaN gene value for ANKRD30BL\n",
      "⚠️ Skipping patient R01-056 due to NaN gene value for ANKRD30BL\n",
      "⚠️ Skipping patient R01-062 due to NaN gene value for ANKRD30BL\n",
      "⚠️ Skipping patient R01-077 due to NaN gene value for ANKRD30BL\n",
      "⚠️ Skipping patient R01-094 due to NaN gene value for ANKRD30BL\n",
      "⚠️ Skipping patient R01-153 due to NaN gene value for ANKRD30BL\n",
      "⚠️ Skipping patient R01-156 due to NaN gene value for ANKRD30BL\n",
      "⚠️ Skipping patient R01-157 due to NaN gene value for ANKRD30BL\n",
      "⚠️ Skipping patient R01-159 due to NaN gene value for ANKRD30BL\n",
      "Training model for gene: ANKRD30BL (Index: 7)\n",
      "\n",
      "Epoch [1/50]\n"
     ]
    },
    {
     "name": "stderr",
     "output_type": "stream",
     "text": [
      "                                                           \r"
     ]
    },
    {
     "name": "stdout",
     "output_type": "stream",
     "text": [
      "Train Loss: 1.0459 | Val Loss: 1.0026\n",
      "\n",
      "Epoch [2/50]\n"
     ]
    },
    {
     "name": "stderr",
     "output_type": "stream",
     "text": [
      "                                                           \r"
     ]
    },
    {
     "name": "stdout",
     "output_type": "stream",
     "text": [
      "Train Loss: 0.9252 | Val Loss: 1.0246\n",
      "\n",
      "Epoch [3/50]\n"
     ]
    },
    {
     "name": "stderr",
     "output_type": "stream",
     "text": [
      "                                                           \r"
     ]
    },
    {
     "name": "stdout",
     "output_type": "stream",
     "text": [
      "Train Loss: 0.9198 | Val Loss: 1.0504\n",
      "⏹️ Early stopping triggered at epoch 3\n",
      "Finished training for gene: ANKRD30BL\n",
      "Loading CSV and images...\n",
      "⚠️ Skipping patient R01-051 due to NaN gene value for ORAI2\n",
      "⚠️ Skipping patient R01-052 due to NaN gene value for ORAI2\n",
      "⚠️ Skipping patient R01-069 due to NaN gene value for ORAI2\n",
      "Training model for gene: ORAI2 (Index: 8)\n",
      "\n",
      "Epoch [1/50]\n"
     ]
    },
    {
     "name": "stderr",
     "output_type": "stream",
     "text": [
      "                                                           \r"
     ]
    },
    {
     "name": "stdout",
     "output_type": "stream",
     "text": [
      "Train Loss: 1.1309 | Val Loss: 0.0484\n",
      "\n",
      "Epoch [2/50]\n"
     ]
    },
    {
     "name": "stderr",
     "output_type": "stream",
     "text": [
      "                                                           \r"
     ]
    },
    {
     "name": "stdout",
     "output_type": "stream",
     "text": [
      "Train Loss: 0.3952 | Val Loss: 0.0859\n",
      "\n",
      "Epoch [3/50]\n"
     ]
    },
    {
     "name": "stderr",
     "output_type": "stream",
     "text": [
      "                                                           \r"
     ]
    },
    {
     "name": "stdout",
     "output_type": "stream",
     "text": [
      "Train Loss: 0.4042 | Val Loss: 0.0136\n",
      "\n",
      "Epoch [4/50]\n"
     ]
    },
    {
     "name": "stderr",
     "output_type": "stream",
     "text": [
      "                                                           \r"
     ]
    },
    {
     "name": "stdout",
     "output_type": "stream",
     "text": [
      "Train Loss: 0.3626 | Val Loss: 0.0732\n",
      "\n",
      "Epoch [5/50]\n"
     ]
    },
    {
     "name": "stderr",
     "output_type": "stream",
     "text": [
      "                                                           \r"
     ]
    },
    {
     "name": "stdout",
     "output_type": "stream",
     "text": [
      "Train Loss: 0.4124 | Val Loss: 0.1918\n",
      "⏹️ Early stopping triggered at epoch 5\n",
      "Finished training for gene: ORAI2\n",
      "Loading CSV and images...\n",
      "⚠️ Skipping patient R01-013 due to NaN gene value for PDE3A\n",
      "⚠️ Skipping patient R01-018 due to NaN gene value for PDE3A\n",
      "⚠️ Skipping patient R01-021 due to NaN gene value for PDE3A\n",
      "⚠️ Skipping patient R01-022 due to NaN gene value for PDE3A\n",
      "⚠️ Skipping patient R01-027 due to NaN gene value for PDE3A\n",
      "⚠️ Skipping patient R01-037 due to NaN gene value for PDE3A\n",
      "⚠️ Skipping patient R01-052 due to NaN gene value for PDE3A\n",
      "⚠️ Skipping patient R01-061 due to NaN gene value for PDE3A\n",
      "⚠️ Skipping patient R01-065 due to NaN gene value for PDE3A\n",
      "⚠️ Skipping patient R01-069 due to NaN gene value for PDE3A\n",
      "⚠️ Skipping patient R01-073 due to NaN gene value for PDE3A\n",
      "⚠️ Skipping patient R01-093 due to NaN gene value for PDE3A\n",
      "⚠️ Skipping patient R01-096 due to NaN gene value for PDE3A\n",
      "⚠️ Skipping patient R01-160 due to NaN gene value for PDE3A\n",
      "Training model for gene: PDE3A (Index: 9)\n",
      "\n",
      "Epoch [1/50]\n"
     ]
    },
    {
     "name": "stderr",
     "output_type": "stream",
     "text": [
      "                                                           \r"
     ]
    },
    {
     "name": "stdout",
     "output_type": "stream",
     "text": [
      "Train Loss: 1.0717 | Val Loss: 1.1332\n",
      "\n",
      "Epoch [2/50]\n"
     ]
    },
    {
     "name": "stderr",
     "output_type": "stream",
     "text": [
      "                                                           \r"
     ]
    },
    {
     "name": "stdout",
     "output_type": "stream",
     "text": [
      "Train Loss: 0.9549 | Val Loss: 1.2067\n",
      "\n",
      "Epoch [3/50]\n"
     ]
    },
    {
     "name": "stderr",
     "output_type": "stream",
     "text": [
      "                                                           \r"
     ]
    },
    {
     "name": "stdout",
     "output_type": "stream",
     "text": [
      "Train Loss: 0.9426 | Val Loss: 1.0708\n",
      "\n",
      "Epoch [4/50]\n"
     ]
    },
    {
     "name": "stderr",
     "output_type": "stream",
     "text": [
      "                                                           \r"
     ]
    },
    {
     "name": "stdout",
     "output_type": "stream",
     "text": [
      "Train Loss: 0.9987 | Val Loss: 1.0538\n",
      "\n",
      "Epoch [5/50]\n"
     ]
    },
    {
     "name": "stderr",
     "output_type": "stream",
     "text": [
      "                                                           \r"
     ]
    },
    {
     "name": "stdout",
     "output_type": "stream",
     "text": [
      "Train Loss: 0.9422 | Val Loss: 1.1086\n",
      "\n",
      "Epoch [6/50]\n"
     ]
    },
    {
     "name": "stderr",
     "output_type": "stream",
     "text": [
      "                                                           \r"
     ]
    },
    {
     "name": "stdout",
     "output_type": "stream",
     "text": [
      "Train Loss: 0.9347 | Val Loss: 1.2712\n",
      "⏹️ Early stopping triggered at epoch 6\n",
      "Finished training for gene: PDE3A\n",
      "Loading CSV and images...\n",
      "Training model for gene: SEC22A (Index: 10)\n",
      "\n",
      "Epoch [1/50]\n"
     ]
    },
    {
     "name": "stderr",
     "output_type": "stream",
     "text": [
      "                                                           \r"
     ]
    },
    {
     "name": "stdout",
     "output_type": "stream",
     "text": [
      "Train Loss: 1.6747 | Val Loss: 0.6776\n",
      "\n",
      "Epoch [2/50]\n"
     ]
    },
    {
     "name": "stderr",
     "output_type": "stream",
     "text": [
      "                                                           \r"
     ]
    },
    {
     "name": "stdout",
     "output_type": "stream",
     "text": [
      "Train Loss: 0.4802 | Val Loss: 0.4968\n",
      "\n",
      "Epoch [3/50]\n"
     ]
    },
    {
     "name": "stderr",
     "output_type": "stream",
     "text": [
      "                                                           \r"
     ]
    },
    {
     "name": "stdout",
     "output_type": "stream",
     "text": [
      "Train Loss: 0.3932 | Val Loss: 0.3354\n",
      "\n",
      "Epoch [4/50]\n"
     ]
    },
    {
     "name": "stderr",
     "output_type": "stream",
     "text": [
      "                                                           \r"
     ]
    },
    {
     "name": "stdout",
     "output_type": "stream",
     "text": [
      "Train Loss: 0.3267 | Val Loss: 0.3235\n",
      "\n",
      "Epoch [5/50]\n"
     ]
    },
    {
     "name": "stderr",
     "output_type": "stream",
     "text": [
      "                                                           \r"
     ]
    },
    {
     "name": "stdout",
     "output_type": "stream",
     "text": [
      "Train Loss: 0.3518 | Val Loss: 0.3227\n",
      "\n",
      "Epoch [6/50]\n"
     ]
    },
    {
     "name": "stderr",
     "output_type": "stream",
     "text": [
      "                                                           \r"
     ]
    },
    {
     "name": "stdout",
     "output_type": "stream",
     "text": [
      "Train Loss: 0.3098 | Val Loss: 0.3411\n",
      "⏹️ Early stopping triggered at epoch 6\n",
      "Finished training for gene: SEC22A\n",
      "Loading CSV and images...\n",
      "Training model for gene: SYPL1 (Index: 11)\n",
      "\n",
      "Epoch [1/50]\n"
     ]
    },
    {
     "name": "stderr",
     "output_type": "stream",
     "text": [
      "                                                           \r"
     ]
    },
    {
     "name": "stdout",
     "output_type": "stream",
     "text": [
      "Train Loss: 1.1810 | Val Loss: 8.6924\n",
      "\n",
      "Epoch [2/50]\n"
     ]
    },
    {
     "name": "stderr",
     "output_type": "stream",
     "text": [
      "                                                           \r"
     ]
    },
    {
     "name": "stdout",
     "output_type": "stream",
     "text": [
      "Train Loss: 0.8035 | Val Loss: 1.3631\n",
      "\n",
      "Epoch [3/50]\n"
     ]
    },
    {
     "name": "stderr",
     "output_type": "stream",
     "text": [
      "                                                           \r"
     ]
    },
    {
     "name": "stdout",
     "output_type": "stream",
     "text": [
      "Train Loss: 0.3390 | Val Loss: 0.8462\n",
      "\n",
      "Epoch [4/50]\n"
     ]
    },
    {
     "name": "stderr",
     "output_type": "stream",
     "text": [
      "                                                           \r"
     ]
    },
    {
     "name": "stdout",
     "output_type": "stream",
     "text": [
      "Train Loss: 0.2439 | Val Loss: 0.7476\n",
      "\n",
      "Epoch [5/50]\n"
     ]
    },
    {
     "name": "stderr",
     "output_type": "stream",
     "text": [
      "                                                           \r"
     ]
    },
    {
     "name": "stdout",
     "output_type": "stream",
     "text": [
      "Train Loss: 0.2298 | Val Loss: 0.7212\n",
      "\n",
      "Epoch [6/50]\n"
     ]
    },
    {
     "name": "stderr",
     "output_type": "stream",
     "text": [
      "                                                           \r"
     ]
    },
    {
     "name": "stdout",
     "output_type": "stream",
     "text": [
      "Train Loss: 0.2254 | Val Loss: 0.7998\n",
      "\n",
      "Epoch [7/50]\n"
     ]
    },
    {
     "name": "stderr",
     "output_type": "stream",
     "text": [
      "                                                           \r"
     ]
    },
    {
     "name": "stdout",
     "output_type": "stream",
     "text": [
      "Train Loss: 0.1751 | Val Loss: 1.0885\n",
      "⏹️ Early stopping triggered at epoch 7\n",
      "Finished training for gene: SYPL1\n",
      "Loading CSV and images...\n",
      "⚠️ Skipping patient R01-022 due to NaN gene value for RCOR1\n",
      "⚠️ Skipping patient R01-037 due to NaN gene value for RCOR1\n",
      "Training model for gene: RCOR1 (Index: 12)\n",
      "\n",
      "Epoch [1/50]\n"
     ]
    },
    {
     "name": "stderr",
     "output_type": "stream",
     "text": [
      "                                                           \r"
     ]
    },
    {
     "name": "stdout",
     "output_type": "stream",
     "text": [
      "Train Loss: 1.1556 | Val Loss: 1.4638\n",
      "\n",
      "Epoch [2/50]\n"
     ]
    },
    {
     "name": "stderr",
     "output_type": "stream",
     "text": [
      "                                                           \r"
     ]
    },
    {
     "name": "stdout",
     "output_type": "stream",
     "text": [
      "Train Loss: 0.5728 | Val Loss: 0.2164\n",
      "\n",
      "Epoch [3/50]\n"
     ]
    },
    {
     "name": "stderr",
     "output_type": "stream",
     "text": [
      "                                                           \r"
     ]
    },
    {
     "name": "stdout",
     "output_type": "stream",
     "text": [
      "Train Loss: 0.3228 | Val Loss: 0.3043\n",
      "\n",
      "Epoch [4/50]\n"
     ]
    },
    {
     "name": "stderr",
     "output_type": "stream",
     "text": [
      "                                                           \r"
     ]
    },
    {
     "name": "stdout",
     "output_type": "stream",
     "text": [
      "Train Loss: 0.2893 | Val Loss: 0.2220\n",
      "⏹️ Early stopping triggered at epoch 4\n",
      "Finished training for gene: RCOR1\n",
      "Loading CSV and images...\n",
      "Training model for gene: SAV1 (Index: 13)\n",
      "\n",
      "Epoch [1/50]\n"
     ]
    },
    {
     "name": "stderr",
     "output_type": "stream",
     "text": [
      "                                                           \r"
     ]
    },
    {
     "name": "stdout",
     "output_type": "stream",
     "text": [
      "Train Loss: 2.9844 | Val Loss: 0.0193\n",
      "\n",
      "Epoch [2/50]\n"
     ]
    },
    {
     "name": "stderr",
     "output_type": "stream",
     "text": [
      "                                                           \r"
     ]
    },
    {
     "name": "stdout",
     "output_type": "stream",
     "text": [
      "Train Loss: 0.4533 | Val Loss: 0.0877\n",
      "\n",
      "Epoch [3/50]\n"
     ]
    },
    {
     "name": "stderr",
     "output_type": "stream",
     "text": [
      "                                                           \r"
     ]
    },
    {
     "name": "stdout",
     "output_type": "stream",
     "text": [
      "Train Loss: 0.3245 | Val Loss: 0.0614\n",
      "⏹️ Early stopping triggered at epoch 3\n",
      "Finished training for gene: SAV1\n",
      "Loading CSV and images...\n",
      "⚠️ Skipping patient R01-037 due to NaN gene value for ATAD3C\n",
      "⚠️ Skipping patient R01-054 due to NaN gene value for ATAD3C\n",
      "⚠️ Skipping patient R01-093 due to NaN gene value for ATAD3C\n",
      "⚠️ Skipping patient R01-100 due to NaN gene value for ATAD3C\n",
      "⚠️ Skipping patient R01-101 due to NaN gene value for ATAD3C\n",
      "⚠️ Skipping patient R01-102 due to NaN gene value for ATAD3C\n",
      "⚠️ Skipping patient R01-103 due to NaN gene value for ATAD3C\n",
      "⚠️ Skipping patient R01-105 due to NaN gene value for ATAD3C\n",
      "⚠️ Skipping patient R01-108 due to NaN gene value for ATAD3C\n",
      "⚠️ Skipping patient R01-114 due to NaN gene value for ATAD3C\n",
      "⚠️ Skipping patient R01-118 due to NaN gene value for ATAD3C\n",
      "⚠️ Skipping patient R01-119 due to NaN gene value for ATAD3C\n",
      "⚠️ Skipping patient R01-120 due to NaN gene value for ATAD3C\n",
      "⚠️ Skipping patient R01-121 due to NaN gene value for ATAD3C\n",
      "⚠️ Skipping patient R01-123 due to NaN gene value for ATAD3C\n",
      "⚠️ Skipping patient R01-124 due to NaN gene value for ATAD3C\n",
      "⚠️ Skipping patient R01-129 due to NaN gene value for ATAD3C\n",
      "⚠️ Skipping patient R01-133 due to NaN gene value for ATAD3C\n",
      "⚠️ Skipping patient R01-145 due to NaN gene value for ATAD3C\n",
      "⚠️ Skipping patient R01-146 due to NaN gene value for ATAD3C\n",
      "Training model for gene: ATAD3C (Index: 14)\n",
      "\n",
      "Epoch [1/50]\n"
     ]
    },
    {
     "name": "stderr",
     "output_type": "stream",
     "text": [
      "                                                           \r"
     ]
    },
    {
     "name": "stdout",
     "output_type": "stream",
     "text": [
      "Train Loss: 1.0397 | Val Loss: 1.6758\n",
      "\n",
      "Epoch [2/50]\n"
     ]
    },
    {
     "name": "stderr",
     "output_type": "stream",
     "text": [
      "                                                           \r"
     ]
    },
    {
     "name": "stdout",
     "output_type": "stream",
     "text": [
      "Train Loss: 0.7563 | Val Loss: 0.2601\n",
      "\n",
      "Epoch [3/50]\n"
     ]
    },
    {
     "name": "stderr",
     "output_type": "stream",
     "text": [
      "                                                           \r"
     ]
    },
    {
     "name": "stdout",
     "output_type": "stream",
     "text": [
      "Train Loss: 0.3012 | Val Loss: 0.5062\n",
      "\n",
      "Epoch [4/50]\n"
     ]
    },
    {
     "name": "stderr",
     "output_type": "stream",
     "text": [
      "                                                           \r"
     ]
    },
    {
     "name": "stdout",
     "output_type": "stream",
     "text": [
      "Train Loss: 0.2094 | Val Loss: 0.3224\n",
      "⏹️ Early stopping triggered at epoch 4\n",
      "Finished training for gene: ATAD3C\n",
      "Loading CSV and images...\n",
      "⚠️ Skipping patient R01-004 due to NaN gene value for NOX4\n",
      "⚠️ Skipping patient R01-006 due to NaN gene value for NOX4\n",
      "⚠️ Skipping patient R01-022 due to NaN gene value for NOX4\n",
      "⚠️ Skipping patient R01-031 due to NaN gene value for NOX4\n",
      "⚠️ Skipping patient R01-040 due to NaN gene value for NOX4\n",
      "⚠️ Skipping patient R01-052 due to NaN gene value for NOX4\n",
      "⚠️ Skipping patient R01-059 due to NaN gene value for NOX4\n",
      "⚠️ Skipping patient R01-063 due to NaN gene value for NOX4\n",
      "⚠️ Skipping patient R01-066 due to NaN gene value for NOX4\n",
      "⚠️ Skipping patient R01-067 due to NaN gene value for NOX4\n",
      "⚠️ Skipping patient R01-071 due to NaN gene value for NOX4\n",
      "⚠️ Skipping patient R01-080 due to NaN gene value for NOX4\n",
      "⚠️ Skipping patient R01-096 due to NaN gene value for NOX4\n",
      "⚠️ Skipping patient R01-100 due to NaN gene value for NOX4\n",
      "⚠️ Skipping patient R01-115 due to NaN gene value for NOX4\n",
      "⚠️ Skipping patient R01-123 due to NaN gene value for NOX4\n",
      "⚠️ Skipping patient R01-125 due to NaN gene value for NOX4\n",
      "⚠️ Skipping patient R01-129 due to NaN gene value for NOX4\n",
      "⚠️ Skipping patient R01-132 due to NaN gene value for NOX4\n",
      "⚠️ Skipping patient R01-133 due to NaN gene value for NOX4\n",
      "⚠️ Skipping patient R01-140 due to NaN gene value for NOX4\n",
      "⚠️ Skipping patient R01-141 due to NaN gene value for NOX4\n",
      "Training model for gene: NOX4 (Index: 15)\n",
      "\n",
      "Epoch [1/50]\n"
     ]
    },
    {
     "name": "stderr",
     "output_type": "stream",
     "text": [
      "                                                           \r"
     ]
    },
    {
     "name": "stdout",
     "output_type": "stream",
     "text": [
      "Train Loss: 1.3294 | Val Loss: 1.7003\n",
      "\n",
      "Epoch [2/50]\n"
     ]
    },
    {
     "name": "stderr",
     "output_type": "stream",
     "text": [
      "                                                           \r"
     ]
    },
    {
     "name": "stdout",
     "output_type": "stream",
     "text": [
      "Train Loss: 0.4807 | Val Loss: 0.5541\n",
      "\n",
      "Epoch [3/50]\n"
     ]
    },
    {
     "name": "stderr",
     "output_type": "stream",
     "text": [
      "                                                           \r"
     ]
    },
    {
     "name": "stdout",
     "output_type": "stream",
     "text": [
      "Train Loss: 0.4962 | Val Loss: 0.5656\n",
      "\n",
      "Epoch [4/50]\n"
     ]
    },
    {
     "name": "stderr",
     "output_type": "stream",
     "text": [
      "                                                           \r"
     ]
    },
    {
     "name": "stdout",
     "output_type": "stream",
     "text": [
      "Train Loss: 0.3310 | Val Loss: 0.4589\n",
      "\n",
      "Epoch [5/50]\n"
     ]
    },
    {
     "name": "stderr",
     "output_type": "stream",
     "text": [
      "                                                           \r"
     ]
    },
    {
     "name": "stdout",
     "output_type": "stream",
     "text": [
      "Train Loss: 0.3396 | Val Loss: 0.4522\n",
      "\n",
      "Epoch [6/50]\n"
     ]
    },
    {
     "name": "stderr",
     "output_type": "stream",
     "text": [
      "                                                           \r"
     ]
    },
    {
     "name": "stdout",
     "output_type": "stream",
     "text": [
      "Train Loss: 0.2483 | Val Loss: 0.6083\n",
      "\n",
      "Epoch [7/50]\n"
     ]
    },
    {
     "name": "stderr",
     "output_type": "stream",
     "text": [
      "                                                           \r"
     ]
    },
    {
     "name": "stdout",
     "output_type": "stream",
     "text": [
      "Train Loss: 0.2854 | Val Loss: 0.6063\n",
      "⏹️ Early stopping triggered at epoch 7\n",
      "Finished training for gene: NOX4\n",
      "Loading CSV and images...\n",
      "⚠️ Skipping patient R01-052 due to NaN gene value for ZNF485\n",
      "⚠️ Skipping patient R01-064 due to NaN gene value for ZNF485\n",
      "⚠️ Skipping patient R01-083 due to NaN gene value for ZNF485\n",
      "⚠️ Skipping patient R01-105 due to NaN gene value for ZNF485\n",
      "⚠️ Skipping patient R01-108 due to NaN gene value for ZNF485\n",
      "⚠️ Skipping patient R01-120 due to NaN gene value for ZNF485\n",
      "⚠️ Skipping patient R01-121 due to NaN gene value for ZNF485\n",
      "⚠️ Skipping patient R01-133 due to NaN gene value for ZNF485\n",
      "⚠️ Skipping patient R01-135 due to NaN gene value for ZNF485\n",
      "Training model for gene: ZNF485 (Index: 16)\n",
      "\n",
      "Epoch [1/50]\n"
     ]
    },
    {
     "name": "stderr",
     "output_type": "stream",
     "text": [
      "                                                           \r"
     ]
    },
    {
     "name": "stdout",
     "output_type": "stream",
     "text": [
      "Train Loss: 1.5568 | Val Loss: 6.3281\n",
      "\n",
      "Epoch [2/50]\n"
     ]
    },
    {
     "name": "stderr",
     "output_type": "stream",
     "text": [
      "                                                           \r"
     ]
    },
    {
     "name": "stdout",
     "output_type": "stream",
     "text": [
      "Train Loss: 1.5013 | Val Loss: 0.3677\n",
      "\n",
      "Epoch [3/50]\n"
     ]
    },
    {
     "name": "stderr",
     "output_type": "stream",
     "text": [
      "                                                           \r"
     ]
    },
    {
     "name": "stdout",
     "output_type": "stream",
     "text": [
      "Train Loss: 0.2680 | Val Loss: 0.3514\n",
      "\n",
      "Epoch [4/50]\n"
     ]
    },
    {
     "name": "stderr",
     "output_type": "stream",
     "text": [
      "                                                           \r"
     ]
    },
    {
     "name": "stdout",
     "output_type": "stream",
     "text": [
      "Train Loss: 0.2208 | Val Loss: 0.3415\n",
      "\n",
      "Epoch [5/50]\n"
     ]
    },
    {
     "name": "stderr",
     "output_type": "stream",
     "text": [
      "                                                           \r"
     ]
    },
    {
     "name": "stdout",
     "output_type": "stream",
     "text": [
      "Train Loss: 0.2496 | Val Loss: 0.3307\n",
      "\n",
      "Epoch [6/50]\n"
     ]
    },
    {
     "name": "stderr",
     "output_type": "stream",
     "text": [
      "                                                           \r"
     ]
    },
    {
     "name": "stdout",
     "output_type": "stream",
     "text": [
      "Train Loss: 0.2217 | Val Loss: 0.3297\n",
      "\n",
      "Epoch [7/50]\n"
     ]
    },
    {
     "name": "stderr",
     "output_type": "stream",
     "text": [
      "                                                           \r"
     ]
    },
    {
     "name": "stdout",
     "output_type": "stream",
     "text": [
      "Train Loss: 0.2277 | Val Loss: 0.3488\n",
      "⏹️ Early stopping triggered at epoch 7\n",
      "Finished training for gene: ZNF485\n",
      "Loading CSV and images...\n",
      "⚠️ Skipping patient R01-133 due to NaN gene value for RANBP1\n",
      "Training model for gene: RANBP1 (Index: 17)\n",
      "\n",
      "Epoch [1/50]\n"
     ]
    },
    {
     "name": "stderr",
     "output_type": "stream",
     "text": [
      "                                                           \r"
     ]
    },
    {
     "name": "stdout",
     "output_type": "stream",
     "text": [
      "Train Loss: 1.2594 | Val Loss: 0.9589\n",
      "\n",
      "Epoch [2/50]\n"
     ]
    },
    {
     "name": "stderr",
     "output_type": "stream",
     "text": [
      "                                                           \r"
     ]
    },
    {
     "name": "stdout",
     "output_type": "stream",
     "text": [
      "Train Loss: 1.0441 | Val Loss: 1.0466\n",
      "\n",
      "Epoch [3/50]\n"
     ]
    },
    {
     "name": "stderr",
     "output_type": "stream",
     "text": [
      "                                                           \r"
     ]
    },
    {
     "name": "stdout",
     "output_type": "stream",
     "text": [
      "Train Loss: 1.0136 | Val Loss: 0.9522\n",
      "\n",
      "Epoch [4/50]\n"
     ]
    },
    {
     "name": "stderr",
     "output_type": "stream",
     "text": [
      "                                                           \r"
     ]
    },
    {
     "name": "stdout",
     "output_type": "stream",
     "text": [
      "Train Loss: 1.0522 | Val Loss: 0.9508\n",
      "\n",
      "Epoch [5/50]\n"
     ]
    },
    {
     "name": "stderr",
     "output_type": "stream",
     "text": [
      "                                                           \r"
     ]
    },
    {
     "name": "stdout",
     "output_type": "stream",
     "text": [
      "Train Loss: 1.0097 | Val Loss: 0.7597\n",
      "\n",
      "Epoch [6/50]\n"
     ]
    },
    {
     "name": "stderr",
     "output_type": "stream",
     "text": [
      "                                                           \r"
     ]
    },
    {
     "name": "stdout",
     "output_type": "stream",
     "text": [
      "Train Loss: 1.0098 | Val Loss: 0.9234\n",
      "\n",
      "Epoch [7/50]\n"
     ]
    },
    {
     "name": "stderr",
     "output_type": "stream",
     "text": [
      "                                                           \r"
     ]
    },
    {
     "name": "stdout",
     "output_type": "stream",
     "text": [
      "Train Loss: 1.0221 | Val Loss: 0.8881\n",
      "⏹️ Early stopping triggered at epoch 7\n",
      "Finished training for gene: RANBP1\n",
      "Loading CSV and images...\n",
      "⚠️ Skipping patient R01-024 due to NaN gene value for ANKRD28\n",
      "⚠️ Skipping patient R01-031 due to NaN gene value for ANKRD28\n",
      "Training model for gene: ANKRD28 (Index: 18)\n",
      "\n",
      "Epoch [1/50]\n"
     ]
    },
    {
     "name": "stderr",
     "output_type": "stream",
     "text": [
      "                                                           \r"
     ]
    },
    {
     "name": "stdout",
     "output_type": "stream",
     "text": [
      "Train Loss: 2.3375 | Val Loss: 0.4682\n",
      "\n",
      "Epoch [2/50]\n"
     ]
    },
    {
     "name": "stderr",
     "output_type": "stream",
     "text": [
      "                                                           \r"
     ]
    },
    {
     "name": "stdout",
     "output_type": "stream",
     "text": [
      "Train Loss: 0.4671 | Val Loss: 0.2415\n",
      "\n",
      "Epoch [3/50]\n"
     ]
    },
    {
     "name": "stderr",
     "output_type": "stream",
     "text": [
      "                                                           \r"
     ]
    },
    {
     "name": "stdout",
     "output_type": "stream",
     "text": [
      "Train Loss: 0.3996 | Val Loss: 0.2317\n",
      "\n",
      "Epoch [4/50]\n"
     ]
    },
    {
     "name": "stderr",
     "output_type": "stream",
     "text": [
      "                                                           \r"
     ]
    },
    {
     "name": "stdout",
     "output_type": "stream",
     "text": [
      "Train Loss: 0.3879 | Val Loss: 0.2284\n",
      "\n",
      "Epoch [5/50]\n"
     ]
    },
    {
     "name": "stderr",
     "output_type": "stream",
     "text": [
      "                                                           \r"
     ]
    },
    {
     "name": "stdout",
     "output_type": "stream",
     "text": [
      "Train Loss: 0.4012 | Val Loss: 0.2230\n",
      "\n",
      "Epoch [6/50]\n"
     ]
    },
    {
     "name": "stderr",
     "output_type": "stream",
     "text": [
      "                                                           \r"
     ]
    },
    {
     "name": "stdout",
     "output_type": "stream",
     "text": [
      "Train Loss: 0.3829 | Val Loss: 0.2258\n",
      "\n",
      "Epoch [7/50]\n"
     ]
    },
    {
     "name": "stderr",
     "output_type": "stream",
     "text": [
      "                                                           \r"
     ]
    },
    {
     "name": "stdout",
     "output_type": "stream",
     "text": [
      "Train Loss: 0.3724 | Val Loss: 0.2315\n",
      "⏹️ Early stopping triggered at epoch 7\n",
      "Finished training for gene: ANKRD28\n",
      "Loading CSV and images...\n",
      "Training model for gene: SNORA37 (Index: 19)\n",
      "\n",
      "Epoch [1/50]\n"
     ]
    },
    {
     "name": "stderr",
     "output_type": "stream",
     "text": [
      "                                                           \r"
     ]
    },
    {
     "name": "stdout",
     "output_type": "stream",
     "text": [
      "Train Loss: 0.9938 | Val Loss: 0.9525\n",
      "\n",
      "Epoch [2/50]\n"
     ]
    },
    {
     "name": "stderr",
     "output_type": "stream",
     "text": [
      "                                                           \r"
     ]
    },
    {
     "name": "stdout",
     "output_type": "stream",
     "text": [
      "Train Loss: 1.0097 | Val Loss: 0.9335\n",
      "\n",
      "Epoch [3/50]\n"
     ]
    },
    {
     "name": "stderr",
     "output_type": "stream",
     "text": [
      "                                                           \r"
     ]
    },
    {
     "name": "stdout",
     "output_type": "stream",
     "text": [
      "Train Loss: 0.8934 | Val Loss: 0.9550\n",
      "\n",
      "Epoch [4/50]\n"
     ]
    },
    {
     "name": "stderr",
     "output_type": "stream",
     "text": [
      "                                                           \r"
     ]
    },
    {
     "name": "stdout",
     "output_type": "stream",
     "text": [
      "Train Loss: 0.9132 | Val Loss: 0.9370\n",
      "⏹️ Early stopping triggered at epoch 4\n",
      "Finished training for gene: SNORA37\n",
      "Loading CSV and images...\n",
      "Training model for gene: RAB11FIP4 (Index: 20)\n",
      "\n",
      "Epoch [1/50]\n"
     ]
    },
    {
     "name": "stderr",
     "output_type": "stream",
     "text": [
      "                                                           \r"
     ]
    },
    {
     "name": "stdout",
     "output_type": "stream",
     "text": [
      "Train Loss: 0.6985 | Val Loss: 0.0000\n",
      "\n",
      "Epoch [2/50]\n"
     ]
    },
    {
     "name": "stderr",
     "output_type": "stream",
     "text": [
      "                                                           \r"
     ]
    },
    {
     "name": "stdout",
     "output_type": "stream",
     "text": [
      "Train Loss: 1.0004 | Val Loss: 0.3599\n",
      "\n",
      "Epoch [3/50]\n"
     ]
    },
    {
     "name": "stderr",
     "output_type": "stream",
     "text": [
      "                                                           \r"
     ]
    },
    {
     "name": "stdout",
     "output_type": "stream",
     "text": [
      "Train Loss: 0.2920 | Val Loss: 0.0005\n",
      "⏹️ Early stopping triggered at epoch 3\n",
      "Finished training for gene: RAB11FIP4\n",
      "Loading CSV and images...\n",
      "⚠️ Skipping patient R01-015 due to NaN gene value for OSCP1\n",
      "⚠️ Skipping patient R01-040 due to NaN gene value for OSCP1\n",
      "⚠️ Skipping patient R01-049 due to NaN gene value for OSCP1\n",
      "⚠️ Skipping patient R01-051 due to NaN gene value for OSCP1\n",
      "⚠️ Skipping patient R01-055 due to NaN gene value for OSCP1\n",
      "⚠️ Skipping patient R01-064 due to NaN gene value for OSCP1\n",
      "⚠️ Skipping patient R01-069 due to NaN gene value for OSCP1\n",
      "⚠️ Skipping patient R01-093 due to NaN gene value for OSCP1\n",
      "⚠️ Skipping patient R01-096 due to NaN gene value for OSCP1\n",
      "⚠️ Skipping patient R01-106 due to NaN gene value for OSCP1\n",
      "⚠️ Skipping patient R01-108 due to NaN gene value for OSCP1\n",
      "⚠️ Skipping patient R01-125 due to NaN gene value for OSCP1\n",
      "⚠️ Skipping patient R01-129 due to NaN gene value for OSCP1\n",
      "⚠️ Skipping patient R01-133 due to NaN gene value for OSCP1\n",
      "⚠️ Skipping patient R01-159 due to NaN gene value for OSCP1\n",
      "Training model for gene: OSCP1 (Index: 21)\n",
      "\n",
      "Epoch [1/50]\n"
     ]
    },
    {
     "name": "stderr",
     "output_type": "stream",
     "text": [
      "                                                           \r"
     ]
    },
    {
     "name": "stdout",
     "output_type": "stream",
     "text": [
      "Train Loss: 1.3737 | Val Loss: 0.9724\n",
      "\n",
      "Epoch [2/50]\n"
     ]
    },
    {
     "name": "stderr",
     "output_type": "stream",
     "text": [
      "                                                           \r"
     ]
    },
    {
     "name": "stdout",
     "output_type": "stream",
     "text": [
      "Train Loss: 0.4856 | Val Loss: 1.8030\n",
      "\n",
      "Epoch [3/50]\n"
     ]
    },
    {
     "name": "stderr",
     "output_type": "stream",
     "text": [
      "                                                           \r"
     ]
    },
    {
     "name": "stdout",
     "output_type": "stream",
     "text": [
      "Train Loss: 0.5204 | Val Loss: 0.6976\n",
      "\n",
      "Epoch [4/50]\n"
     ]
    },
    {
     "name": "stderr",
     "output_type": "stream",
     "text": [
      "                                                           \r"
     ]
    },
    {
     "name": "stdout",
     "output_type": "stream",
     "text": [
      "Train Loss: 0.4481 | Val Loss: 0.6962\n",
      "\n",
      "Epoch [5/50]\n"
     ]
    },
    {
     "name": "stderr",
     "output_type": "stream",
     "text": [
      "                                                           \r"
     ]
    },
    {
     "name": "stdout",
     "output_type": "stream",
     "text": [
      "Train Loss: 0.4949 | Val Loss: 0.6867\n",
      "\n",
      "Epoch [6/50]\n"
     ]
    },
    {
     "name": "stderr",
     "output_type": "stream",
     "text": [
      "                                                           \r"
     ]
    },
    {
     "name": "stdout",
     "output_type": "stream",
     "text": [
      "Train Loss: 0.4978 | Val Loss: 0.7737\n",
      "\n",
      "Epoch [7/50]\n"
     ]
    },
    {
     "name": "stderr",
     "output_type": "stream",
     "text": [
      "                                                           \r"
     ]
    },
    {
     "name": "stdout",
     "output_type": "stream",
     "text": [
      "Train Loss: 0.4132 | Val Loss: 0.6605\n",
      "\n",
      "Epoch [8/50]\n"
     ]
    },
    {
     "name": "stderr",
     "output_type": "stream",
     "text": [
      "                                                           \r"
     ]
    },
    {
     "name": "stdout",
     "output_type": "stream",
     "text": [
      "Train Loss: 0.3817 | Val Loss: 0.6355\n",
      "\n",
      "Epoch [9/50]\n"
     ]
    },
    {
     "name": "stderr",
     "output_type": "stream",
     "text": [
      "                                                           \r"
     ]
    },
    {
     "name": "stdout",
     "output_type": "stream",
     "text": [
      "Train Loss: 0.4865 | Val Loss: 0.6553\n",
      "\n",
      "Epoch [10/50]\n"
     ]
    },
    {
     "name": "stderr",
     "output_type": "stream",
     "text": [
      "                                                           \r"
     ]
    },
    {
     "name": "stdout",
     "output_type": "stream",
     "text": [
      "Train Loss: 0.3822 | Val Loss: 0.9643\n",
      "⏹️ Early stopping triggered at epoch 10\n",
      "Finished training for gene: OSCP1\n",
      "Loading CSV and images...\n",
      "⚠️ Skipping patient R01-037 due to NaN gene value for YY1AP1\n",
      "⚠️ Skipping patient R01-100 due to NaN gene value for YY1AP1\n",
      "⚠️ Skipping patient R01-114 due to NaN gene value for YY1AP1\n",
      "Training model for gene: YY1AP1 (Index: 22)\n",
      "\n",
      "Epoch [1/50]\n"
     ]
    },
    {
     "name": "stderr",
     "output_type": "stream",
     "text": [
      "                                                           \r"
     ]
    },
    {
     "name": "stdout",
     "output_type": "stream",
     "text": [
      "Train Loss: 1.1342 | Val Loss: 1.0911\n",
      "\n",
      "Epoch [2/50]\n"
     ]
    },
    {
     "name": "stderr",
     "output_type": "stream",
     "text": [
      "                                                           \r"
     ]
    },
    {
     "name": "stdout",
     "output_type": "stream",
     "text": [
      "Train Loss: 1.0323 | Val Loss: 1.1940\n",
      "\n",
      "Epoch [3/50]\n"
     ]
    },
    {
     "name": "stderr",
     "output_type": "stream",
     "text": [
      "                                                           \r"
     ]
    },
    {
     "name": "stdout",
     "output_type": "stream",
     "text": [
      "Train Loss: 0.9943 | Val Loss: 1.5055\n",
      "⏹️ Early stopping triggered at epoch 3\n",
      "Finished training for gene: YY1AP1\n",
      "Loading CSV and images...\n",
      "⚠️ Skipping patient R01-004 due to NaN gene value for SGIP1\n",
      "⚠️ Skipping patient R01-007 due to NaN gene value for SGIP1\n",
      "⚠️ Skipping patient R01-013 due to NaN gene value for SGIP1\n",
      "⚠️ Skipping patient R01-021 due to NaN gene value for SGIP1\n",
      "⚠️ Skipping patient R01-022 due to NaN gene value for SGIP1\n",
      "⚠️ Skipping patient R01-029 due to NaN gene value for SGIP1\n",
      "⚠️ Skipping patient R01-033 due to NaN gene value for SGIP1\n",
      "⚠️ Skipping patient R01-037 due to NaN gene value for SGIP1\n",
      "⚠️ Skipping patient R01-041 due to NaN gene value for SGIP1\n",
      "⚠️ Skipping patient R01-043 due to NaN gene value for SGIP1\n",
      "⚠️ Skipping patient R01-061 due to NaN gene value for SGIP1\n",
      "⚠️ Skipping patient R01-063 due to NaN gene value for SGIP1\n",
      "⚠️ Skipping patient R01-068 due to NaN gene value for SGIP1\n",
      "⚠️ Skipping patient R01-069 due to NaN gene value for SGIP1\n",
      "⚠️ Skipping patient R01-071 due to NaN gene value for SGIP1\n",
      "⚠️ Skipping patient R01-072 due to NaN gene value for SGIP1\n",
      "⚠️ Skipping patient R01-073 due to NaN gene value for SGIP1\n",
      "⚠️ Skipping patient R01-117 due to NaN gene value for SGIP1\n",
      "⚠️ Skipping patient R01-129 due to NaN gene value for SGIP1\n",
      "⚠️ Skipping patient R01-138 due to NaN gene value for SGIP1\n",
      "⚠️ Skipping patient R01-140 due to NaN gene value for SGIP1\n",
      "⚠️ Skipping patient R01-150 due to NaN gene value for SGIP1\n",
      "Training model for gene: SGIP1 (Index: 23)\n",
      "\n",
      "Epoch [1/50]\n"
     ]
    },
    {
     "name": "stderr",
     "output_type": "stream",
     "text": [
      "                                                           \r"
     ]
    },
    {
     "name": "stdout",
     "output_type": "stream",
     "text": [
      "Train Loss: 1.2709 | Val Loss: 6.2510\n",
      "\n",
      "Epoch [2/50]\n"
     ]
    },
    {
     "name": "stderr",
     "output_type": "stream",
     "text": [
      "                                                           \r"
     ]
    },
    {
     "name": "stdout",
     "output_type": "stream",
     "text": [
      "Train Loss: 0.8145 | Val Loss: 0.8832\n",
      "\n",
      "Epoch [3/50]\n"
     ]
    },
    {
     "name": "stderr",
     "output_type": "stream",
     "text": [
      "                                                           \r"
     ]
    },
    {
     "name": "stdout",
     "output_type": "stream",
     "text": [
      "Train Loss: 0.4626 | Val Loss: 0.9045\n",
      "\n",
      "Epoch [4/50]\n"
     ]
    },
    {
     "name": "stderr",
     "output_type": "stream",
     "text": [
      "                                                           \r"
     ]
    },
    {
     "name": "stdout",
     "output_type": "stream",
     "text": [
      "Train Loss: 0.4223 | Val Loss: 0.8597\n",
      "\n",
      "Epoch [5/50]\n"
     ]
    },
    {
     "name": "stderr",
     "output_type": "stream",
     "text": [
      "                                                           \r"
     ]
    },
    {
     "name": "stdout",
     "output_type": "stream",
     "text": [
      "Train Loss: 0.3730 | Val Loss: 0.9860\n",
      "\n",
      "Epoch [6/50]\n"
     ]
    },
    {
     "name": "stderr",
     "output_type": "stream",
     "text": [
      "                                                           \r"
     ]
    },
    {
     "name": "stdout",
     "output_type": "stream",
     "text": [
      "Train Loss: 0.3484 | Val Loss: 1.0415\n",
      "⏹️ Early stopping triggered at epoch 6\n",
      "Finished training for gene: SGIP1\n",
      "Loading CSV and images...\n",
      "⚠️ Skipping patient R01-004 due to NaN gene value for SNORA54\n",
      "⚠️ Skipping patient R01-007 due to NaN gene value for SNORA54\n",
      "⚠️ Skipping patient R01-015 due to NaN gene value for SNORA54\n",
      "⚠️ Skipping patient R01-017 due to NaN gene value for SNORA54\n",
      "⚠️ Skipping patient R01-021 due to NaN gene value for SNORA54\n",
      "⚠️ Skipping patient R01-039 due to NaN gene value for SNORA54\n",
      "⚠️ Skipping patient R01-043 due to NaN gene value for SNORA54\n",
      "⚠️ Skipping patient R01-048 due to NaN gene value for SNORA54\n",
      "⚠️ Skipping patient R01-051 due to NaN gene value for SNORA54\n",
      "⚠️ Skipping patient R01-063 due to NaN gene value for SNORA54\n",
      "⚠️ Skipping patient R01-064 due to NaN gene value for SNORA54\n",
      "⚠️ Skipping patient R01-065 due to NaN gene value for SNORA54\n",
      "⚠️ Skipping patient R01-077 due to NaN gene value for SNORA54\n",
      "⚠️ Skipping patient R01-079 due to NaN gene value for SNORA54\n",
      "⚠️ Skipping patient R01-080 due to NaN gene value for SNORA54\n",
      "⚠️ Skipping patient R01-089 due to NaN gene value for SNORA54\n",
      "⚠️ Skipping patient R01-096 due to NaN gene value for SNORA54\n",
      "⚠️ Skipping patient R01-103 due to NaN gene value for SNORA54\n",
      "⚠️ Skipping patient R01-114 due to NaN gene value for SNORA54\n",
      "⚠️ Skipping patient R01-133 due to NaN gene value for SNORA54\n",
      "⚠️ Skipping patient R01-134 due to NaN gene value for SNORA54\n",
      "⚠️ Skipping patient R01-148 due to NaN gene value for SNORA54\n",
      "⚠️ Skipping patient R01-160 due to NaN gene value for SNORA54\n",
      "Training model for gene: SNORA54 (Index: 24)\n",
      "\n",
      "Epoch [1/50]\n"
     ]
    },
    {
     "name": "stderr",
     "output_type": "stream",
     "text": [
      "                                                           \r"
     ]
    },
    {
     "name": "stdout",
     "output_type": "stream",
     "text": [
      "Train Loss: 1.6142 | Val Loss: 0.6301\n",
      "\n",
      "Epoch [2/50]\n"
     ]
    },
    {
     "name": "stderr",
     "output_type": "stream",
     "text": [
      "                                                           \r"
     ]
    },
    {
     "name": "stdout",
     "output_type": "stream",
     "text": [
      "Train Loss: 0.7469 | Val Loss: 0.5535\n",
      "\n",
      "Epoch [3/50]\n"
     ]
    },
    {
     "name": "stderr",
     "output_type": "stream",
     "text": [
      "                                                           \r"
     ]
    },
    {
     "name": "stdout",
     "output_type": "stream",
     "text": [
      "Train Loss: 0.7291 | Val Loss: 0.6804\n",
      "\n",
      "Epoch [4/50]\n"
     ]
    },
    {
     "name": "stderr",
     "output_type": "stream",
     "text": [
      "                                                           \r"
     ]
    },
    {
     "name": "stdout",
     "output_type": "stream",
     "text": [
      "Train Loss: 0.7235 | Val Loss: 0.5452\n",
      "\n",
      "Epoch [5/50]\n"
     ]
    },
    {
     "name": "stderr",
     "output_type": "stream",
     "text": [
      "                                                           \r"
     ]
    },
    {
     "name": "stdout",
     "output_type": "stream",
     "text": [
      "Train Loss: 0.7214 | Val Loss: 0.6409\n",
      "\n",
      "Epoch [6/50]\n"
     ]
    },
    {
     "name": "stderr",
     "output_type": "stream",
     "text": [
      "                                                           \r"
     ]
    },
    {
     "name": "stdout",
     "output_type": "stream",
     "text": [
      "Train Loss: 0.7705 | Val Loss: 0.5511\n",
      "⏹️ Early stopping triggered at epoch 6\n",
      "Finished training for gene: SNORA54\n",
      "Loading CSV and images...\n",
      "Training model for gene: BTRC (Index: 25)\n",
      "\n",
      "Epoch [1/50]\n"
     ]
    },
    {
     "name": "stderr",
     "output_type": "stream",
     "text": [
      "                                                           \r"
     ]
    },
    {
     "name": "stdout",
     "output_type": "stream",
     "text": [
      "Train Loss: 1.1652 | Val Loss: 0.9402\n",
      "\n",
      "Epoch [2/50]\n"
     ]
    },
    {
     "name": "stderr",
     "output_type": "stream",
     "text": [
      "                                                           \r"
     ]
    },
    {
     "name": "stdout",
     "output_type": "stream",
     "text": [
      "Train Loss: 1.0328 | Val Loss: 0.8746\n",
      "\n",
      "Epoch [3/50]\n"
     ]
    },
    {
     "name": "stderr",
     "output_type": "stream",
     "text": [
      "                                                           \r"
     ]
    },
    {
     "name": "stdout",
     "output_type": "stream",
     "text": [
      "Train Loss: 1.0352 | Val Loss: 0.9551\n",
      "\n",
      "Epoch [4/50]\n"
     ]
    },
    {
     "name": "stderr",
     "output_type": "stream",
     "text": [
      "                                                           \r"
     ]
    },
    {
     "name": "stdout",
     "output_type": "stream",
     "text": [
      "Train Loss: 1.0111 | Val Loss: 0.7541\n",
      "\n",
      "Epoch [5/50]\n"
     ]
    },
    {
     "name": "stderr",
     "output_type": "stream",
     "text": [
      "                                                           \r"
     ]
    },
    {
     "name": "stdout",
     "output_type": "stream",
     "text": [
      "Train Loss: 1.0467 | Val Loss: 0.8361\n",
      "\n",
      "Epoch [6/50]\n"
     ]
    },
    {
     "name": "stderr",
     "output_type": "stream",
     "text": [
      "                                                           \r"
     ]
    },
    {
     "name": "stdout",
     "output_type": "stream",
     "text": [
      "Train Loss: 1.0075 | Val Loss: 0.8423\n",
      "⏹️ Early stopping triggered at epoch 6\n",
      "Finished training for gene: BTRC\n",
      "Loading CSV and images...\n",
      "Training model for gene: TSNARE1 (Index: 26)\n",
      "\n",
      "Epoch [1/50]\n"
     ]
    },
    {
     "name": "stderr",
     "output_type": "stream",
     "text": [
      "                                                           \r"
     ]
    },
    {
     "name": "stdout",
     "output_type": "stream",
     "text": [
      "Train Loss: 1.0054 | Val Loss: 0.0000\n",
      "\n",
      "Epoch [2/50]\n"
     ]
    },
    {
     "name": "stderr",
     "output_type": "stream",
     "text": [
      "                                                           \r"
     ]
    },
    {
     "name": "stdout",
     "output_type": "stream",
     "text": [
      "Train Loss: 0.7547 | Val Loss: 0.0323\n",
      "\n",
      "Epoch [3/50]\n"
     ]
    },
    {
     "name": "stderr",
     "output_type": "stream",
     "text": [
      "                                                           \r"
     ]
    },
    {
     "name": "stdout",
     "output_type": "stream",
     "text": [
      "Train Loss: 0.2514 | Val Loss: 0.0276\n",
      "⏹️ Early stopping triggered at epoch 3\n",
      "Finished training for gene: TSNARE1\n",
      "Loading CSV and images...\n",
      "⚠️ Skipping patient R01-022 due to NaN gene value for SIDT1\n",
      "⚠️ Skipping patient R01-052 due to NaN gene value for SIDT1\n",
      "⚠️ Skipping patient R01-097 due to NaN gene value for SIDT1\n",
      "⚠️ Skipping patient R01-106 due to NaN gene value for SIDT1\n",
      "⚠️ Skipping patient R01-117 due to NaN gene value for SIDT1\n",
      "⚠️ Skipping patient R01-124 due to NaN gene value for SIDT1\n",
      "⚠️ Skipping patient R01-133 due to NaN gene value for SIDT1\n",
      "Training model for gene: SIDT1 (Index: 27)\n",
      "\n",
      "Epoch [1/50]\n"
     ]
    },
    {
     "name": "stderr",
     "output_type": "stream",
     "text": [
      "                                                           \r"
     ]
    },
    {
     "name": "stdout",
     "output_type": "stream",
     "text": [
      "Train Loss: 1.0163 | Val Loss: 1.1899\n",
      "\n",
      "Epoch [2/50]\n"
     ]
    },
    {
     "name": "stderr",
     "output_type": "stream",
     "text": [
      "                                                           \r"
     ]
    },
    {
     "name": "stdout",
     "output_type": "stream",
     "text": [
      "Train Loss: 0.9176 | Val Loss: 1.2119\n",
      "\n",
      "Epoch [3/50]\n"
     ]
    },
    {
     "name": "stderr",
     "output_type": "stream",
     "text": [
      "                                                           \r"
     ]
    },
    {
     "name": "stdout",
     "output_type": "stream",
     "text": [
      "Train Loss: 0.8661 | Val Loss: 1.2206\n",
      "⏹️ Early stopping triggered at epoch 3\n",
      "Finished training for gene: SIDT1\n",
      "Loading CSV and images...\n",
      "⚠️ Skipping patient R01-037 due to NaN gene value for CDON\n",
      "⚠️ Skipping patient R01-052 due to NaN gene value for CDON\n",
      "⚠️ Skipping patient R01-059 due to NaN gene value for CDON\n",
      "⚠️ Skipping patient R01-093 due to NaN gene value for CDON\n",
      "⚠️ Skipping patient R01-096 due to NaN gene value for CDON\n",
      "⚠️ Skipping patient R01-103 due to NaN gene value for CDON\n",
      "⚠️ Skipping patient R01-129 due to NaN gene value for CDON\n",
      "⚠️ Skipping patient R01-130 due to NaN gene value for CDON\n",
      "⚠️ Skipping patient R01-147 due to NaN gene value for CDON\n",
      "Training model for gene: CDON (Index: 28)\n",
      "\n",
      "Epoch [1/50]\n"
     ]
    },
    {
     "name": "stderr",
     "output_type": "stream",
     "text": [
      "                                                           \r"
     ]
    },
    {
     "name": "stdout",
     "output_type": "stream",
     "text": [
      "Train Loss: 0.7547 | Val Loss: 0.0000\n",
      "\n",
      "Epoch [2/50]\n"
     ]
    },
    {
     "name": "stderr",
     "output_type": "stream",
     "text": [
      "                                                           \r"
     ]
    },
    {
     "name": "stdout",
     "output_type": "stream",
     "text": [
      "Train Loss: 0.9338 | Val Loss: 0.0000\n",
      "\n",
      "Epoch [3/50]\n"
     ]
    },
    {
     "name": "stderr",
     "output_type": "stream",
     "text": [
      "                                                           \r"
     ]
    },
    {
     "name": "stdout",
     "output_type": "stream",
     "text": [
      "Train Loss: 0.9586 | Val Loss: 0.0000\n",
      "⏹️ Early stopping triggered at epoch 3\n",
      "Finished training for gene: CDON\n",
      "Loading CSV and images...\n",
      "⚠️ Skipping patient R01-018 due to NaN gene value for HLA-DRB1\n",
      "⚠️ Skipping patient R01-021 due to NaN gene value for HLA-DRB1\n",
      "⚠️ Skipping patient R01-022 due to NaN gene value for HLA-DRB1\n",
      "⚠️ Skipping patient R01-042 due to NaN gene value for HLA-DRB1\n",
      "⚠️ Skipping patient R01-051 due to NaN gene value for HLA-DRB1\n",
      "⚠️ Skipping patient R01-054 due to NaN gene value for HLA-DRB1\n",
      "⚠️ Skipping patient R01-059 due to NaN gene value for HLA-DRB1\n",
      "⚠️ Skipping patient R01-065 due to NaN gene value for HLA-DRB1\n",
      "⚠️ Skipping patient R01-069 due to NaN gene value for HLA-DRB1\n",
      "⚠️ Skipping patient R01-077 due to NaN gene value for HLA-DRB1\n",
      "⚠️ Skipping patient R01-096 due to NaN gene value for HLA-DRB1\n",
      "⚠️ Skipping patient R01-097 due to NaN gene value for HLA-DRB1\n",
      "⚠️ Skipping patient R01-100 due to NaN gene value for HLA-DRB1\n",
      "⚠️ Skipping patient R01-118 due to NaN gene value for HLA-DRB1\n",
      "⚠️ Skipping patient R01-120 due to NaN gene value for HLA-DRB1\n",
      "⚠️ Skipping patient R01-126 due to NaN gene value for HLA-DRB1\n",
      "⚠️ Skipping patient R01-132 due to NaN gene value for HLA-DRB1\n",
      "⚠️ Skipping patient R01-145 due to NaN gene value for HLA-DRB1\n",
      "⚠️ Skipping patient R01-148 due to NaN gene value for HLA-DRB1\n",
      "⚠️ Skipping patient R01-154 due to NaN gene value for HLA-DRB1\n",
      "⚠️ Skipping patient R01-157 due to NaN gene value for HLA-DRB1\n",
      "⚠️ Skipping patient R01-160 due to NaN gene value for HLA-DRB1\n",
      "Training model for gene: HLA-DRB1 (Index: 29)\n",
      "\n",
      "Epoch [1/50]\n"
     ]
    },
    {
     "name": "stderr",
     "output_type": "stream",
     "text": [
      "                                                           \r"
     ]
    },
    {
     "name": "stdout",
     "output_type": "stream",
     "text": [
      "Train Loss: 1.0192 | Val Loss: 0.9285\n",
      "\n",
      "Epoch [2/50]\n"
     ]
    },
    {
     "name": "stderr",
     "output_type": "stream",
     "text": [
      "                                                           \r"
     ]
    },
    {
     "name": "stdout",
     "output_type": "stream",
     "text": [
      "Train Loss: 0.8118 | Val Loss: 0.9580\n",
      "\n",
      "Epoch [3/50]\n"
     ]
    },
    {
     "name": "stderr",
     "output_type": "stream",
     "text": [
      "                                                           \r"
     ]
    },
    {
     "name": "stdout",
     "output_type": "stream",
     "text": [
      "Train Loss: 0.8655 | Val Loss: 0.9326\n",
      "⏹️ Early stopping triggered at epoch 3\n",
      "Finished training for gene: HLA-DRB1\n",
      "Loading CSV and images...\n",
      "⚠️ Skipping patient R01-119 due to NaN gene value for SNORA47\n",
      "⚠️ Skipping patient R01-133 due to NaN gene value for SNORA47\n",
      "Training model for gene: SNORA47 (Index: 30)\n",
      "\n",
      "Epoch [1/50]\n"
     ]
    },
    {
     "name": "stderr",
     "output_type": "stream",
     "text": [
      "                                                           \r"
     ]
    },
    {
     "name": "stdout",
     "output_type": "stream",
     "text": [
      "Train Loss: 1.0916 | Val Loss: 1.0996\n",
      "\n",
      "Epoch [2/50]\n"
     ]
    },
    {
     "name": "stderr",
     "output_type": "stream",
     "text": [
      "                                                           \r"
     ]
    },
    {
     "name": "stdout",
     "output_type": "stream",
     "text": [
      "Train Loss: 0.9601 | Val Loss: 1.1949\n",
      "\n",
      "Epoch [3/50]\n"
     ]
    },
    {
     "name": "stderr",
     "output_type": "stream",
     "text": [
      "                                                           \r"
     ]
    },
    {
     "name": "stdout",
     "output_type": "stream",
     "text": [
      "Train Loss: 0.9946 | Val Loss: 1.0778\n",
      "\n",
      "Epoch [4/50]\n"
     ]
    },
    {
     "name": "stderr",
     "output_type": "stream",
     "text": [
      "                                                           \r"
     ]
    },
    {
     "name": "stdout",
     "output_type": "stream",
     "text": [
      "Train Loss: 0.9646 | Val Loss: 1.1144\n",
      "\n",
      "Epoch [5/50]\n"
     ]
    },
    {
     "name": "stderr",
     "output_type": "stream",
     "text": [
      "                                                           \r"
     ]
    },
    {
     "name": "stdout",
     "output_type": "stream",
     "text": [
      "Train Loss: 0.9336 | Val Loss: 1.2668\n",
      "⏹️ Early stopping triggered at epoch 5\n",
      "Finished training for gene: SNORA47\n",
      "Loading CSV and images...\n",
      "⚠️ Skipping patient R01-037 due to NaN gene value for RPS29\n",
      "⚠️ Skipping patient R01-042 due to NaN gene value for RPS29\n",
      "Training model for gene: RPS29 (Index: 31)\n",
      "\n",
      "Epoch [1/50]\n"
     ]
    },
    {
     "name": "stderr",
     "output_type": "stream",
     "text": [
      "                                                           \r"
     ]
    },
    {
     "name": "stdout",
     "output_type": "stream",
     "text": [
      "Train Loss: 2.2579 | Val Loss: 0.5947\n",
      "\n",
      "Epoch [2/50]\n"
     ]
    },
    {
     "name": "stderr",
     "output_type": "stream",
     "text": [
      "                                                           \r"
     ]
    },
    {
     "name": "stdout",
     "output_type": "stream",
     "text": [
      "Train Loss: 0.6675 | Val Loss: 0.6232\n",
      "\n",
      "Epoch [3/50]\n"
     ]
    },
    {
     "name": "stderr",
     "output_type": "stream",
     "text": [
      "                                                           \r"
     ]
    },
    {
     "name": "stdout",
     "output_type": "stream",
     "text": [
      "Train Loss: 0.7053 | Val Loss: 0.7356\n",
      "⏹️ Early stopping triggered at epoch 3\n",
      "Finished training for gene: RPS29\n",
      "Loading CSV and images...\n",
      "Training model for gene: SETD3 (Index: 32)\n",
      "\n",
      "Epoch [1/50]\n"
     ]
    },
    {
     "name": "stderr",
     "output_type": "stream",
     "text": [
      "                                                           \r"
     ]
    },
    {
     "name": "stdout",
     "output_type": "stream",
     "text": [
      "Train Loss: 0.8285 | Val Loss: 0.0000\n",
      "\n",
      "Epoch [2/50]\n"
     ]
    },
    {
     "name": "stderr",
     "output_type": "stream",
     "text": [
      "                                                           \r"
     ]
    },
    {
     "name": "stdout",
     "output_type": "stream",
     "text": [
      "Train Loss: 0.9342 | Val Loss: 0.0000\n",
      "\n",
      "Epoch [3/50]\n"
     ]
    },
    {
     "name": "stderr",
     "output_type": "stream",
     "text": [
      "                                                           \r"
     ]
    },
    {
     "name": "stdout",
     "output_type": "stream",
     "text": [
      "Train Loss: 1.0896 | Val Loss: 0.0000\n",
      "⏹️ Early stopping triggered at epoch 3\n",
      "Finished training for gene: SETD3\n",
      "Loading CSV and images...\n",
      "⚠️ Skipping patient R01-015 due to NaN gene value for GPC3\n",
      "⚠️ Skipping patient R01-022 due to NaN gene value for GPC3\n",
      "⚠️ Skipping patient R01-027 due to NaN gene value for GPC3\n",
      "⚠️ Skipping patient R01-029 due to NaN gene value for GPC3\n",
      "⚠️ Skipping patient R01-037 due to NaN gene value for GPC3\n",
      "⚠️ Skipping patient R01-051 due to NaN gene value for GPC3\n",
      "⚠️ Skipping patient R01-052 due to NaN gene value for GPC3\n",
      "⚠️ Skipping patient R01-055 due to NaN gene value for GPC3\n",
      "⚠️ Skipping patient R01-097 due to NaN gene value for GPC3\n",
      "⚠️ Skipping patient R01-160 due to NaN gene value for GPC3\n",
      "Training model for gene: GPC3 (Index: 33)\n",
      "\n",
      "Epoch [1/50]\n"
     ]
    },
    {
     "name": "stderr",
     "output_type": "stream",
     "text": [
      "                                                           \r"
     ]
    },
    {
     "name": "stdout",
     "output_type": "stream",
     "text": [
      "Train Loss: 1.1045 | Val Loss: 1.0803\n",
      "\n",
      "Epoch [2/50]\n"
     ]
    },
    {
     "name": "stderr",
     "output_type": "stream",
     "text": [
      "                                                           \r"
     ]
    },
    {
     "name": "stdout",
     "output_type": "stream",
     "text": [
      "Train Loss: 1.0488 | Val Loss: 1.1124\n",
      "\n",
      "Epoch [3/50]\n"
     ]
    },
    {
     "name": "stderr",
     "output_type": "stream",
     "text": [
      "                                                           \r"
     ]
    },
    {
     "name": "stdout",
     "output_type": "stream",
     "text": [
      "Train Loss: 0.9691 | Val Loss: 1.3546\n",
      "⏹️ Early stopping triggered at epoch 3\n",
      "Finished training for gene: GPC3\n",
      "Loading CSV and images...\n",
      "⚠️ Skipping patient R01-052 due to NaN gene value for TNFAIP8\n",
      "Training model for gene: TNFAIP8 (Index: 34)\n",
      "\n",
      "Epoch [1/50]\n"
     ]
    },
    {
     "name": "stderr",
     "output_type": "stream",
     "text": [
      "                                                           \r"
     ]
    },
    {
     "name": "stdout",
     "output_type": "stream",
     "text": [
      "Train Loss: 0.6850 | Val Loss: 0.2262\n",
      "\n",
      "Epoch [2/50]\n"
     ]
    },
    {
     "name": "stderr",
     "output_type": "stream",
     "text": [
      "                                                           \r"
     ]
    },
    {
     "name": "stdout",
     "output_type": "stream",
     "text": [
      "Train Loss: 0.4336 | Val Loss: 0.5063\n",
      "\n",
      "Epoch [3/50]\n"
     ]
    },
    {
     "name": "stderr",
     "output_type": "stream",
     "text": [
      "                                                           \r"
     ]
    },
    {
     "name": "stdout",
     "output_type": "stream",
     "text": [
      "Train Loss: 0.3930 | Val Loss: 0.4537\n",
      "⏹️ Early stopping triggered at epoch 3\n",
      "Finished training for gene: TNFAIP8\n",
      "Loading CSV and images...\n",
      "⚠️ Skipping patient R01-005 due to NaN gene value for LARGE\n",
      "⚠️ Skipping patient R01-129 due to NaN gene value for LARGE\n",
      "Training model for gene: LARGE (Index: 35)\n",
      "\n",
      "Epoch [1/50]\n"
     ]
    },
    {
     "name": "stderr",
     "output_type": "stream",
     "text": [
      "                                                           \r"
     ]
    },
    {
     "name": "stdout",
     "output_type": "stream",
     "text": [
      "Train Loss: 1.0449 | Val Loss: 1.0206\n",
      "\n",
      "Epoch [2/50]\n"
     ]
    },
    {
     "name": "stderr",
     "output_type": "stream",
     "text": [
      "                                                           \r"
     ]
    },
    {
     "name": "stdout",
     "output_type": "stream",
     "text": [
      "Train Loss: 0.7649 | Val Loss: 0.9040\n",
      "\n",
      "Epoch [3/50]\n"
     ]
    },
    {
     "name": "stderr",
     "output_type": "stream",
     "text": [
      "                                                           \r"
     ]
    },
    {
     "name": "stdout",
     "output_type": "stream",
     "text": [
      "Train Loss: 0.7521 | Val Loss: 0.9527\n",
      "\n",
      "Epoch [4/50]\n"
     ]
    },
    {
     "name": "stderr",
     "output_type": "stream",
     "text": [
      "                                                           \r"
     ]
    },
    {
     "name": "stdout",
     "output_type": "stream",
     "text": [
      "Train Loss: 0.8629 | Val Loss: 1.0435\n",
      "⏹️ Early stopping triggered at epoch 4\n",
      "Finished training for gene: LARGE\n",
      "Loading CSV and images...\n",
      "⚠️ Skipping patient R01-005 due to NaN gene value for LILRB3\n",
      "⚠️ Skipping patient R01-006 due to NaN gene value for LILRB3\n",
      "⚠️ Skipping patient R01-022 due to NaN gene value for LILRB3\n",
      "⚠️ Skipping patient R01-027 due to NaN gene value for LILRB3\n",
      "⚠️ Skipping patient R01-029 due to NaN gene value for LILRB3\n",
      "⚠️ Skipping patient R01-048 due to NaN gene value for LILRB3\n",
      "⚠️ Skipping patient R01-051 due to NaN gene value for LILRB3\n",
      "⚠️ Skipping patient R01-052 due to NaN gene value for LILRB3\n",
      "⚠️ Skipping patient R01-055 due to NaN gene value for LILRB3\n",
      "⚠️ Skipping patient R01-065 due to NaN gene value for LILRB3\n",
      "⚠️ Skipping patient R01-069 due to NaN gene value for LILRB3\n",
      "⚠️ Skipping patient R01-071 due to NaN gene value for LILRB3\n",
      "⚠️ Skipping patient R01-073 due to NaN gene value for LILRB3\n",
      "⚠️ Skipping patient R01-097 due to NaN gene value for LILRB3\n",
      "⚠️ Skipping patient R01-102 due to NaN gene value for LILRB3\n",
      "⚠️ Skipping patient R01-131 due to NaN gene value for LILRB3\n",
      "⚠️ Skipping patient R01-144 due to NaN gene value for LILRB3\n",
      "⚠️ Skipping patient R01-149 due to NaN gene value for LILRB3\n",
      "⚠️ Skipping patient R01-150 due to NaN gene value for LILRB3\n",
      "⚠️ Skipping patient R01-158 due to NaN gene value for LILRB3\n",
      "⚠️ Skipping patient R01-159 due to NaN gene value for LILRB3\n",
      "Training model for gene: LILRB3 (Index: 36)\n",
      "\n",
      "Epoch [1/50]\n"
     ]
    },
    {
     "name": "stderr",
     "output_type": "stream",
     "text": [
      "                                                           \r"
     ]
    },
    {
     "name": "stdout",
     "output_type": "stream",
     "text": [
      "Train Loss: 3.1091 | Val Loss: 1.0290\n",
      "\n",
      "Epoch [2/50]\n"
     ]
    },
    {
     "name": "stderr",
     "output_type": "stream",
     "text": [
      "                                                           \r"
     ]
    },
    {
     "name": "stdout",
     "output_type": "stream",
     "text": [
      "Train Loss: 0.6204 | Val Loss: 0.7333\n",
      "\n",
      "Epoch [3/50]\n"
     ]
    },
    {
     "name": "stderr",
     "output_type": "stream",
     "text": [
      "                                                           \r"
     ]
    },
    {
     "name": "stdout",
     "output_type": "stream",
     "text": [
      "Train Loss: 0.5389 | Val Loss: 0.7960\n",
      "\n",
      "Epoch [4/50]\n"
     ]
    },
    {
     "name": "stderr",
     "output_type": "stream",
     "text": [
      "                                                           \r"
     ]
    },
    {
     "name": "stdout",
     "output_type": "stream",
     "text": [
      "Train Loss: 0.5228 | Val Loss: 0.8441\n",
      "⏹️ Early stopping triggered at epoch 4\n",
      "Finished training for gene: LILRB3\n",
      "Loading CSV and images...\n",
      "Training model for gene: APP (Index: 37)\n",
      "\n",
      "Epoch [1/50]\n"
     ]
    },
    {
     "name": "stderr",
     "output_type": "stream",
     "text": [
      "                                                           \r"
     ]
    },
    {
     "name": "stdout",
     "output_type": "stream",
     "text": [
      "Train Loss: 1.6282 | Val Loss: 0.0000\n",
      "\n",
      "Epoch [2/50]\n"
     ]
    },
    {
     "name": "stderr",
     "output_type": "stream",
     "text": [
      "                                                           \r"
     ]
    },
    {
     "name": "stdout",
     "output_type": "stream",
     "text": [
      "Train Loss: 1.1483 | Val Loss: 0.0000\n",
      "\n",
      "Epoch [3/50]\n"
     ]
    },
    {
     "name": "stderr",
     "output_type": "stream",
     "text": [
      "                                                           \r"
     ]
    },
    {
     "name": "stdout",
     "output_type": "stream",
     "text": [
      "Train Loss: 0.4252 | Val Loss: 0.0460\n",
      "⏹️ Early stopping triggered at epoch 3\n",
      "Finished training for gene: APP\n",
      "Loading CSV and images...\n",
      "⚠️ Skipping patient R01-027 due to NaN gene value for SFTPB\n",
      "⚠️ Skipping patient R01-055 due to NaN gene value for SFTPB\n",
      "⚠️ Skipping patient R01-119 due to NaN gene value for SFTPB\n",
      "⚠️ Skipping patient R01-150 due to NaN gene value for SFTPB\n",
      "Training model for gene: SFTPB (Index: 38)\n",
      "\n",
      "Epoch [1/50]\n"
     ]
    },
    {
     "name": "stderr",
     "output_type": "stream",
     "text": [
      "                                                           \r"
     ]
    },
    {
     "name": "stdout",
     "output_type": "stream",
     "text": [
      "Train Loss: 1.6221 | Val Loss: 0.3510\n",
      "\n",
      "Epoch [2/50]\n"
     ]
    },
    {
     "name": "stderr",
     "output_type": "stream",
     "text": [
      "                                                           \r"
     ]
    },
    {
     "name": "stdout",
     "output_type": "stream",
     "text": [
      "Train Loss: 0.7749 | Val Loss: 0.5061\n",
      "\n",
      "Epoch [3/50]\n"
     ]
    },
    {
     "name": "stderr",
     "output_type": "stream",
     "text": [
      "                                                           \r"
     ]
    },
    {
     "name": "stdout",
     "output_type": "stream",
     "text": [
      "Train Loss: 0.8053 | Val Loss: 0.3883\n",
      "⏹️ Early stopping triggered at epoch 3\n",
      "Finished training for gene: SFTPB\n",
      "Loading CSV and images...\n",
      "⚠️ Skipping patient R01-037 due to NaN gene value for PGS1\n",
      "⚠️ Skipping patient R01-080 due to NaN gene value for PGS1\n",
      "Training model for gene: PGS1 (Index: 39)\n",
      "\n",
      "Epoch [1/50]\n"
     ]
    },
    {
     "name": "stderr",
     "output_type": "stream",
     "text": [
      "                                                           \r"
     ]
    },
    {
     "name": "stdout",
     "output_type": "stream",
     "text": [
      "Train Loss: 0.8054 | Val Loss: 0.4878\n",
      "\n",
      "Epoch [2/50]\n"
     ]
    },
    {
     "name": "stderr",
     "output_type": "stream",
     "text": [
      "                                                           \r"
     ]
    },
    {
     "name": "stdout",
     "output_type": "stream",
     "text": [
      "Train Loss: 0.6648 | Val Loss: 0.4309\n",
      "\n",
      "Epoch [3/50]\n"
     ]
    },
    {
     "name": "stderr",
     "output_type": "stream",
     "text": [
      "                                                           \r"
     ]
    },
    {
     "name": "stdout",
     "output_type": "stream",
     "text": [
      "Train Loss: 0.5594 | Val Loss: 0.4633\n",
      "\n",
      "Epoch [4/50]\n"
     ]
    },
    {
     "name": "stderr",
     "output_type": "stream",
     "text": [
      "                                                           \r"
     ]
    },
    {
     "name": "stdout",
     "output_type": "stream",
     "text": [
      "Train Loss: 0.5882 | Val Loss: 0.5389\n",
      "⏹️ Early stopping triggered at epoch 4\n",
      "Finished training for gene: PGS1\n",
      "Loading CSV and images...\n",
      "Training model for gene: RPL12 (Index: 40)\n",
      "\n",
      "Epoch [1/50]\n"
     ]
    },
    {
     "name": "stderr",
     "output_type": "stream",
     "text": [
      "                                                           \r"
     ]
    },
    {
     "name": "stdout",
     "output_type": "stream",
     "text": [
      "Train Loss: 1.0401 | Val Loss: 0.8469\n",
      "\n",
      "Epoch [2/50]\n"
     ]
    },
    {
     "name": "stderr",
     "output_type": "stream",
     "text": [
      "                                                           \r"
     ]
    },
    {
     "name": "stdout",
     "output_type": "stream",
     "text": [
      "Train Loss: 0.9387 | Val Loss: 0.8807\n",
      "\n",
      "Epoch [3/50]\n"
     ]
    },
    {
     "name": "stderr",
     "output_type": "stream",
     "text": [
      "                                                           \r"
     ]
    },
    {
     "name": "stdout",
     "output_type": "stream",
     "text": [
      "Train Loss: 0.9861 | Val Loss: 0.9242\n",
      "⏹️ Early stopping triggered at epoch 3\n",
      "Finished training for gene: RPL12\n",
      "Loading CSV and images...\n",
      "⚠️ Skipping patient R01-051 due to NaN gene value for MEGF8\n",
      "Training model for gene: MEGF8 (Index: 41)\n",
      "\n",
      "Epoch [1/50]\n"
     ]
    },
    {
     "name": "stderr",
     "output_type": "stream",
     "text": [
      "                                                           \r"
     ]
    },
    {
     "name": "stdout",
     "output_type": "stream",
     "text": [
      "Train Loss: 0.0635 | Val Loss: 1.5321\n",
      "\n",
      "Epoch [2/50]\n"
     ]
    },
    {
     "name": "stderr",
     "output_type": "stream",
     "text": [
      "                                                           \r"
     ]
    },
    {
     "name": "stdout",
     "output_type": "stream",
     "text": [
      "Train Loss: 0.0000 | Val Loss: 1.5025\n",
      "\n",
      "Epoch [3/50]\n"
     ]
    },
    {
     "name": "stderr",
     "output_type": "stream",
     "text": [
      "                                                           \r"
     ]
    },
    {
     "name": "stdout",
     "output_type": "stream",
     "text": [
      "Train Loss: 0.0000 | Val Loss: 1.5444\n",
      "\n",
      "Epoch [4/50]\n"
     ]
    },
    {
     "name": "stderr",
     "output_type": "stream",
     "text": [
      "                                                           \r"
     ]
    },
    {
     "name": "stdout",
     "output_type": "stream",
     "text": [
      "Train Loss: 0.0000 | Val Loss: 1.4786\n",
      "\n",
      "Epoch [5/50]\n"
     ]
    },
    {
     "name": "stderr",
     "output_type": "stream",
     "text": [
      "                                                           \r"
     ]
    },
    {
     "name": "stdout",
     "output_type": "stream",
     "text": [
      "Train Loss: 0.0000 | Val Loss: 1.4984\n",
      "\n",
      "Epoch [6/50]\n"
     ]
    },
    {
     "name": "stderr",
     "output_type": "stream",
     "text": [
      "                                                           \r"
     ]
    },
    {
     "name": "stdout",
     "output_type": "stream",
     "text": [
      "Train Loss: 0.0000 | Val Loss: 1.4975\n",
      "⏹️ Early stopping triggered at epoch 6\n",
      "Finished training for gene: MEGF8\n",
      "Loading CSV and images...\n",
      "⚠️ Skipping patient R01-052 due to NaN gene value for TSPAN9\n",
      "Training model for gene: TSPAN9 (Index: 42)\n",
      "\n",
      "Epoch [1/50]\n"
     ]
    },
    {
     "name": "stderr",
     "output_type": "stream",
     "text": [
      "                                                           \r"
     ]
    },
    {
     "name": "stdout",
     "output_type": "stream",
     "text": [
      "Train Loss: 1.1330 | Val Loss: 1.0076\n",
      "\n",
      "Epoch [2/50]\n"
     ]
    },
    {
     "name": "stderr",
     "output_type": "stream",
     "text": [
      "                                                           \r"
     ]
    },
    {
     "name": "stdout",
     "output_type": "stream",
     "text": [
      "Train Loss: 1.0492 | Val Loss: 0.9798\n",
      "\n",
      "Epoch [3/50]\n"
     ]
    },
    {
     "name": "stderr",
     "output_type": "stream",
     "text": [
      "                                                           \r"
     ]
    },
    {
     "name": "stdout",
     "output_type": "stream",
     "text": [
      "Train Loss: 1.0130 | Val Loss: 1.2248\n",
      "\n",
      "Epoch [4/50]\n"
     ]
    },
    {
     "name": "stderr",
     "output_type": "stream",
     "text": [
      "                                                           \r"
     ]
    },
    {
     "name": "stdout",
     "output_type": "stream",
     "text": [
      "Train Loss: 0.9848 | Val Loss: 2.5485\n",
      "⏹️ Early stopping triggered at epoch 4\n",
      "Finished training for gene: TSPAN9\n",
      "Loading CSV and images...\n",
      "⚠️ Skipping patient R01-004 due to NaN gene value for CEACAM5\n",
      "⚠️ Skipping patient R01-015 due to NaN gene value for CEACAM5\n",
      "⚠️ Skipping patient R01-018 due to NaN gene value for CEACAM5\n",
      "⚠️ Skipping patient R01-023 due to NaN gene value for CEACAM5\n",
      "⚠️ Skipping patient R01-027 due to NaN gene value for CEACAM5\n",
      "⚠️ Skipping patient R01-031 due to NaN gene value for CEACAM5\n",
      "⚠️ Skipping patient R01-040 due to NaN gene value for CEACAM5\n",
      "⚠️ Skipping patient R01-046 due to NaN gene value for CEACAM5\n",
      "⚠️ Skipping patient R01-052 due to NaN gene value for CEACAM5\n",
      "⚠️ Skipping patient R01-068 due to NaN gene value for CEACAM5\n",
      "⚠️ Skipping patient R01-072 due to NaN gene value for CEACAM5\n",
      "⚠️ Skipping patient R01-099 due to NaN gene value for CEACAM5\n",
      "⚠️ Skipping patient R01-102 due to NaN gene value for CEACAM5\n",
      "⚠️ Skipping patient R01-105 due to NaN gene value for CEACAM5\n",
      "⚠️ Skipping patient R01-107 due to NaN gene value for CEACAM5\n",
      "⚠️ Skipping patient R01-110 due to NaN gene value for CEACAM5\n",
      "⚠️ Skipping patient R01-112 due to NaN gene value for CEACAM5\n",
      "⚠️ Skipping patient R01-118 due to NaN gene value for CEACAM5\n",
      "⚠️ Skipping patient R01-130 due to NaN gene value for CEACAM5\n",
      "⚠️ Skipping patient R01-133 due to NaN gene value for CEACAM5\n",
      "⚠️ Skipping patient R01-142 due to NaN gene value for CEACAM5\n",
      "⚠️ Skipping patient R01-148 due to NaN gene value for CEACAM5\n",
      "⚠️ Skipping patient R01-153 due to NaN gene value for CEACAM5\n",
      "Training model for gene: CEACAM5 (Index: 43)\n",
      "\n",
      "Epoch [1/50]\n"
     ]
    },
    {
     "name": "stderr",
     "output_type": "stream",
     "text": [
      "                                                           \r"
     ]
    },
    {
     "name": "stdout",
     "output_type": "stream",
     "text": [
      "Train Loss: 1.4943 | Val Loss: 0.9558\n",
      "\n",
      "Epoch [2/50]\n"
     ]
    },
    {
     "name": "stderr",
     "output_type": "stream",
     "text": [
      "                                                           \r"
     ]
    },
    {
     "name": "stdout",
     "output_type": "stream",
     "text": [
      "Train Loss: 1.0746 | Val Loss: 0.9396\n",
      "\n",
      "Epoch [3/50]\n"
     ]
    },
    {
     "name": "stderr",
     "output_type": "stream",
     "text": [
      "                                                           \r"
     ]
    },
    {
     "name": "stdout",
     "output_type": "stream",
     "text": [
      "Train Loss: 1.0458 | Val Loss: 0.8924\n",
      "\n",
      "Epoch [4/50]\n"
     ]
    },
    {
     "name": "stderr",
     "output_type": "stream",
     "text": [
      "                                                           \r"
     ]
    },
    {
     "name": "stdout",
     "output_type": "stream",
     "text": [
      "Train Loss: 1.0657 | Val Loss: 1.0049\n",
      "\n",
      "Epoch [5/50]\n"
     ]
    },
    {
     "name": "stderr",
     "output_type": "stream",
     "text": [
      "                                                           \r"
     ]
    },
    {
     "name": "stdout",
     "output_type": "stream",
     "text": [
      "Train Loss: 1.0448 | Val Loss: 0.9022\n",
      "⏹️ Early stopping triggered at epoch 5\n",
      "Finished training for gene: CEACAM5\n",
      "Loading CSV and images...\n",
      "⚠️ Skipping patient R01-102 due to NaN gene value for RPS28\n",
      "⚠️ Skipping patient R01-106 due to NaN gene value for RPS28\n",
      "⚠️ Skipping patient R01-109 due to NaN gene value for RPS28\n",
      "⚠️ Skipping patient R01-115 due to NaN gene value for RPS28\n",
      "⚠️ Skipping patient R01-117 due to NaN gene value for RPS28\n",
      "⚠️ Skipping patient R01-122 due to NaN gene value for RPS28\n",
      "⚠️ Skipping patient R01-126 due to NaN gene value for RPS28\n",
      "⚠️ Skipping patient R01-128 due to NaN gene value for RPS28\n",
      "⚠️ Skipping patient R01-129 due to NaN gene value for RPS28\n",
      "⚠️ Skipping patient R01-131 due to NaN gene value for RPS28\n",
      "⚠️ Skipping patient R01-132 due to NaN gene value for RPS28\n",
      "⚠️ Skipping patient R01-137 due to NaN gene value for RPS28\n",
      "⚠️ Skipping patient R01-139 due to NaN gene value for RPS28\n",
      "⚠️ Skipping patient R01-146 due to NaN gene value for RPS28\n",
      "Training model for gene: RPS28 (Index: 44)\n",
      "\n",
      "Epoch [1/50]\n"
     ]
    },
    {
     "name": "stderr",
     "output_type": "stream",
     "text": [
      "                                                           \r"
     ]
    },
    {
     "name": "stdout",
     "output_type": "stream",
     "text": [
      "Train Loss: 0.9250 | Val Loss: 0.9209\n",
      "\n",
      "Epoch [2/50]\n"
     ]
    },
    {
     "name": "stderr",
     "output_type": "stream",
     "text": [
      "                                                           \r"
     ]
    },
    {
     "name": "stdout",
     "output_type": "stream",
     "text": [
      "Train Loss: 0.9457 | Val Loss: 1.2206\n",
      "\n",
      "Epoch [3/50]\n"
     ]
    },
    {
     "name": "stderr",
     "output_type": "stream",
     "text": [
      "                                                           \r"
     ]
    },
    {
     "name": "stdout",
     "output_type": "stream",
     "text": [
      "Train Loss: 0.9028 | Val Loss: 0.9411\n",
      "⏹️ Early stopping triggered at epoch 3\n",
      "Finished training for gene: RPS28\n",
      "Loading CSV and images...\n",
      "⚠️ Skipping patient R01-052 due to NaN gene value for AASDH\n",
      "Training model for gene: AASDH (Index: 45)\n",
      "\n",
      "Epoch [1/50]\n"
     ]
    },
    {
     "name": "stderr",
     "output_type": "stream",
     "text": [
      "                                                           \r"
     ]
    },
    {
     "name": "stdout",
     "output_type": "stream",
     "text": [
      "Train Loss: 1.2915 | Val Loss: 1.0010\n",
      "\n",
      "Epoch [2/50]\n"
     ]
    },
    {
     "name": "stderr",
     "output_type": "stream",
     "text": [
      "                                                           \r"
     ]
    },
    {
     "name": "stdout",
     "output_type": "stream",
     "text": [
      "Train Loss: 0.7815 | Val Loss: 0.9883\n",
      "\n",
      "Epoch [3/50]\n"
     ]
    },
    {
     "name": "stderr",
     "output_type": "stream",
     "text": [
      "                                                           \r"
     ]
    },
    {
     "name": "stdout",
     "output_type": "stream",
     "text": [
      "Train Loss: 0.8356 | Val Loss: 0.7971\n",
      "\n",
      "Epoch [4/50]\n"
     ]
    },
    {
     "name": "stderr",
     "output_type": "stream",
     "text": [
      "                                                           \r"
     ]
    },
    {
     "name": "stdout",
     "output_type": "stream",
     "text": [
      "Train Loss: 0.7521 | Val Loss: 0.7709\n",
      "\n",
      "Epoch [5/50]\n"
     ]
    },
    {
     "name": "stderr",
     "output_type": "stream",
     "text": [
      "                                                           \r"
     ]
    },
    {
     "name": "stdout",
     "output_type": "stream",
     "text": [
      "Train Loss: 0.7861 | Val Loss: 0.8226\n",
      "\n",
      "Epoch [6/50]\n"
     ]
    },
    {
     "name": "stderr",
     "output_type": "stream",
     "text": [
      "                                                           \r"
     ]
    },
    {
     "name": "stdout",
     "output_type": "stream",
     "text": [
      "Train Loss: 0.6652 | Val Loss: 0.8978\n",
      "⏹️ Early stopping triggered at epoch 6\n",
      "Finished training for gene: AASDH\n",
      "Loading CSV and images...\n",
      "Training model for gene: VGLL4 (Index: 46)\n",
      "\n",
      "Epoch [1/50]\n"
     ]
    },
    {
     "name": "stderr",
     "output_type": "stream",
     "text": [
      "                                                           \r"
     ]
    },
    {
     "name": "stdout",
     "output_type": "stream",
     "text": [
      "Train Loss: 0.5099 | Val Loss: 0.0000\n",
      "\n",
      "Epoch [2/50]\n"
     ]
    },
    {
     "name": "stderr",
     "output_type": "stream",
     "text": [
      "                                                           \r"
     ]
    },
    {
     "name": "stdout",
     "output_type": "stream",
     "text": [
      "Train Loss: 0.5816 | Val Loss: 0.0000\n",
      "\n",
      "Epoch [3/50]\n"
     ]
    },
    {
     "name": "stderr",
     "output_type": "stream",
     "text": [
      "                                                           \r"
     ]
    },
    {
     "name": "stdout",
     "output_type": "stream",
     "text": [
      "Train Loss: 0.8073 | Val Loss: 0.0000\n",
      "⏹️ Early stopping triggered at epoch 3\n",
      "Finished training for gene: VGLL4\n",
      "Loading CSV and images...\n",
      "⚠️ Skipping patient R01-105 due to NaN gene value for PTPN1\n",
      "Training model for gene: PTPN1 (Index: 47)\n",
      "\n",
      "Epoch [1/50]\n"
     ]
    },
    {
     "name": "stderr",
     "output_type": "stream",
     "text": [
      "                                                           \r"
     ]
    },
    {
     "name": "stdout",
     "output_type": "stream",
     "text": [
      "Train Loss: 0.7699 | Val Loss: 0.0000\n",
      "\n",
      "Epoch [2/50]\n"
     ]
    },
    {
     "name": "stderr",
     "output_type": "stream",
     "text": [
      "                                                           \r"
     ]
    },
    {
     "name": "stdout",
     "output_type": "stream",
     "text": [
      "Train Loss: 1.1370 | Val Loss: 0.0529\n",
      "\n",
      "Epoch [3/50]\n"
     ]
    },
    {
     "name": "stderr",
     "output_type": "stream",
     "text": [
      "                                                           \r"
     ]
    },
    {
     "name": "stdout",
     "output_type": "stream",
     "text": [
      "Train Loss: 0.4805 | Val Loss: 0.0001\n",
      "⏹️ Early stopping triggered at epoch 3\n",
      "Finished training for gene: PTPN1\n",
      "Loading CSV and images...\n",
      "⚠️ Skipping patient R01-118 due to NaN gene value for ANO9\n",
      "⚠️ Skipping patient R01-120 due to NaN gene value for ANO9\n",
      "Training model for gene: ANO9 (Index: 48)\n",
      "\n",
      "Epoch [1/50]\n"
     ]
    },
    {
     "name": "stderr",
     "output_type": "stream",
     "text": [
      "                                                           \r"
     ]
    },
    {
     "name": "stdout",
     "output_type": "stream",
     "text": [
      "Train Loss: 0.7208 | Val Loss: 2.2944\n",
      "\n",
      "Epoch [2/50]\n"
     ]
    },
    {
     "name": "stderr",
     "output_type": "stream",
     "text": [
      "                                                           \r"
     ]
    },
    {
     "name": "stdout",
     "output_type": "stream",
     "text": [
      "Train Loss: 0.7823 | Val Loss: 2.1678\n",
      "\n",
      "Epoch [3/50]\n"
     ]
    },
    {
     "name": "stderr",
     "output_type": "stream",
     "text": [
      "                                                           \r"
     ]
    },
    {
     "name": "stdout",
     "output_type": "stream",
     "text": [
      "Train Loss: 1.1918 | Val Loss: 0.9021\n",
      "\n",
      "Epoch [4/50]\n"
     ]
    },
    {
     "name": "stderr",
     "output_type": "stream",
     "text": [
      "                                                           \r"
     ]
    },
    {
     "name": "stdout",
     "output_type": "stream",
     "text": [
      "Train Loss: 0.4069 | Val Loss: 0.6797\n",
      "\n",
      "Epoch [5/50]\n"
     ]
    },
    {
     "name": "stderr",
     "output_type": "stream",
     "text": [
      "                                                           \r"
     ]
    },
    {
     "name": "stdout",
     "output_type": "stream",
     "text": [
      "Train Loss: 0.2517 | Val Loss: 0.3312\n",
      "\n",
      "Epoch [6/50]\n"
     ]
    },
    {
     "name": "stderr",
     "output_type": "stream",
     "text": [
      "                                                           \r"
     ]
    },
    {
     "name": "stdout",
     "output_type": "stream",
     "text": [
      "Train Loss: 0.2225 | Val Loss: 0.5888\n",
      "\n",
      "Epoch [7/50]\n"
     ]
    },
    {
     "name": "stderr",
     "output_type": "stream",
     "text": [
      "                                                           \r"
     ]
    },
    {
     "name": "stdout",
     "output_type": "stream",
     "text": [
      "Train Loss: 0.2667 | Val Loss: 0.4253\n",
      "⏹️ Early stopping triggered at epoch 7\n",
      "Finished training for gene: ANO9\n",
      "Loading CSV and images...\n",
      "⚠️ Skipping patient R01-027 due to NaN gene value for SFTPA2\n",
      "⚠️ Skipping patient R01-055 due to NaN gene value for SFTPA2\n",
      "⚠️ Skipping patient R01-150 due to NaN gene value for SFTPA2\n",
      "Training model for gene: SFTPA2 (Index: 49)\n",
      "\n",
      "Epoch [1/50]\n"
     ]
    },
    {
     "name": "stderr",
     "output_type": "stream",
     "text": [
      "                                                           \r"
     ]
    },
    {
     "name": "stdout",
     "output_type": "stream",
     "text": [
      "Train Loss: 1.1781 | Val Loss: 0.9515\n",
      "\n",
      "Epoch [2/50]\n"
     ]
    },
    {
     "name": "stderr",
     "output_type": "stream",
     "text": [
      "                                                           \r"
     ]
    },
    {
     "name": "stdout",
     "output_type": "stream",
     "text": [
      "Train Loss: 0.9595 | Val Loss: 0.7819\n",
      "\n",
      "Epoch [3/50]\n"
     ]
    },
    {
     "name": "stderr",
     "output_type": "stream",
     "text": [
      "                                                           \r"
     ]
    },
    {
     "name": "stdout",
     "output_type": "stream",
     "text": [
      "Train Loss: 0.9484 | Val Loss: 0.7926\n",
      "\n",
      "Epoch [4/50]\n"
     ]
    },
    {
     "name": "stderr",
     "output_type": "stream",
     "text": [
      "                                                           \r"
     ]
    },
    {
     "name": "stdout",
     "output_type": "stream",
     "text": [
      "Train Loss: 0.9709 | Val Loss: 0.8016\n",
      "⏹️ Early stopping triggered at epoch 4\n",
      "Finished training for gene: SFTPA2\n",
      "Loading CSV and images...\n",
      "Training model for gene: CDK5RAP1 (Index: 50)\n",
      "\n",
      "Epoch [1/50]\n"
     ]
    },
    {
     "name": "stderr",
     "output_type": "stream",
     "text": [
      "                                                           \r"
     ]
    },
    {
     "name": "stdout",
     "output_type": "stream",
     "text": [
      "Train Loss: 0.5247 | Val Loss: 0.0000\n",
      "\n",
      "Epoch [2/50]\n"
     ]
    },
    {
     "name": "stderr",
     "output_type": "stream",
     "text": [
      "                                                           \r"
     ]
    },
    {
     "name": "stdout",
     "output_type": "stream",
     "text": [
      "Train Loss: 0.6047 | Val Loss: 0.0000\n",
      "\n",
      "Epoch [3/50]\n"
     ]
    },
    {
     "name": "stderr",
     "output_type": "stream",
     "text": [
      "                                                           \r"
     ]
    },
    {
     "name": "stdout",
     "output_type": "stream",
     "text": [
      "Train Loss: 0.5636 | Val Loss: 0.0456\n",
      "⏹️ Early stopping triggered at epoch 3\n",
      "Finished training for gene: CDK5RAP1\n",
      "Loading CSV and images...\n",
      "⚠️ Skipping patient R01-104 due to NaN gene value for RPL9\n",
      "⚠️ Skipping patient R01-114 due to NaN gene value for RPL9\n",
      "⚠️ Skipping patient R01-115 due to NaN gene value for RPL9\n",
      "Training model for gene: RPL9 (Index: 51)\n",
      "\n",
      "Epoch [1/50]\n"
     ]
    },
    {
     "name": "stderr",
     "output_type": "stream",
     "text": [
      "                                                           \r"
     ]
    },
    {
     "name": "stdout",
     "output_type": "stream",
     "text": [
      "Train Loss: 1.5746 | Val Loss: 1.0116\n",
      "\n",
      "Epoch [2/50]\n"
     ]
    },
    {
     "name": "stderr",
     "output_type": "stream",
     "text": [
      "                                                           \r"
     ]
    },
    {
     "name": "stdout",
     "output_type": "stream",
     "text": [
      "Train Loss: 1.0229 | Val Loss: 0.9161\n",
      "\n",
      "Epoch [3/50]\n"
     ]
    },
    {
     "name": "stderr",
     "output_type": "stream",
     "text": [
      "                                                           \r"
     ]
    },
    {
     "name": "stdout",
     "output_type": "stream",
     "text": [
      "Train Loss: 1.0298 | Val Loss: 0.9339\n",
      "\n",
      "Epoch [4/50]\n"
     ]
    },
    {
     "name": "stderr",
     "output_type": "stream",
     "text": [
      "                                                           \r"
     ]
    },
    {
     "name": "stdout",
     "output_type": "stream",
     "text": [
      "Train Loss: 0.9679 | Val Loss: 0.8228\n",
      "\n",
      "Epoch [5/50]\n"
     ]
    },
    {
     "name": "stderr",
     "output_type": "stream",
     "text": [
      "                                                           \r"
     ]
    },
    {
     "name": "stdout",
     "output_type": "stream",
     "text": [
      "Train Loss: 0.8219 | Val Loss: 0.9938\n",
      "\n",
      "Epoch [6/50]\n"
     ]
    },
    {
     "name": "stderr",
     "output_type": "stream",
     "text": [
      "                                                           \r"
     ]
    },
    {
     "name": "stdout",
     "output_type": "stream",
     "text": [
      "Train Loss: 0.7615 | Val Loss: 0.7369\n",
      "\n",
      "Epoch [7/50]\n"
     ]
    },
    {
     "name": "stderr",
     "output_type": "stream",
     "text": [
      "                                                           \r"
     ]
    },
    {
     "name": "stdout",
     "output_type": "stream",
     "text": [
      "Train Loss: 0.7158 | Val Loss: 0.7147\n",
      "\n",
      "Epoch [8/50]\n"
     ]
    },
    {
     "name": "stderr",
     "output_type": "stream",
     "text": [
      "                                                           \r"
     ]
    },
    {
     "name": "stdout",
     "output_type": "stream",
     "text": [
      "Train Loss: 0.7129 | Val Loss: 1.0899\n",
      "\n",
      "Epoch [9/50]\n"
     ]
    },
    {
     "name": "stderr",
     "output_type": "stream",
     "text": [
      "                                                           \r"
     ]
    },
    {
     "name": "stdout",
     "output_type": "stream",
     "text": [
      "Train Loss: 0.6180 | Val Loss: 0.9295\n",
      "⏹️ Early stopping triggered at epoch 9\n",
      "Finished training for gene: RPL9\n",
      "Loading CSV and images...\n",
      "Training model for gene: FAM172A (Index: 52)\n",
      "\n",
      "Epoch [1/50]\n"
     ]
    },
    {
     "name": "stderr",
     "output_type": "stream",
     "text": [
      "                                                           \r"
     ]
    },
    {
     "name": "stdout",
     "output_type": "stream",
     "text": [
      "Train Loss: 1.7113 | Val Loss: 5.2574\n",
      "\n",
      "Epoch [2/50]\n"
     ]
    },
    {
     "name": "stderr",
     "output_type": "stream",
     "text": [
      "                                                           \r"
     ]
    },
    {
     "name": "stdout",
     "output_type": "stream",
     "text": [
      "Train Loss: 0.5854 | Val Loss: 0.7919\n",
      "\n",
      "Epoch [3/50]\n"
     ]
    },
    {
     "name": "stderr",
     "output_type": "stream",
     "text": [
      "                                                           \r"
     ]
    },
    {
     "name": "stdout",
     "output_type": "stream",
     "text": [
      "Train Loss: 0.2656 | Val Loss: 0.9580\n",
      "\n",
      "Epoch [4/50]\n"
     ]
    },
    {
     "name": "stderr",
     "output_type": "stream",
     "text": [
      "                                                           \r"
     ]
    },
    {
     "name": "stdout",
     "output_type": "stream",
     "text": [
      "Train Loss: 0.3777 | Val Loss: 0.7989\n",
      "⏹️ Early stopping triggered at epoch 4\n",
      "Finished training for gene: FAM172A\n",
      "Loading CSV and images...\n",
      "⚠️ Skipping patient R01-027 due to NaN gene value for NAALADL2\n",
      "⚠️ Skipping patient R01-093 due to NaN gene value for NAALADL2\n",
      "Training model for gene: NAALADL2 (Index: 53)\n",
      "\n",
      "Epoch [1/50]\n"
     ]
    },
    {
     "name": "stderr",
     "output_type": "stream",
     "text": [
      "                                                           \r"
     ]
    },
    {
     "name": "stdout",
     "output_type": "stream",
     "text": [
      "Train Loss: 1.3621 | Val Loss: 1.3098\n",
      "\n",
      "Epoch [2/50]\n"
     ]
    },
    {
     "name": "stderr",
     "output_type": "stream",
     "text": [
      "                                                           \r"
     ]
    },
    {
     "name": "stdout",
     "output_type": "stream",
     "text": [
      "Train Loss: 0.7953 | Val Loss: 1.0253\n",
      "\n",
      "Epoch [3/50]\n"
     ]
    },
    {
     "name": "stderr",
     "output_type": "stream",
     "text": [
      "                                                           \r"
     ]
    },
    {
     "name": "stdout",
     "output_type": "stream",
     "text": [
      "Train Loss: 0.8581 | Val Loss: 1.0293\n",
      "\n",
      "Epoch [4/50]\n"
     ]
    },
    {
     "name": "stderr",
     "output_type": "stream",
     "text": [
      "                                                           \r"
     ]
    },
    {
     "name": "stdout",
     "output_type": "stream",
     "text": [
      "Train Loss: 0.8835 | Val Loss: 0.9988\n",
      "\n",
      "Epoch [5/50]\n"
     ]
    },
    {
     "name": "stderr",
     "output_type": "stream",
     "text": [
      "                                                           \r"
     ]
    },
    {
     "name": "stdout",
     "output_type": "stream",
     "text": [
      "Train Loss: 0.8430 | Val Loss: 1.0744\n",
      "\n",
      "Epoch [6/50]\n"
     ]
    },
    {
     "name": "stderr",
     "output_type": "stream",
     "text": [
      "                                                           \r"
     ]
    },
    {
     "name": "stdout",
     "output_type": "stream",
     "text": [
      "Train Loss: 0.8067 | Val Loss: 1.0706\n",
      "⏹️ Early stopping triggered at epoch 6\n",
      "Finished training for gene: NAALADL2\n",
      "Loading CSV and images...\n",
      "⚠️ Skipping patient R01-061 due to NaN gene value for HLA-B\n",
      "⚠️ Skipping patient R01-099 due to NaN gene value for HLA-B\n",
      "⚠️ Skipping patient R01-100 due to NaN gene value for HLA-B\n",
      "⚠️ Skipping patient R01-101 due to NaN gene value for HLA-B\n",
      "⚠️ Skipping patient R01-102 due to NaN gene value for HLA-B\n",
      "⚠️ Skipping patient R01-103 due to NaN gene value for HLA-B\n",
      "⚠️ Skipping patient R01-104 due to NaN gene value for HLA-B\n",
      "⚠️ Skipping patient R01-106 due to NaN gene value for HLA-B\n",
      "⚠️ Skipping patient R01-109 due to NaN gene value for HLA-B\n",
      "⚠️ Skipping patient R01-110 due to NaN gene value for HLA-B\n",
      "⚠️ Skipping patient R01-111 due to NaN gene value for HLA-B\n",
      "⚠️ Skipping patient R01-115 due to NaN gene value for HLA-B\n",
      "⚠️ Skipping patient R01-117 due to NaN gene value for HLA-B\n",
      "⚠️ Skipping patient R01-118 due to NaN gene value for HLA-B\n",
      "⚠️ Skipping patient R01-120 due to NaN gene value for HLA-B\n",
      "⚠️ Skipping patient R01-121 due to NaN gene value for HLA-B\n",
      "⚠️ Skipping patient R01-122 due to NaN gene value for HLA-B\n",
      "⚠️ Skipping patient R01-125 due to NaN gene value for HLA-B\n",
      "⚠️ Skipping patient R01-126 due to NaN gene value for HLA-B\n",
      "⚠️ Skipping patient R01-131 due to NaN gene value for HLA-B\n",
      "⚠️ Skipping patient R01-133 due to NaN gene value for HLA-B\n",
      "⚠️ Skipping patient R01-139 due to NaN gene value for HLA-B\n",
      "⚠️ Skipping patient R01-146 due to NaN gene value for HLA-B\n",
      "Training model for gene: HLA-B (Index: 54)\n",
      "\n",
      "Epoch [1/50]\n"
     ]
    },
    {
     "name": "stderr",
     "output_type": "stream",
     "text": [
      "                                                           \r"
     ]
    },
    {
     "name": "stdout",
     "output_type": "stream",
     "text": [
      "Train Loss: 1.7566 | Val Loss: 0.9408\n",
      "\n",
      "Epoch [2/50]\n"
     ]
    },
    {
     "name": "stderr",
     "output_type": "stream",
     "text": [
      "                                                           \r"
     ]
    },
    {
     "name": "stdout",
     "output_type": "stream",
     "text": [
      "Train Loss: 0.6243 | Val Loss: 1.5094\n",
      "\n",
      "Epoch [3/50]\n"
     ]
    },
    {
     "name": "stderr",
     "output_type": "stream",
     "text": [
      "                                                           \r"
     ]
    },
    {
     "name": "stdout",
     "output_type": "stream",
     "text": [
      "Train Loss: 0.7081 | Val Loss: 1.0929\n",
      "⏹️ Early stopping triggered at epoch 3\n",
      "Finished training for gene: HLA-B\n",
      "Loading CSV and images...\n",
      "⚠️ Skipping patient R01-017 due to NaN gene value for HLA-A\n",
      "⚠️ Skipping patient R01-018 due to NaN gene value for HLA-A\n",
      "⚠️ Skipping patient R01-028 due to NaN gene value for HLA-A\n",
      "⚠️ Skipping patient R01-035 due to NaN gene value for HLA-A\n",
      "⚠️ Skipping patient R01-040 due to NaN gene value for HLA-A\n",
      "⚠️ Skipping patient R01-043 due to NaN gene value for HLA-A\n",
      "⚠️ Skipping patient R01-046 due to NaN gene value for HLA-A\n",
      "⚠️ Skipping patient R01-051 due to NaN gene value for HLA-A\n",
      "⚠️ Skipping patient R01-054 due to NaN gene value for HLA-A\n",
      "⚠️ Skipping patient R01-060 due to NaN gene value for HLA-A\n",
      "⚠️ Skipping patient R01-061 due to NaN gene value for HLA-A\n",
      "⚠️ Skipping patient R01-062 due to NaN gene value for HLA-A\n",
      "⚠️ Skipping patient R01-065 due to NaN gene value for HLA-A\n",
      "⚠️ Skipping patient R01-073 due to NaN gene value for HLA-A\n",
      "⚠️ Skipping patient R01-077 due to NaN gene value for HLA-A\n",
      "⚠️ Skipping patient R01-078 due to NaN gene value for HLA-A\n",
      "⚠️ Skipping patient R01-091 due to NaN gene value for HLA-A\n",
      "⚠️ Skipping patient R01-153 due to NaN gene value for HLA-A\n",
      "⚠️ Skipping patient R01-157 due to NaN gene value for HLA-A\n",
      "⚠️ Skipping patient R01-159 due to NaN gene value for HLA-A\n",
      "Training model for gene: HLA-A (Index: 55)\n",
      "\n",
      "Epoch [1/50]\n"
     ]
    },
    {
     "name": "stderr",
     "output_type": "stream",
     "text": [
      "                                                           \r"
     ]
    },
    {
     "name": "stdout",
     "output_type": "stream",
     "text": [
      "Train Loss: 1.0965 | Val Loss: 0.9372\n",
      "\n",
      "Epoch [2/50]\n"
     ]
    },
    {
     "name": "stderr",
     "output_type": "stream",
     "text": [
      "                                                           \r"
     ]
    },
    {
     "name": "stdout",
     "output_type": "stream",
     "text": [
      "Train Loss: 0.8623 | Val Loss: 0.8881\n",
      "\n",
      "Epoch [3/50]\n"
     ]
    },
    {
     "name": "stderr",
     "output_type": "stream",
     "text": [
      "                                                           \r"
     ]
    },
    {
     "name": "stdout",
     "output_type": "stream",
     "text": [
      "Train Loss: 0.8011 | Val Loss: 0.9036\n",
      "\n",
      "Epoch [4/50]\n"
     ]
    },
    {
     "name": "stderr",
     "output_type": "stream",
     "text": [
      "                                                           \r"
     ]
    },
    {
     "name": "stdout",
     "output_type": "stream",
     "text": [
      "Train Loss: 0.7285 | Val Loss: 0.8981\n",
      "⏹️ Early stopping triggered at epoch 4\n",
      "Finished training for gene: HLA-A\n",
      "Loading CSV and images...\n",
      "⚠️ Skipping patient R01-005 due to NaN gene value for ZBTB16\n",
      "⚠️ Skipping patient R01-016 due to NaN gene value for ZBTB16\n",
      "⚠️ Skipping patient R01-029 due to NaN gene value for ZBTB16\n",
      "⚠️ Skipping patient R01-032 due to NaN gene value for ZBTB16\n",
      "⚠️ Skipping patient R01-039 due to NaN gene value for ZBTB16\n",
      "⚠️ Skipping patient R01-041 due to NaN gene value for ZBTB16\n",
      "⚠️ Skipping patient R01-065 due to NaN gene value for ZBTB16\n",
      "⚠️ Skipping patient R01-108 due to NaN gene value for ZBTB16\n",
      "⚠️ Skipping patient R01-119 due to NaN gene value for ZBTB16\n",
      "⚠️ Skipping patient R01-124 due to NaN gene value for ZBTB16\n",
      "⚠️ Skipping patient R01-134 due to NaN gene value for ZBTB16\n",
      "Training model for gene: ZBTB16 (Index: 56)\n",
      "\n",
      "Epoch [1/50]\n"
     ]
    },
    {
     "name": "stderr",
     "output_type": "stream",
     "text": [
      "                                                           \r"
     ]
    },
    {
     "name": "stdout",
     "output_type": "stream",
     "text": [
      "Train Loss: 1.1516 | Val Loss: 1.0542\n",
      "\n",
      "Epoch [2/50]\n"
     ]
    },
    {
     "name": "stderr",
     "output_type": "stream",
     "text": [
      "                                                           \r"
     ]
    },
    {
     "name": "stdout",
     "output_type": "stream",
     "text": [
      "Train Loss: 1.0653 | Val Loss: 1.0099\n",
      "\n",
      "Epoch [3/50]\n"
     ]
    },
    {
     "name": "stderr",
     "output_type": "stream",
     "text": [
      "                                                           \r"
     ]
    },
    {
     "name": "stdout",
     "output_type": "stream",
     "text": [
      "Train Loss: 1.0413 | Val Loss: 1.0604\n",
      "\n",
      "Epoch [4/50]\n"
     ]
    },
    {
     "name": "stderr",
     "output_type": "stream",
     "text": [
      "                                                           \r"
     ]
    },
    {
     "name": "stdout",
     "output_type": "stream",
     "text": [
      "Train Loss: 1.0779 | Val Loss: 0.9895\n",
      "\n",
      "Epoch [5/50]\n"
     ]
    },
    {
     "name": "stderr",
     "output_type": "stream",
     "text": [
      "                                                           \r"
     ]
    },
    {
     "name": "stdout",
     "output_type": "stream",
     "text": [
      "Train Loss: 1.0667 | Val Loss: 1.0009\n",
      "\n",
      "Epoch [6/50]\n"
     ]
    },
    {
     "name": "stderr",
     "output_type": "stream",
     "text": [
      "                                                           \r"
     ]
    },
    {
     "name": "stdout",
     "output_type": "stream",
     "text": [
      "Train Loss: 1.0133 | Val Loss: 1.0163\n",
      "⏹️ Early stopping triggered at epoch 6\n",
      "Finished training for gene: ZBTB16\n",
      "Loading CSV and images...\n",
      "Training model for gene: DAPK1 (Index: 57)\n",
      "\n",
      "Epoch [1/50]\n"
     ]
    },
    {
     "name": "stderr",
     "output_type": "stream",
     "text": [
      "                                                           \r"
     ]
    },
    {
     "name": "stdout",
     "output_type": "stream",
     "text": [
      "Train Loss: 1.4026 | Val Loss: 0.9668\n",
      "\n",
      "Epoch [2/50]\n"
     ]
    },
    {
     "name": "stderr",
     "output_type": "stream",
     "text": [
      "                                                           \r"
     ]
    },
    {
     "name": "stdout",
     "output_type": "stream",
     "text": [
      "Train Loss: 1.0340 | Val Loss: 0.9416\n",
      "\n",
      "Epoch [3/50]\n"
     ]
    },
    {
     "name": "stderr",
     "output_type": "stream",
     "text": [
      "                                                           \r"
     ]
    },
    {
     "name": "stdout",
     "output_type": "stream",
     "text": [
      "Train Loss: 1.0269 | Val Loss: 0.9513\n",
      "\n",
      "Epoch [4/50]\n"
     ]
    },
    {
     "name": "stderr",
     "output_type": "stream",
     "text": [
      "                                                           \r"
     ]
    },
    {
     "name": "stdout",
     "output_type": "stream",
     "text": [
      "Train Loss: 0.9979 | Val Loss: 0.9391\n",
      "\n",
      "Epoch [5/50]\n"
     ]
    },
    {
     "name": "stderr",
     "output_type": "stream",
     "text": [
      "                                                           \r"
     ]
    },
    {
     "name": "stdout",
     "output_type": "stream",
     "text": [
      "Train Loss: 1.0025 | Val Loss: 0.9392\n",
      "\n",
      "Epoch [6/50]\n"
     ]
    },
    {
     "name": "stderr",
     "output_type": "stream",
     "text": [
      "                                                           \r"
     ]
    },
    {
     "name": "stdout",
     "output_type": "stream",
     "text": [
      "Train Loss: 1.0223 | Val Loss: 0.9928\n",
      "⏹️ Early stopping triggered at epoch 6\n",
      "Finished training for gene: DAPK1\n",
      "Loading CSV and images...\n",
      "Training model for gene: FAF1 (Index: 58)\n",
      "\n",
      "Epoch [1/50]\n"
     ]
    },
    {
     "name": "stderr",
     "output_type": "stream",
     "text": [
      "                                                           \r"
     ]
    },
    {
     "name": "stdout",
     "output_type": "stream",
     "text": [
      "Train Loss: 1.5253 | Val Loss: 1.0152\n",
      "\n",
      "Epoch [2/50]\n"
     ]
    },
    {
     "name": "stderr",
     "output_type": "stream",
     "text": [
      "                                                           \r"
     ]
    },
    {
     "name": "stdout",
     "output_type": "stream",
     "text": [
      "Train Loss: 0.5409 | Val Loss: 0.6509\n",
      "\n",
      "Epoch [3/50]\n"
     ]
    },
    {
     "name": "stderr",
     "output_type": "stream",
     "text": [
      "                                                           \r"
     ]
    },
    {
     "name": "stdout",
     "output_type": "stream",
     "text": [
      "Train Loss: 0.3615 | Val Loss: 1.3436\n",
      "\n",
      "Epoch [4/50]\n"
     ]
    },
    {
     "name": "stderr",
     "output_type": "stream",
     "text": [
      "                                                           \r"
     ]
    },
    {
     "name": "stdout",
     "output_type": "stream",
     "text": [
      "Train Loss: 0.3424 | Val Loss: 0.6940\n",
      "⏹️ Early stopping triggered at epoch 4\n",
      "Finished training for gene: FAF1\n",
      "Loading CSV and images...\n",
      "⚠️ Skipping patient R01-005 due to NaN gene value for AKR1C2\n",
      "⚠️ Skipping patient R01-013 due to NaN gene value for AKR1C2\n",
      "⚠️ Skipping patient R01-014 due to NaN gene value for AKR1C2\n",
      "⚠️ Skipping patient R01-015 due to NaN gene value for AKR1C2\n",
      "⚠️ Skipping patient R01-048 due to NaN gene value for AKR1C2\n",
      "⚠️ Skipping patient R01-052 due to NaN gene value for AKR1C2\n",
      "⚠️ Skipping patient R01-054 due to NaN gene value for AKR1C2\n",
      "⚠️ Skipping patient R01-083 due to NaN gene value for AKR1C2\n",
      "⚠️ Skipping patient R01-094 due to NaN gene value for AKR1C2\n",
      "⚠️ Skipping patient R01-099 due to NaN gene value for AKR1C2\n",
      "⚠️ Skipping patient R01-120 due to NaN gene value for AKR1C2\n",
      "⚠️ Skipping patient R01-129 due to NaN gene value for AKR1C2\n",
      "⚠️ Skipping patient R01-138 due to NaN gene value for AKR1C2\n",
      "⚠️ Skipping patient R01-139 due to NaN gene value for AKR1C2\n",
      "⚠️ Skipping patient R01-140 due to NaN gene value for AKR1C2\n",
      "⚠️ Skipping patient R01-144 due to NaN gene value for AKR1C2\n",
      "⚠️ Skipping patient R01-160 due to NaN gene value for AKR1C2\n",
      "Training model for gene: AKR1C2 (Index: 59)\n",
      "\n",
      "Epoch [1/50]\n"
     ]
    },
    {
     "name": "stderr",
     "output_type": "stream",
     "text": [
      "                                                           \r"
     ]
    },
    {
     "name": "stdout",
     "output_type": "stream",
     "text": [
      "Train Loss: 1.0300 | Val Loss: 0.8860\n",
      "\n",
      "Epoch [2/50]\n"
     ]
    },
    {
     "name": "stderr",
     "output_type": "stream",
     "text": [
      "                                                           \r"
     ]
    },
    {
     "name": "stdout",
     "output_type": "stream",
     "text": [
      "Train Loss: 1.0719 | Val Loss: 0.9102\n",
      "\n",
      "Epoch [3/50]\n"
     ]
    },
    {
     "name": "stderr",
     "output_type": "stream",
     "text": [
      "                                                           \r"
     ]
    },
    {
     "name": "stdout",
     "output_type": "stream",
     "text": [
      "Train Loss: 1.0167 | Val Loss: 0.8789\n",
      "\n",
      "Epoch [4/50]\n"
     ]
    },
    {
     "name": "stderr",
     "output_type": "stream",
     "text": [
      "                                                           \r"
     ]
    },
    {
     "name": "stdout",
     "output_type": "stream",
     "text": [
      "Train Loss: 1.0044 | Val Loss: 0.8902\n",
      "\n",
      "Epoch [5/50]\n"
     ]
    },
    {
     "name": "stderr",
     "output_type": "stream",
     "text": [
      "                                                           \r"
     ]
    },
    {
     "name": "stdout",
     "output_type": "stream",
     "text": [
      "Train Loss: 0.9606 | Val Loss: 0.9624\n",
      "⏹️ Early stopping triggered at epoch 5\n",
      "Finished training for gene: AKR1C2\n",
      "Loading CSV and images...\n",
      "⚠️ Skipping patient R01-093 due to NaN gene value for ASTN2\n",
      "⚠️ Skipping patient R01-133 due to NaN gene value for ASTN2\n",
      "Training model for gene: ASTN2 (Index: 60)\n",
      "\n",
      "Epoch [1/50]\n"
     ]
    },
    {
     "name": "stderr",
     "output_type": "stream",
     "text": [
      "                                                           \r"
     ]
    },
    {
     "name": "stdout",
     "output_type": "stream",
     "text": [
      "Train Loss: 1.1499 | Val Loss: 0.5821\n",
      "\n",
      "Epoch [2/50]\n"
     ]
    },
    {
     "name": "stderr",
     "output_type": "stream",
     "text": [
      "                                                           \r"
     ]
    },
    {
     "name": "stdout",
     "output_type": "stream",
     "text": [
      "Train Loss: 0.4671 | Val Loss: 0.5313\n",
      "\n",
      "Epoch [3/50]\n"
     ]
    },
    {
     "name": "stderr",
     "output_type": "stream",
     "text": [
      "                                                           \r"
     ]
    },
    {
     "name": "stdout",
     "output_type": "stream",
     "text": [
      "Train Loss: 0.4901 | Val Loss: 0.5173\n",
      "\n",
      "Epoch [4/50]\n"
     ]
    },
    {
     "name": "stderr",
     "output_type": "stream",
     "text": [
      "                                                           \r"
     ]
    },
    {
     "name": "stdout",
     "output_type": "stream",
     "text": [
      "Train Loss: 0.3801 | Val Loss: 0.7600\n",
      "\n",
      "Epoch [5/50]\n"
     ]
    },
    {
     "name": "stderr",
     "output_type": "stream",
     "text": [
      "                                                           \r"
     ]
    },
    {
     "name": "stdout",
     "output_type": "stream",
     "text": [
      "Train Loss: 0.4182 | Val Loss: 0.5033\n",
      "\n",
      "Epoch [6/50]\n"
     ]
    },
    {
     "name": "stderr",
     "output_type": "stream",
     "text": [
      "                                                           \r"
     ]
    },
    {
     "name": "stdout",
     "output_type": "stream",
     "text": [
      "Train Loss: 0.4493 | Val Loss: 0.6021\n",
      "\n",
      "Epoch [7/50]\n"
     ]
    },
    {
     "name": "stderr",
     "output_type": "stream",
     "text": [
      "                                                           \r"
     ]
    },
    {
     "name": "stdout",
     "output_type": "stream",
     "text": [
      "Train Loss: 0.3977 | Val Loss: 0.7379\n",
      "⏹️ Early stopping triggered at epoch 7\n",
      "Finished training for gene: ASTN2\n",
      "Loading CSV and images...\n",
      "⚠️ Skipping patient R01-013 due to NaN gene value for TRNP1\n",
      "⚠️ Skipping patient R01-018 due to NaN gene value for TRNP1\n",
      "⚠️ Skipping patient R01-031 due to NaN gene value for TRNP1\n",
      "⚠️ Skipping patient R01-040 due to NaN gene value for TRNP1\n",
      "⚠️ Skipping patient R01-048 due to NaN gene value for TRNP1\n",
      "⚠️ Skipping patient R01-055 due to NaN gene value for TRNP1\n",
      "⚠️ Skipping patient R01-061 due to NaN gene value for TRNP1\n",
      "⚠️ Skipping patient R01-069 due to NaN gene value for TRNP1\n",
      "⚠️ Skipping patient R01-071 due to NaN gene value for TRNP1\n",
      "⚠️ Skipping patient R01-080 due to NaN gene value for TRNP1\n",
      "⚠️ Skipping patient R01-083 due to NaN gene value for TRNP1\n",
      "⚠️ Skipping patient R01-084 due to NaN gene value for TRNP1\n",
      "⚠️ Skipping patient R01-091 due to NaN gene value for TRNP1\n",
      "⚠️ Skipping patient R01-093 due to NaN gene value for TRNP1\n",
      "⚠️ Skipping patient R01-096 due to NaN gene value for TRNP1\n",
      "⚠️ Skipping patient R01-097 due to NaN gene value for TRNP1\n",
      "⚠️ Skipping patient R01-120 due to NaN gene value for TRNP1\n",
      "⚠️ Skipping patient R01-127 due to NaN gene value for TRNP1\n",
      "⚠️ Skipping patient R01-131 due to NaN gene value for TRNP1\n",
      "⚠️ Skipping patient R01-138 due to NaN gene value for TRNP1\n",
      "⚠️ Skipping patient R01-144 due to NaN gene value for TRNP1\n",
      "⚠️ Skipping patient R01-157 due to NaN gene value for TRNP1\n",
      "⚠️ Skipping patient R01-160 due to NaN gene value for TRNP1\n",
      "Training model for gene: TRNP1 (Index: 61)\n",
      "\n",
      "Epoch [1/50]\n"
     ]
    },
    {
     "name": "stderr",
     "output_type": "stream",
     "text": [
      "                                                           \r"
     ]
    },
    {
     "name": "stdout",
     "output_type": "stream",
     "text": [
      "Train Loss: 0.6489 | Val Loss: 3.6836\n",
      "\n",
      "Epoch [2/50]\n"
     ]
    },
    {
     "name": "stderr",
     "output_type": "stream",
     "text": [
      "                                                           \r"
     ]
    },
    {
     "name": "stdout",
     "output_type": "stream",
     "text": [
      "Train Loss: 0.7988 | Val Loss: 3.7344\n",
      "\n",
      "Epoch [3/50]\n"
     ]
    },
    {
     "name": "stderr",
     "output_type": "stream",
     "text": [
      "                                                           \r"
     ]
    },
    {
     "name": "stdout",
     "output_type": "stream",
     "text": [
      "Train Loss: 0.3590 | Val Loss: 1.7754\n",
      "\n",
      "Epoch [4/50]\n"
     ]
    },
    {
     "name": "stderr",
     "output_type": "stream",
     "text": [
      "                                                           \r"
     ]
    },
    {
     "name": "stdout",
     "output_type": "stream",
     "text": [
      "Train Loss: 0.3466 | Val Loss: 0.3995\n",
      "\n",
      "Epoch [5/50]\n"
     ]
    },
    {
     "name": "stderr",
     "output_type": "stream",
     "text": [
      "                                                           \r"
     ]
    },
    {
     "name": "stdout",
     "output_type": "stream",
     "text": [
      "Train Loss: 0.1761 | Val Loss: 0.3777\n",
      "\n",
      "Epoch [6/50]\n"
     ]
    },
    {
     "name": "stderr",
     "output_type": "stream",
     "text": [
      "                                                           \r"
     ]
    },
    {
     "name": "stdout",
     "output_type": "stream",
     "text": [
      "Train Loss: 0.2093 | Val Loss: 0.5056\n",
      "\n",
      "Epoch [7/50]\n"
     ]
    },
    {
     "name": "stderr",
     "output_type": "stream",
     "text": [
      "                                                           \r"
     ]
    },
    {
     "name": "stdout",
     "output_type": "stream",
     "text": [
      "Train Loss: 0.1411 | Val Loss: 0.3928\n",
      "⏹️ Early stopping triggered at epoch 7\n",
      "Finished training for gene: TRNP1\n",
      "Loading CSV and images...\n",
      "Training model for gene: DNM1L (Index: 62)\n",
      "\n",
      "Epoch [1/50]\n"
     ]
    },
    {
     "name": "stderr",
     "output_type": "stream",
     "text": [
      "                                                           \r"
     ]
    },
    {
     "name": "stdout",
     "output_type": "stream",
     "text": [
      "Train Loss: 1.2562 | Val Loss: 0.9437\n",
      "\n",
      "Epoch [2/50]\n"
     ]
    },
    {
     "name": "stderr",
     "output_type": "stream",
     "text": [
      "                                                           \r"
     ]
    },
    {
     "name": "stdout",
     "output_type": "stream",
     "text": [
      "Train Loss: 0.5190 | Val Loss: 0.8264\n",
      "\n",
      "Epoch [3/50]\n"
     ]
    },
    {
     "name": "stderr",
     "output_type": "stream",
     "text": [
      "                                                           \r"
     ]
    },
    {
     "name": "stdout",
     "output_type": "stream",
     "text": [
      "Train Loss: 0.5677 | Val Loss: 0.5986\n",
      "\n",
      "Epoch [4/50]\n"
     ]
    },
    {
     "name": "stderr",
     "output_type": "stream",
     "text": [
      "                                                           \r"
     ]
    },
    {
     "name": "stdout",
     "output_type": "stream",
     "text": [
      "Train Loss: 0.4482 | Val Loss: 0.5670\n",
      "\n",
      "Epoch [5/50]\n"
     ]
    },
    {
     "name": "stderr",
     "output_type": "stream",
     "text": [
      "                                                           \r"
     ]
    },
    {
     "name": "stdout",
     "output_type": "stream",
     "text": [
      "Train Loss: 0.5244 | Val Loss: 0.7198\n",
      "\n",
      "Epoch [6/50]\n"
     ]
    },
    {
     "name": "stderr",
     "output_type": "stream",
     "text": [
      "                                                           \r"
     ]
    },
    {
     "name": "stdout",
     "output_type": "stream",
     "text": [
      "Train Loss: 0.4933 | Val Loss: 0.5898\n",
      "⏹️ Early stopping triggered at epoch 6\n",
      "Finished training for gene: DNM1L\n",
      "Loading CSV and images...\n",
      "⚠️ Skipping patient R01-027 due to NaN gene value for SCGB3A2\n",
      "⚠️ Skipping patient R01-055 due to NaN gene value for SCGB3A2\n",
      "⚠️ Skipping patient R01-065 due to NaN gene value for SCGB3A2\n",
      "⚠️ Skipping patient R01-106 due to NaN gene value for SCGB3A2\n",
      "⚠️ Skipping patient R01-119 due to NaN gene value for SCGB3A2\n",
      "⚠️ Skipping patient R01-149 due to NaN gene value for SCGB3A2\n",
      "⚠️ Skipping patient R01-150 due to NaN gene value for SCGB3A2\n",
      "⚠️ Skipping patient R01-157 due to NaN gene value for SCGB3A2\n",
      "Training model for gene: SCGB3A2 (Index: 63)\n",
      "\n",
      "Epoch [1/50]\n"
     ]
    },
    {
     "name": "stderr",
     "output_type": "stream",
     "text": [
      "                                                           \r"
     ]
    },
    {
     "name": "stdout",
     "output_type": "stream",
     "text": [
      "Train Loss: 1.0513 | Val Loss: 1.1651\n",
      "\n",
      "Epoch [2/50]\n"
     ]
    },
    {
     "name": "stderr",
     "output_type": "stream",
     "text": [
      "                                                           \r"
     ]
    },
    {
     "name": "stdout",
     "output_type": "stream",
     "text": [
      "Train Loss: 0.9045 | Val Loss: 1.5767\n",
      "\n",
      "Epoch [3/50]\n"
     ]
    },
    {
     "name": "stderr",
     "output_type": "stream",
     "text": [
      "                                                           \r"
     ]
    },
    {
     "name": "stdout",
     "output_type": "stream",
     "text": [
      "Train Loss: 0.8986 | Val Loss: 1.3065\n",
      "⏹️ Early stopping triggered at epoch 3\n",
      "Finished training for gene: SCGB3A2\n",
      "Loading CSV and images...\n",
      "⚠️ Skipping patient R01-027 due to NaN gene value for SFTPC\n",
      "⚠️ Skipping patient R01-029 due to NaN gene value for SFTPC\n",
      "⚠️ Skipping patient R01-033 due to NaN gene value for SFTPC\n",
      "⚠️ Skipping patient R01-042 due to NaN gene value for SFTPC\n",
      "⚠️ Skipping patient R01-046 due to NaN gene value for SFTPC\n",
      "⚠️ Skipping patient R01-048 due to NaN gene value for SFTPC\n",
      "⚠️ Skipping patient R01-054 due to NaN gene value for SFTPC\n",
      "⚠️ Skipping patient R01-055 due to NaN gene value for SFTPC\n",
      "⚠️ Skipping patient R01-065 due to NaN gene value for SFTPC\n",
      "⚠️ Skipping patient R01-069 due to NaN gene value for SFTPC\n",
      "⚠️ Skipping patient R01-084 due to NaN gene value for SFTPC\n",
      "⚠️ Skipping patient R01-093 due to NaN gene value for SFTPC\n",
      "⚠️ Skipping patient R01-106 due to NaN gene value for SFTPC\n",
      "⚠️ Skipping patient R01-112 due to NaN gene value for SFTPC\n",
      "⚠️ Skipping patient R01-114 due to NaN gene value for SFTPC\n",
      "⚠️ Skipping patient R01-119 due to NaN gene value for SFTPC\n",
      "⚠️ Skipping patient R01-130 due to NaN gene value for SFTPC\n",
      "⚠️ Skipping patient R01-146 due to NaN gene value for SFTPC\n",
      "⚠️ Skipping patient R01-147 due to NaN gene value for SFTPC\n",
      "⚠️ Skipping patient R01-149 due to NaN gene value for SFTPC\n",
      "⚠️ Skipping patient R01-150 due to NaN gene value for SFTPC\n",
      "⚠️ Skipping patient R01-153 due to NaN gene value for SFTPC\n",
      "⚠️ Skipping patient R01-157 due to NaN gene value for SFTPC\n",
      "⚠️ Skipping patient R01-160 due to NaN gene value for SFTPC\n",
      "Training model for gene: SFTPC (Index: 64)\n",
      "\n",
      "Epoch [1/50]\n"
     ]
    },
    {
     "name": "stderr",
     "output_type": "stream",
     "text": [
      "                                                           \r"
     ]
    },
    {
     "name": "stdout",
     "output_type": "stream",
     "text": [
      "Train Loss: 1.3637 | Val Loss: 0.6449\n",
      "\n",
      "Epoch [2/50]\n"
     ]
    },
    {
     "name": "stderr",
     "output_type": "stream",
     "text": [
      "                                                           \r"
     ]
    },
    {
     "name": "stdout",
     "output_type": "stream",
     "text": [
      "Train Loss: 1.0214 | Val Loss: 0.7434\n",
      "\n",
      "Epoch [3/50]\n"
     ]
    },
    {
     "name": "stderr",
     "output_type": "stream",
     "text": [
      "                                                           \r"
     ]
    },
    {
     "name": "stdout",
     "output_type": "stream",
     "text": [
      "Train Loss: 1.0021 | Val Loss: 0.8894\n",
      "⏹️ Early stopping triggered at epoch 3\n",
      "Finished training for gene: SFTPC\n",
      "Loading CSV and images...\n",
      "⚠️ Skipping patient R01-052 due to NaN gene value for WDYHV1\n",
      "⚠️ Skipping patient R01-133 due to NaN gene value for WDYHV1\n",
      "Training model for gene: WDYHV1 (Index: 65)\n",
      "\n",
      "Epoch [1/50]\n"
     ]
    },
    {
     "name": "stderr",
     "output_type": "stream",
     "text": [
      "                                                           \r"
     ]
    },
    {
     "name": "stdout",
     "output_type": "stream",
     "text": [
      "Train Loss: 1.1927 | Val Loss: 0.9896\n",
      "\n",
      "Epoch [2/50]\n"
     ]
    },
    {
     "name": "stderr",
     "output_type": "stream",
     "text": [
      "                                                           \r"
     ]
    },
    {
     "name": "stdout",
     "output_type": "stream",
     "text": [
      "Train Loss: 1.0200 | Val Loss: 0.9636\n",
      "\n",
      "Epoch [3/50]\n"
     ]
    },
    {
     "name": "stderr",
     "output_type": "stream",
     "text": [
      "                                                           \r"
     ]
    },
    {
     "name": "stdout",
     "output_type": "stream",
     "text": [
      "Train Loss: 0.9654 | Val Loss: 0.9935\n",
      "\n",
      "Epoch [4/50]\n"
     ]
    },
    {
     "name": "stderr",
     "output_type": "stream",
     "text": [
      "                                                           \r"
     ]
    },
    {
     "name": "stdout",
     "output_type": "stream",
     "text": [
      "Train Loss: 0.9391 | Val Loss: 0.9549\n",
      "\n",
      "Epoch [5/50]\n"
     ]
    },
    {
     "name": "stderr",
     "output_type": "stream",
     "text": [
      "                                                           \r"
     ]
    },
    {
     "name": "stdout",
     "output_type": "stream",
     "text": [
      "Train Loss: 0.9969 | Val Loss: 0.9418\n",
      "\n",
      "Epoch [6/50]\n"
     ]
    },
    {
     "name": "stderr",
     "output_type": "stream",
     "text": [
      "                                                           \r"
     ]
    },
    {
     "name": "stdout",
     "output_type": "stream",
     "text": [
      "Train Loss: 0.9638 | Val Loss: 0.9451\n",
      "\n",
      "Epoch [7/50]\n"
     ]
    },
    {
     "name": "stderr",
     "output_type": "stream",
     "text": [
      "                                                           \r"
     ]
    },
    {
     "name": "stdout",
     "output_type": "stream",
     "text": [
      "Train Loss: 0.9689 | Val Loss: 0.9444\n",
      "⏹️ Early stopping triggered at epoch 7\n",
      "Finished training for gene: WDYHV1\n",
      "Loading CSV and images...\n",
      "Training model for gene: CCNB1IP1 (Index: 66)\n",
      "\n",
      "Epoch [1/50]\n"
     ]
    },
    {
     "name": "stderr",
     "output_type": "stream",
     "text": [
      "                                                           \r"
     ]
    },
    {
     "name": "stdout",
     "output_type": "stream",
     "text": [
      "Train Loss: 1.2163 | Val Loss: 1.0195\n",
      "\n",
      "Epoch [2/50]\n"
     ]
    },
    {
     "name": "stderr",
     "output_type": "stream",
     "text": [
      "                                                           \r"
     ]
    },
    {
     "name": "stdout",
     "output_type": "stream",
     "text": [
      "Train Loss: 1.0197 | Val Loss: 0.8464\n",
      "\n",
      "Epoch [3/50]\n"
     ]
    },
    {
     "name": "stderr",
     "output_type": "stream",
     "text": [
      "                                                           \r"
     ]
    },
    {
     "name": "stdout",
     "output_type": "stream",
     "text": [
      "Train Loss: 1.0111 | Val Loss: 0.8775\n",
      "\n",
      "Epoch [4/50]\n"
     ]
    },
    {
     "name": "stderr",
     "output_type": "stream",
     "text": [
      "                                                           \r"
     ]
    },
    {
     "name": "stdout",
     "output_type": "stream",
     "text": [
      "Train Loss: 1.0144 | Val Loss: 0.8069\n",
      "\n",
      "Epoch [5/50]\n"
     ]
    },
    {
     "name": "stderr",
     "output_type": "stream",
     "text": [
      "                                                           \r"
     ]
    },
    {
     "name": "stdout",
     "output_type": "stream",
     "text": [
      "Train Loss: 0.9869 | Val Loss: 0.9233\n",
      "\n",
      "Epoch [6/50]\n"
     ]
    },
    {
     "name": "stderr",
     "output_type": "stream",
     "text": [
      "                                                           \r"
     ]
    },
    {
     "name": "stdout",
     "output_type": "stream",
     "text": [
      "Train Loss: 1.0007 | Val Loss: 0.8500\n",
      "⏹️ Early stopping triggered at epoch 6\n",
      "Finished training for gene: CCNB1IP1\n",
      "Loading CSV and images...\n",
      "Training model for gene: USP32 (Index: 67)\n",
      "\n",
      "Epoch [1/50]\n"
     ]
    },
    {
     "name": "stderr",
     "output_type": "stream",
     "text": [
      "                                                           \r"
     ]
    },
    {
     "name": "stdout",
     "output_type": "stream",
     "text": [
      "Train Loss: 0.5479 | Val Loss: 0.0000\n",
      "\n",
      "Epoch [2/50]\n"
     ]
    },
    {
     "name": "stderr",
     "output_type": "stream",
     "text": [
      "                                                           \r"
     ]
    },
    {
     "name": "stdout",
     "output_type": "stream",
     "text": [
      "Train Loss: 0.8152 | Val Loss: 0.0000\n",
      "\n",
      "Epoch [3/50]\n"
     ]
    },
    {
     "name": "stderr",
     "output_type": "stream",
     "text": [
      "                                                           \r"
     ]
    },
    {
     "name": "stdout",
     "output_type": "stream",
     "text": [
      "Train Loss: 0.9852 | Val Loss: 0.0000\n",
      "⏹️ Early stopping triggered at epoch 3\n",
      "Finished training for gene: USP32\n",
      "Loading CSV and images...\n",
      "Training model for gene: MBNL1 (Index: 68)\n",
      "\n",
      "Epoch [1/50]\n"
     ]
    },
    {
     "name": "stderr",
     "output_type": "stream",
     "text": [
      "                                                           \r"
     ]
    },
    {
     "name": "stdout",
     "output_type": "stream",
     "text": [
      "Train Loss: 0.9910 | Val Loss: 0.9592\n",
      "\n",
      "Epoch [2/50]\n"
     ]
    },
    {
     "name": "stderr",
     "output_type": "stream",
     "text": [
      "                                                           \r"
     ]
    },
    {
     "name": "stdout",
     "output_type": "stream",
     "text": [
      "Train Loss: 0.8987 | Val Loss: 0.9755\n",
      "\n",
      "Epoch [3/50]\n"
     ]
    },
    {
     "name": "stderr",
     "output_type": "stream",
     "text": [
      "                                                           \r"
     ]
    },
    {
     "name": "stdout",
     "output_type": "stream",
     "text": [
      "Train Loss: 0.8794 | Val Loss: 1.0523\n",
      "⏹️ Early stopping triggered at epoch 3\n",
      "Finished training for gene: MBNL1\n",
      "Loading CSV and images...\n",
      "Training model for gene: FRMD4B (Index: 69)\n",
      "\n",
      "Epoch [1/50]\n"
     ]
    },
    {
     "name": "stderr",
     "output_type": "stream",
     "text": [
      "                                                           \r"
     ]
    },
    {
     "name": "stdout",
     "output_type": "stream",
     "text": [
      "Train Loss: 2.3179 | Val Loss: 0.4328\n",
      "\n",
      "Epoch [2/50]\n"
     ]
    },
    {
     "name": "stderr",
     "output_type": "stream",
     "text": [
      "                                                           \r"
     ]
    },
    {
     "name": "stdout",
     "output_type": "stream",
     "text": [
      "Train Loss: 0.7360 | Val Loss: 0.4069\n",
      "\n",
      "Epoch [3/50]\n"
     ]
    },
    {
     "name": "stderr",
     "output_type": "stream",
     "text": [
      "                                                           \r"
     ]
    },
    {
     "name": "stdout",
     "output_type": "stream",
     "text": [
      "Train Loss: 0.4617 | Val Loss: 0.3897\n",
      "\n",
      "Epoch [4/50]\n"
     ]
    },
    {
     "name": "stderr",
     "output_type": "stream",
     "text": [
      "                                                           \r"
     ]
    },
    {
     "name": "stdout",
     "output_type": "stream",
     "text": [
      "Train Loss: 0.4393 | Val Loss: 0.3845\n",
      "\n",
      "Epoch [5/50]\n"
     ]
    },
    {
     "name": "stderr",
     "output_type": "stream",
     "text": [
      "                                                           \r"
     ]
    },
    {
     "name": "stdout",
     "output_type": "stream",
     "text": [
      "Train Loss: 0.5374 | Val Loss: 0.4062\n",
      "\n",
      "Epoch [6/50]\n"
     ]
    },
    {
     "name": "stderr",
     "output_type": "stream",
     "text": [
      "                                                           \r"
     ]
    },
    {
     "name": "stdout",
     "output_type": "stream",
     "text": [
      "Train Loss: 0.4519 | Val Loss: 0.3745\n",
      "\n",
      "Epoch [7/50]\n"
     ]
    },
    {
     "name": "stderr",
     "output_type": "stream",
     "text": [
      "                                                           \r"
     ]
    },
    {
     "name": "stdout",
     "output_type": "stream",
     "text": [
      "Train Loss: 0.4434 | Val Loss: 0.4149\n",
      "\n",
      "Epoch [8/50]\n"
     ]
    },
    {
     "name": "stderr",
     "output_type": "stream",
     "text": [
      "                                                           \r"
     ]
    },
    {
     "name": "stdout",
     "output_type": "stream",
     "text": [
      "Train Loss: 0.4636 | Val Loss: 0.3877\n",
      "⏹️ Early stopping triggered at epoch 8\n",
      "Finished training for gene: FRMD4B\n",
      "Loading CSV and images...\n",
      "Training model for gene: CDKL5 (Index: 70)\n",
      "\n",
      "Epoch [1/50]\n"
     ]
    },
    {
     "name": "stderr",
     "output_type": "stream",
     "text": [
      "                                                           \r"
     ]
    },
    {
     "name": "stdout",
     "output_type": "stream",
     "text": [
      "Train Loss: 0.9574 | Val Loss: 0.0000\n",
      "\n",
      "Epoch [2/50]\n"
     ]
    },
    {
     "name": "stderr",
     "output_type": "stream",
     "text": [
      "                                                           \r"
     ]
    },
    {
     "name": "stdout",
     "output_type": "stream",
     "text": [
      "Train Loss: 1.3896 | Val Loss: 0.0008\n",
      "\n",
      "Epoch [3/50]\n"
     ]
    },
    {
     "name": "stderr",
     "output_type": "stream",
     "text": [
      "                                                           \r"
     ]
    },
    {
     "name": "stdout",
     "output_type": "stream",
     "text": [
      "Train Loss: 0.2858 | Val Loss: 0.0028\n",
      "⏹️ Early stopping triggered at epoch 3\n",
      "Finished training for gene: CDKL5\n",
      "Loading CSV and images...\n",
      "Training model for gene: WDR47 (Index: 71)\n",
      "\n",
      "Epoch [1/50]\n"
     ]
    },
    {
     "name": "stderr",
     "output_type": "stream",
     "text": [
      "                                                           \r"
     ]
    },
    {
     "name": "stdout",
     "output_type": "stream",
     "text": [
      "Train Loss: 0.9672 | Val Loss: 0.8368\n",
      "\n",
      "Epoch [2/50]\n"
     ]
    },
    {
     "name": "stderr",
     "output_type": "stream",
     "text": [
      "                                                           \r"
     ]
    },
    {
     "name": "stdout",
     "output_type": "stream",
     "text": [
      "Train Loss: 0.7691 | Val Loss: 0.9213\n",
      "\n",
      "Epoch [3/50]\n"
     ]
    },
    {
     "name": "stderr",
     "output_type": "stream",
     "text": [
      "                                                           \r"
     ]
    },
    {
     "name": "stdout",
     "output_type": "stream",
     "text": [
      "Train Loss: 0.8478 | Val Loss: 0.8071\n",
      "\n",
      "Epoch [4/50]\n"
     ]
    },
    {
     "name": "stderr",
     "output_type": "stream",
     "text": [
      "                                                           \r"
     ]
    },
    {
     "name": "stdout",
     "output_type": "stream",
     "text": [
      "Train Loss: 0.8226 | Val Loss: 0.8739\n",
      "\n",
      "Epoch [5/50]\n"
     ]
    },
    {
     "name": "stderr",
     "output_type": "stream",
     "text": [
      "                                                           \r"
     ]
    },
    {
     "name": "stdout",
     "output_type": "stream",
     "text": [
      "Train Loss: 0.6945 | Val Loss: 0.7658\n",
      "\n",
      "Epoch [6/50]\n"
     ]
    },
    {
     "name": "stderr",
     "output_type": "stream",
     "text": [
      "                                                           \r"
     ]
    },
    {
     "name": "stdout",
     "output_type": "stream",
     "text": [
      "Train Loss: 0.7684 | Val Loss: 0.6982\n",
      "\n",
      "Epoch [7/50]\n"
     ]
    },
    {
     "name": "stderr",
     "output_type": "stream",
     "text": [
      "                                                           \r"
     ]
    },
    {
     "name": "stdout",
     "output_type": "stream",
     "text": [
      "Train Loss: 0.5819 | Val Loss: 0.6566\n",
      "\n",
      "Epoch [8/50]\n"
     ]
    },
    {
     "name": "stderr",
     "output_type": "stream",
     "text": [
      "                                                           \r"
     ]
    },
    {
     "name": "stdout",
     "output_type": "stream",
     "text": [
      "Train Loss: 0.5484 | Val Loss: 0.8942\n",
      "\n",
      "Epoch [9/50]\n"
     ]
    },
    {
     "name": "stderr",
     "output_type": "stream",
     "text": [
      "                                                           \r"
     ]
    },
    {
     "name": "stdout",
     "output_type": "stream",
     "text": [
      "Train Loss: 0.5414 | Val Loss: 0.6726\n",
      "⏹️ Early stopping triggered at epoch 9\n",
      "Finished training for gene: WDR47\n",
      "Loading CSV and images...\n",
      "⚠️ Skipping patient R01-101 due to NaN gene value for RPS27\n",
      "⚠️ Skipping patient R01-114 due to NaN gene value for RPS27\n",
      "⚠️ Skipping patient R01-116 due to NaN gene value for RPS27\n",
      "⚠️ Skipping patient R01-118 due to NaN gene value for RPS27\n",
      "⚠️ Skipping patient R01-119 due to NaN gene value for RPS27\n",
      "⚠️ Skipping patient R01-120 due to NaN gene value for RPS27\n",
      "⚠️ Skipping patient R01-132 due to NaN gene value for RPS27\n",
      "⚠️ Skipping patient R01-133 due to NaN gene value for RPS27\n",
      "⚠️ Skipping patient R01-137 due to NaN gene value for RPS27\n",
      "⚠️ Skipping patient R01-138 due to NaN gene value for RPS27\n",
      "⚠️ Skipping patient R01-139 due to NaN gene value for RPS27\n",
      "⚠️ Skipping patient R01-140 due to NaN gene value for RPS27\n",
      "⚠️ Skipping patient R01-142 due to NaN gene value for RPS27\n",
      "⚠️ Skipping patient R01-145 due to NaN gene value for RPS27\n",
      "Training model for gene: RPS27 (Index: 72)\n",
      "\n",
      "Epoch [1/50]\n"
     ]
    },
    {
     "name": "stderr",
     "output_type": "stream",
     "text": [
      "                                                           \r"
     ]
    },
    {
     "name": "stdout",
     "output_type": "stream",
     "text": [
      "Train Loss: 1.7053 | Val Loss: 1.1401\n",
      "\n",
      "Epoch [2/50]\n"
     ]
    },
    {
     "name": "stderr",
     "output_type": "stream",
     "text": [
      "                                                           \r"
     ]
    },
    {
     "name": "stdout",
     "output_type": "stream",
     "text": [
      "Train Loss: 1.0614 | Val Loss: 1.0239\n",
      "\n",
      "Epoch [3/50]\n"
     ]
    },
    {
     "name": "stderr",
     "output_type": "stream",
     "text": [
      "                                                           \r"
     ]
    },
    {
     "name": "stdout",
     "output_type": "stream",
     "text": [
      "Train Loss: 0.9370 | Val Loss: 0.9544\n",
      "\n",
      "Epoch [4/50]\n"
     ]
    },
    {
     "name": "stderr",
     "output_type": "stream",
     "text": [
      "                                                           \r"
     ]
    },
    {
     "name": "stdout",
     "output_type": "stream",
     "text": [
      "Train Loss: 0.8778 | Val Loss: 0.9899\n",
      "\n",
      "Epoch [5/50]\n"
     ]
    },
    {
     "name": "stderr",
     "output_type": "stream",
     "text": [
      "                                                           \r"
     ]
    },
    {
     "name": "stdout",
     "output_type": "stream",
     "text": [
      "Train Loss: 0.8786 | Val Loss: 0.9498\n",
      "\n",
      "Epoch [6/50]\n"
     ]
    },
    {
     "name": "stderr",
     "output_type": "stream",
     "text": [
      "                                                           \r"
     ]
    },
    {
     "name": "stdout",
     "output_type": "stream",
     "text": [
      "Train Loss: 0.8157 | Val Loss: 0.8161\n",
      "\n",
      "Epoch [7/50]\n"
     ]
    },
    {
     "name": "stderr",
     "output_type": "stream",
     "text": [
      "                                                           \r"
     ]
    },
    {
     "name": "stdout",
     "output_type": "stream",
     "text": [
      "Train Loss: 0.7909 | Val Loss: 0.6162\n",
      "\n",
      "Epoch [8/50]\n"
     ]
    },
    {
     "name": "stderr",
     "output_type": "stream",
     "text": [
      "                                                           \r"
     ]
    },
    {
     "name": "stdout",
     "output_type": "stream",
     "text": [
      "Train Loss: 0.7885 | Val Loss: 1.0151\n",
      "\n",
      "Epoch [9/50]\n"
     ]
    },
    {
     "name": "stderr",
     "output_type": "stream",
     "text": [
      "                                                           \r"
     ]
    },
    {
     "name": "stdout",
     "output_type": "stream",
     "text": [
      "Train Loss: 0.7252 | Val Loss: 0.6609\n",
      "⏹️ Early stopping triggered at epoch 9\n",
      "Finished training for gene: RPS27\n",
      "Loading CSV and images...\n",
      "⚠️ Skipping patient R01-005 due to NaN gene value for BNC2\n",
      "⚠️ Skipping patient R01-029 due to NaN gene value for BNC2\n",
      "⚠️ Skipping patient R01-061 due to NaN gene value for BNC2\n",
      "⚠️ Skipping patient R01-071 due to NaN gene value for BNC2\n",
      "⚠️ Skipping patient R01-073 due to NaN gene value for BNC2\n",
      "⚠️ Skipping patient R01-115 due to NaN gene value for BNC2\n",
      "⚠️ Skipping patient R01-117 due to NaN gene value for BNC2\n",
      "⚠️ Skipping patient R01-125 due to NaN gene value for BNC2\n",
      "⚠️ Skipping patient R01-129 due to NaN gene value for BNC2\n",
      "⚠️ Skipping patient R01-140 due to NaN gene value for BNC2\n",
      "Training model for gene: BNC2 (Index: 73)\n",
      "\n",
      "Epoch [1/50]\n"
     ]
    },
    {
     "name": "stderr",
     "output_type": "stream",
     "text": [
      "                                                           \r"
     ]
    },
    {
     "name": "stdout",
     "output_type": "stream",
     "text": [
      "Train Loss: 1.1168 | Val Loss: 1.6204\n",
      "\n",
      "Epoch [2/50]\n"
     ]
    },
    {
     "name": "stderr",
     "output_type": "stream",
     "text": [
      "                                                           \r"
     ]
    },
    {
     "name": "stdout",
     "output_type": "stream",
     "text": [
      "Train Loss: 0.8117 | Val Loss: 1.1196\n",
      "\n",
      "Epoch [3/50]\n"
     ]
    },
    {
     "name": "stderr",
     "output_type": "stream",
     "text": [
      "                                                           \r"
     ]
    },
    {
     "name": "stdout",
     "output_type": "stream",
     "text": [
      "Train Loss: 0.7376 | Val Loss: 1.2138\n",
      "\n",
      "Epoch [4/50]\n"
     ]
    },
    {
     "name": "stderr",
     "output_type": "stream",
     "text": [
      "                                                           \r"
     ]
    },
    {
     "name": "stdout",
     "output_type": "stream",
     "text": [
      "Train Loss: 0.7287 | Val Loss: 1.0258\n",
      "\n",
      "Epoch [5/50]\n"
     ]
    },
    {
     "name": "stderr",
     "output_type": "stream",
     "text": [
      "                                                           \r"
     ]
    },
    {
     "name": "stdout",
     "output_type": "stream",
     "text": [
      "Train Loss: 0.7614 | Val Loss: 0.9829\n",
      "\n",
      "Epoch [6/50]\n"
     ]
    },
    {
     "name": "stderr",
     "output_type": "stream",
     "text": [
      "                                                           \r"
     ]
    },
    {
     "name": "stdout",
     "output_type": "stream",
     "text": [
      "Train Loss: 0.7587 | Val Loss: 1.0467\n",
      "\n",
      "Epoch [7/50]\n"
     ]
    },
    {
     "name": "stderr",
     "output_type": "stream",
     "text": [
      "                                                           \r"
     ]
    },
    {
     "name": "stdout",
     "output_type": "stream",
     "text": [
      "Train Loss: 0.7227 | Val Loss: 1.0364\n",
      "⏹️ Early stopping triggered at epoch 7\n",
      "Finished training for gene: BNC2\n",
      "Loading CSV and images...\n",
      "Training model for gene: INTS4 (Index: 74)\n",
      "\n",
      "Epoch [1/50]\n"
     ]
    },
    {
     "name": "stderr",
     "output_type": "stream",
     "text": [
      "                                                           \r"
     ]
    },
    {
     "name": "stdout",
     "output_type": "stream",
     "text": [
      "Train Loss: 3.3629 | Val Loss: 0.7347\n",
      "\n",
      "Epoch [2/50]\n"
     ]
    },
    {
     "name": "stderr",
     "output_type": "stream",
     "text": [
      "                                                           \r"
     ]
    },
    {
     "name": "stdout",
     "output_type": "stream",
     "text": [
      "Train Loss: 0.4563 | Val Loss: 0.3773\n",
      "\n",
      "Epoch [3/50]\n"
     ]
    },
    {
     "name": "stderr",
     "output_type": "stream",
     "text": [
      "                                                           \r"
     ]
    },
    {
     "name": "stdout",
     "output_type": "stream",
     "text": [
      "Train Loss: 0.3346 | Val Loss: 0.4152\n",
      "\n",
      "Epoch [4/50]\n"
     ]
    },
    {
     "name": "stderr",
     "output_type": "stream",
     "text": [
      "                                                           \r"
     ]
    },
    {
     "name": "stdout",
     "output_type": "stream",
     "text": [
      "Train Loss: 0.3992 | Val Loss: 0.3717\n",
      "\n",
      "Epoch [5/50]\n"
     ]
    },
    {
     "name": "stderr",
     "output_type": "stream",
     "text": [
      "                                                           \r"
     ]
    },
    {
     "name": "stdout",
     "output_type": "stream",
     "text": [
      "Train Loss: 0.3535 | Val Loss: 0.3647\n",
      "\n",
      "Epoch [6/50]\n"
     ]
    },
    {
     "name": "stderr",
     "output_type": "stream",
     "text": [
      "                                                           \r"
     ]
    },
    {
     "name": "stdout",
     "output_type": "stream",
     "text": [
      "Train Loss: 0.3422 | Val Loss: 0.3468\n",
      "\n",
      "Epoch [7/50]\n"
     ]
    },
    {
     "name": "stderr",
     "output_type": "stream",
     "text": [
      "                                                           \r"
     ]
    },
    {
     "name": "stdout",
     "output_type": "stream",
     "text": [
      "Train Loss: 0.3810 | Val Loss: 0.5019\n",
      "\n",
      "Epoch [8/50]\n"
     ]
    },
    {
     "name": "stderr",
     "output_type": "stream",
     "text": [
      "                                                           \r"
     ]
    },
    {
     "name": "stdout",
     "output_type": "stream",
     "text": [
      "Train Loss: 0.3550 | Val Loss: 0.3902\n",
      "⏹️ Early stopping triggered at epoch 8\n",
      "Finished training for gene: INTS4\n",
      "Loading CSV and images...\n",
      "Training model for gene: MYO1D (Index: 75)\n",
      "\n",
      "Epoch [1/50]\n"
     ]
    },
    {
     "name": "stderr",
     "output_type": "stream",
     "text": [
      "                                                           \r"
     ]
    },
    {
     "name": "stdout",
     "output_type": "stream",
     "text": [
      "Train Loss: 1.2368 | Val Loss: 1.7862\n",
      "\n",
      "Epoch [2/50]\n"
     ]
    },
    {
     "name": "stderr",
     "output_type": "stream",
     "text": [
      "                                                           \r"
     ]
    },
    {
     "name": "stdout",
     "output_type": "stream",
     "text": [
      "Train Loss: 0.7614 | Val Loss: 0.2216\n",
      "\n",
      "Epoch [3/50]\n"
     ]
    },
    {
     "name": "stderr",
     "output_type": "stream",
     "text": [
      "                                                           \r"
     ]
    },
    {
     "name": "stdout",
     "output_type": "stream",
     "text": [
      "Train Loss: 0.2743 | Val Loss: 0.3405\n",
      "\n",
      "Epoch [4/50]\n"
     ]
    },
    {
     "name": "stderr",
     "output_type": "stream",
     "text": [
      "                                                           \r"
     ]
    },
    {
     "name": "stdout",
     "output_type": "stream",
     "text": [
      "Train Loss: 0.3680 | Val Loss: 0.2170\n",
      "\n",
      "Epoch [5/50]\n"
     ]
    },
    {
     "name": "stderr",
     "output_type": "stream",
     "text": [
      "                                                           \r"
     ]
    },
    {
     "name": "stdout",
     "output_type": "stream",
     "text": [
      "Train Loss: 0.3051 | Val Loss: 0.2306\n",
      "\n",
      "Epoch [6/50]\n"
     ]
    },
    {
     "name": "stderr",
     "output_type": "stream",
     "text": [
      "                                                           \r"
     ]
    },
    {
     "name": "stdout",
     "output_type": "stream",
     "text": [
      "Train Loss: 0.2779 | Val Loss: 0.2111\n",
      "\n",
      "Epoch [7/50]\n"
     ]
    },
    {
     "name": "stderr",
     "output_type": "stream",
     "text": [
      "                                                           \r"
     ]
    },
    {
     "name": "stdout",
     "output_type": "stream",
     "text": [
      "Train Loss: 0.3056 | Val Loss: 0.2281\n",
      "\n",
      "Epoch [8/50]\n"
     ]
    },
    {
     "name": "stderr",
     "output_type": "stream",
     "text": [
      "                                                           \r"
     ]
    },
    {
     "name": "stdout",
     "output_type": "stream",
     "text": [
      "Train Loss: 0.2866 | Val Loss: 0.2215\n",
      "⏹️ Early stopping triggered at epoch 8\n",
      "Finished training for gene: MYO1D\n",
      "Loading CSV and images...\n",
      "Training model for gene: MIB1 (Index: 76)\n",
      "\n",
      "Epoch [1/50]\n"
     ]
    },
    {
     "name": "stderr",
     "output_type": "stream",
     "text": [
      "                                                           \r"
     ]
    },
    {
     "name": "stdout",
     "output_type": "stream",
     "text": [
      "Train Loss: 1.0043 | Val Loss: 0.0000\n",
      "\n",
      "Epoch [2/50]\n"
     ]
    },
    {
     "name": "stderr",
     "output_type": "stream",
     "text": [
      "                                                           \r"
     ]
    },
    {
     "name": "stdout",
     "output_type": "stream",
     "text": [
      "Train Loss: 1.4162 | Val Loss: 0.0000\n",
      "\n",
      "Epoch [3/50]\n"
     ]
    },
    {
     "name": "stderr",
     "output_type": "stream",
     "text": [
      "                                                           \r"
     ]
    },
    {
     "name": "stdout",
     "output_type": "stream",
     "text": [
      "Train Loss: 0.4753 | Val Loss: 0.0093\n",
      "⏹️ Early stopping triggered at epoch 3\n",
      "Finished training for gene: MIB1\n",
      "Loading CSV and images...\n",
      "⚠️ Skipping patient R01-150 due to NaN gene value for ZNF331\n",
      "Training model for gene: ZNF331 (Index: 77)\n",
      "\n",
      "Epoch [1/50]\n"
     ]
    },
    {
     "name": "stderr",
     "output_type": "stream",
     "text": [
      "                                                           \r"
     ]
    },
    {
     "name": "stdout",
     "output_type": "stream",
     "text": [
      "Train Loss: 1.4238 | Val Loss: 0.4853\n",
      "\n",
      "Epoch [2/50]\n"
     ]
    },
    {
     "name": "stderr",
     "output_type": "stream",
     "text": [
      "                                                           \r"
     ]
    },
    {
     "name": "stdout",
     "output_type": "stream",
     "text": [
      "Train Loss: 0.5122 | Val Loss: 0.4477\n",
      "\n",
      "Epoch [3/50]\n"
     ]
    },
    {
     "name": "stderr",
     "output_type": "stream",
     "text": [
      "                                                           \r"
     ]
    },
    {
     "name": "stdout",
     "output_type": "stream",
     "text": [
      "Train Loss: 0.5649 | Val Loss: 0.4716\n",
      "\n",
      "Epoch [4/50]\n"
     ]
    },
    {
     "name": "stderr",
     "output_type": "stream",
     "text": [
      "                                                           \r"
     ]
    },
    {
     "name": "stdout",
     "output_type": "stream",
     "text": [
      "Train Loss: 0.5991 | Val Loss: 0.4122\n",
      "\n",
      "Epoch [5/50]\n"
     ]
    },
    {
     "name": "stderr",
     "output_type": "stream",
     "text": [
      "                                                           \r"
     ]
    },
    {
     "name": "stdout",
     "output_type": "stream",
     "text": [
      "Train Loss: 0.5894 | Val Loss: 0.5896\n",
      "\n",
      "Epoch [6/50]\n"
     ]
    },
    {
     "name": "stderr",
     "output_type": "stream",
     "text": [
      "                                                           \r"
     ]
    },
    {
     "name": "stdout",
     "output_type": "stream",
     "text": [
      "Train Loss: 0.9503 | Val Loss: 0.4670\n",
      "⏹️ Early stopping triggered at epoch 6\n",
      "Finished training for gene: ZNF331\n",
      "Loading CSV and images...\n",
      "⚠️ Skipping patient R01-015 due to NaN gene value for KRT17\n",
      "⚠️ Skipping patient R01-029 due to NaN gene value for KRT17\n",
      "⚠️ Skipping patient R01-037 due to NaN gene value for KRT17\n",
      "⚠️ Skipping patient R01-048 due to NaN gene value for KRT17\n",
      "⚠️ Skipping patient R01-080 due to NaN gene value for KRT17\n",
      "⚠️ Skipping patient R01-102 due to NaN gene value for KRT17\n",
      "⚠️ Skipping patient R01-104 due to NaN gene value for KRT17\n",
      "⚠️ Skipping patient R01-106 due to NaN gene value for KRT17\n",
      "⚠️ Skipping patient R01-108 due to NaN gene value for KRT17\n",
      "⚠️ Skipping patient R01-110 due to NaN gene value for KRT17\n",
      "⚠️ Skipping patient R01-114 due to NaN gene value for KRT17\n",
      "⚠️ Skipping patient R01-117 due to NaN gene value for KRT17\n",
      "⚠️ Skipping patient R01-119 due to NaN gene value for KRT17\n",
      "⚠️ Skipping patient R01-123 due to NaN gene value for KRT17\n",
      "⚠️ Skipping patient R01-124 due to NaN gene value for KRT17\n",
      "⚠️ Skipping patient R01-126 due to NaN gene value for KRT17\n",
      "⚠️ Skipping patient R01-129 due to NaN gene value for KRT17\n",
      "⚠️ Skipping patient R01-132 due to NaN gene value for KRT17\n",
      "⚠️ Skipping patient R01-134 due to NaN gene value for KRT17\n",
      "⚠️ Skipping patient R01-138 due to NaN gene value for KRT17\n",
      "⚠️ Skipping patient R01-146 due to NaN gene value for KRT17\n",
      "Training model for gene: KRT17 (Index: 78)\n",
      "\n",
      "Epoch [1/50]\n"
     ]
    },
    {
     "name": "stderr",
     "output_type": "stream",
     "text": [
      "                                                           \r"
     ]
    },
    {
     "name": "stdout",
     "output_type": "stream",
     "text": [
      "Train Loss: 2.7311 | Val Loss: 0.8548\n",
      "\n",
      "Epoch [2/50]\n"
     ]
    },
    {
     "name": "stderr",
     "output_type": "stream",
     "text": [
      "                                                           \r"
     ]
    },
    {
     "name": "stdout",
     "output_type": "stream",
     "text": [
      "Train Loss: 0.8533 | Val Loss: 0.9068\n",
      "\n",
      "Epoch [3/50]\n"
     ]
    },
    {
     "name": "stderr",
     "output_type": "stream",
     "text": [
      "                                                           \r"
     ]
    },
    {
     "name": "stdout",
     "output_type": "stream",
     "text": [
      "Train Loss: 0.8944 | Val Loss: 0.8781\n",
      "⏹️ Early stopping triggered at epoch 3\n",
      "Finished training for gene: KRT17\n",
      "Loading CSV and images...\n",
      "Training model for gene: ZNF121 (Index: 79)\n",
      "\n",
      "Epoch [1/50]\n"
     ]
    },
    {
     "name": "stderr",
     "output_type": "stream",
     "text": [
      "                                                           \r"
     ]
    },
    {
     "name": "stdout",
     "output_type": "stream",
     "text": [
      "Train Loss: 0.4669 | Val Loss: 0.0000\n",
      "\n",
      "Epoch [2/50]\n"
     ]
    },
    {
     "name": "stderr",
     "output_type": "stream",
     "text": [
      "                                                           \r"
     ]
    },
    {
     "name": "stdout",
     "output_type": "stream",
     "text": [
      "Train Loss: 0.5165 | Val Loss: 0.0000\n",
      "\n",
      "Epoch [3/50]\n"
     ]
    },
    {
     "name": "stderr",
     "output_type": "stream",
     "text": [
      "                                                           \r"
     ]
    },
    {
     "name": "stdout",
     "output_type": "stream",
     "text": [
      "Train Loss: 0.5100 | Val Loss: 0.0000\n",
      "⏹️ Early stopping triggered at epoch 3\n",
      "Finished training for gene: ZNF121\n",
      "Loading CSV and images...\n",
      "⚠️ Skipping patient R01-027 due to NaN gene value for SFTPA1\n",
      "⚠️ Skipping patient R01-055 due to NaN gene value for SFTPA1\n",
      "⚠️ Skipping patient R01-084 due to NaN gene value for SFTPA1\n",
      "⚠️ Skipping patient R01-106 due to NaN gene value for SFTPA1\n",
      "⚠️ Skipping patient R01-119 due to NaN gene value for SFTPA1\n",
      "⚠️ Skipping patient R01-146 due to NaN gene value for SFTPA1\n",
      "⚠️ Skipping patient R01-150 due to NaN gene value for SFTPA1\n",
      "⚠️ Skipping patient R01-157 due to NaN gene value for SFTPA1\n",
      "Training model for gene: SFTPA1 (Index: 80)\n",
      "\n",
      "Epoch [1/50]\n"
     ]
    },
    {
     "name": "stderr",
     "output_type": "stream",
     "text": [
      "                                                           \r"
     ]
    },
    {
     "name": "stdout",
     "output_type": "stream",
     "text": [
      "Train Loss: 0.9617 | Val Loss: 0.9917\n",
      "\n",
      "Epoch [2/50]\n"
     ]
    },
    {
     "name": "stderr",
     "output_type": "stream",
     "text": [
      "                                                           \r"
     ]
    },
    {
     "name": "stdout",
     "output_type": "stream",
     "text": [
      "Train Loss: 0.9164 | Val Loss: 0.9560\n",
      "\n",
      "Epoch [3/50]\n"
     ]
    },
    {
     "name": "stderr",
     "output_type": "stream",
     "text": [
      "                                                           \r"
     ]
    },
    {
     "name": "stdout",
     "output_type": "stream",
     "text": [
      "Train Loss: 0.9039 | Val Loss: 1.0191\n",
      "\n",
      "Epoch [4/50]\n"
     ]
    },
    {
     "name": "stderr",
     "output_type": "stream",
     "text": [
      "                                                           \r"
     ]
    },
    {
     "name": "stdout",
     "output_type": "stream",
     "text": [
      "Train Loss: 0.8922 | Val Loss: 1.0161\n",
      "⏹️ Early stopping triggered at epoch 4\n",
      "Finished training for gene: SFTPA1\n",
      "Loading CSV and images...\n",
      "Training model for gene: LRRK2 (Index: 81)\n",
      "\n",
      "Epoch [1/50]\n"
     ]
    },
    {
     "name": "stderr",
     "output_type": "stream",
     "text": [
      "                                                           \r"
     ]
    },
    {
     "name": "stdout",
     "output_type": "stream",
     "text": [
      "Train Loss: 1.1177 | Val Loss: 0.9349\n",
      "\n",
      "Epoch [2/50]\n"
     ]
    },
    {
     "name": "stderr",
     "output_type": "stream",
     "text": [
      "                                                           \r"
     ]
    },
    {
     "name": "stdout",
     "output_type": "stream",
     "text": [
      "Train Loss: 0.9923 | Val Loss: 0.9546\n",
      "\n",
      "Epoch [3/50]\n"
     ]
    },
    {
     "name": "stderr",
     "output_type": "stream",
     "text": [
      "                                                           \r"
     ]
    },
    {
     "name": "stdout",
     "output_type": "stream",
     "text": [
      "Train Loss: 1.0115 | Val Loss: 0.9705\n",
      "⏹️ Early stopping triggered at epoch 3\n",
      "Finished training for gene: LRRK2\n",
      "Loading CSV and images...\n",
      "⚠️ Skipping patient R01-016 due to NaN gene value for TSHZ2\n",
      "⚠️ Skipping patient R01-059 due to NaN gene value for TSHZ2\n",
      "⚠️ Skipping patient R01-080 due to NaN gene value for TSHZ2\n",
      "Training model for gene: TSHZ2 (Index: 82)\n",
      "\n",
      "Epoch [1/50]\n"
     ]
    },
    {
     "name": "stderr",
     "output_type": "stream",
     "text": [
      "                                                           \r"
     ]
    },
    {
     "name": "stdout",
     "output_type": "stream",
     "text": [
      "Train Loss: 1.1486 | Val Loss: 1.0867\n",
      "\n",
      "Epoch [2/50]\n"
     ]
    },
    {
     "name": "stderr",
     "output_type": "stream",
     "text": [
      "                                                           \r"
     ]
    },
    {
     "name": "stdout",
     "output_type": "stream",
     "text": [
      "Train Loss: 1.0473 | Val Loss: 1.0938\n",
      "\n",
      "Epoch [3/50]\n"
     ]
    },
    {
     "name": "stderr",
     "output_type": "stream",
     "text": [
      "                                                           \r"
     ]
    },
    {
     "name": "stdout",
     "output_type": "stream",
     "text": [
      "Train Loss: 1.0452 | Val Loss: 1.0775\n",
      "\n",
      "Epoch [4/50]\n"
     ]
    },
    {
     "name": "stderr",
     "output_type": "stream",
     "text": [
      "                                                           \r"
     ]
    },
    {
     "name": "stdout",
     "output_type": "stream",
     "text": [
      "Train Loss: 1.0286 | Val Loss: 1.0980\n",
      "\n",
      "Epoch [5/50]\n"
     ]
    },
    {
     "name": "stderr",
     "output_type": "stream",
     "text": [
      "                                                           \r"
     ]
    },
    {
     "name": "stdout",
     "output_type": "stream",
     "text": [
      "Train Loss: 1.0339 | Val Loss: 1.0540\n",
      "\n",
      "Epoch [6/50]\n"
     ]
    },
    {
     "name": "stderr",
     "output_type": "stream",
     "text": [
      "                                                           \r"
     ]
    },
    {
     "name": "stdout",
     "output_type": "stream",
     "text": [
      "Train Loss: 1.0365 | Val Loss: 1.0763\n",
      "\n",
      "Epoch [7/50]\n"
     ]
    },
    {
     "name": "stderr",
     "output_type": "stream",
     "text": [
      "                                                           \r"
     ]
    },
    {
     "name": "stdout",
     "output_type": "stream",
     "text": [
      "Train Loss: 1.0059 | Val Loss: 1.0648\n",
      "⏹️ Early stopping triggered at epoch 7\n",
      "Finished training for gene: TSHZ2\n",
      "Loading CSV and images...\n",
      "Training model for gene: TRAF3 (Index: 83)\n",
      "\n",
      "Epoch [1/50]\n"
     ]
    },
    {
     "name": "stderr",
     "output_type": "stream",
     "text": [
      "                                                           \r"
     ]
    },
    {
     "name": "stdout",
     "output_type": "stream",
     "text": [
      "Train Loss: 2.7175 | Val Loss: 0.4820\n",
      "\n",
      "Epoch [2/50]\n"
     ]
    },
    {
     "name": "stderr",
     "output_type": "stream",
     "text": [
      "                                                           \r"
     ]
    },
    {
     "name": "stdout",
     "output_type": "stream",
     "text": [
      "Train Loss: 0.5062 | Val Loss: 0.3258\n",
      "\n",
      "Epoch [3/50]\n"
     ]
    },
    {
     "name": "stderr",
     "output_type": "stream",
     "text": [
      "                                                           \r"
     ]
    },
    {
     "name": "stdout",
     "output_type": "stream",
     "text": [
      "Train Loss: 0.6453 | Val Loss: 0.6121\n",
      "\n",
      "Epoch [4/50]\n"
     ]
    },
    {
     "name": "stderr",
     "output_type": "stream",
     "text": [
      "                                                           \r"
     ]
    },
    {
     "name": "stdout",
     "output_type": "stream",
     "text": [
      "Train Loss: 0.4174 | Val Loss: 0.3702\n",
      "⏹️ Early stopping triggered at epoch 4\n",
      "Finished training for gene: TRAF3\n",
      "Loading CSV and images...\n",
      "⚠️ Skipping patient R01-027 due to NaN gene value for NAPSA\n",
      "⚠️ Skipping patient R01-055 due to NaN gene value for NAPSA\n",
      "⚠️ Skipping patient R01-065 due to NaN gene value for NAPSA\n",
      "⚠️ Skipping patient R01-102 due to NaN gene value for NAPSA\n",
      "⚠️ Skipping patient R01-108 due to NaN gene value for NAPSA\n",
      "⚠️ Skipping patient R01-112 due to NaN gene value for NAPSA\n",
      "⚠️ Skipping patient R01-119 due to NaN gene value for NAPSA\n",
      "⚠️ Skipping patient R01-141 due to NaN gene value for NAPSA\n",
      "⚠️ Skipping patient R01-145 due to NaN gene value for NAPSA\n",
      "⚠️ Skipping patient R01-150 due to NaN gene value for NAPSA\n",
      "Training model for gene: NAPSA (Index: 84)\n",
      "\n",
      "Epoch [1/50]\n"
     ]
    },
    {
     "name": "stderr",
     "output_type": "stream",
     "text": [
      "                                                           \r"
     ]
    },
    {
     "name": "stdout",
     "output_type": "stream",
     "text": [
      "Train Loss: 1.2255 | Val Loss: 0.9608\n",
      "\n",
      "Epoch [2/50]\n"
     ]
    },
    {
     "name": "stderr",
     "output_type": "stream",
     "text": [
      "                                                           \r"
     ]
    },
    {
     "name": "stdout",
     "output_type": "stream",
     "text": [
      "Train Loss: 1.0079 | Val Loss: 0.9582\n",
      "\n",
      "Epoch [3/50]\n"
     ]
    },
    {
     "name": "stderr",
     "output_type": "stream",
     "text": [
      "                                                           \r"
     ]
    },
    {
     "name": "stdout",
     "output_type": "stream",
     "text": [
      "Train Loss: 0.9764 | Val Loss: 0.9510\n",
      "\n",
      "Epoch [4/50]\n"
     ]
    },
    {
     "name": "stderr",
     "output_type": "stream",
     "text": [
      "                                                           \r"
     ]
    },
    {
     "name": "stdout",
     "output_type": "stream",
     "text": [
      "Train Loss: 0.9965 | Val Loss: 0.9557\n",
      "\n",
      "Epoch [5/50]\n"
     ]
    },
    {
     "name": "stderr",
     "output_type": "stream",
     "text": [
      "                                                           \r"
     ]
    },
    {
     "name": "stdout",
     "output_type": "stream",
     "text": [
      "Train Loss: 0.9943 | Val Loss: 0.9325\n",
      "\n",
      "Epoch [6/50]\n"
     ]
    },
    {
     "name": "stderr",
     "output_type": "stream",
     "text": [
      "                                                           \r"
     ]
    },
    {
     "name": "stdout",
     "output_type": "stream",
     "text": [
      "Train Loss: 0.9834 | Val Loss: 0.9321\n",
      "\n",
      "Epoch [7/50]\n"
     ]
    },
    {
     "name": "stderr",
     "output_type": "stream",
     "text": [
      "                                                           \r"
     ]
    },
    {
     "name": "stdout",
     "output_type": "stream",
     "text": [
      "Train Loss: 1.0052 | Val Loss: 0.9685\n",
      "⏹️ Early stopping triggered at epoch 7\n",
      "Finished training for gene: NAPSA\n",
      "Loading CSV and images...\n",
      "⚠️ Skipping patient R01-022 due to NaN gene value for TTC7B\n",
      "⚠️ Skipping patient R01-051 due to NaN gene value for TTC7B\n",
      "⚠️ Skipping patient R01-052 due to NaN gene value for TTC7B\n",
      "Training model for gene: TTC7B (Index: 85)\n",
      "\n",
      "Epoch [1/50]\n"
     ]
    },
    {
     "name": "stderr",
     "output_type": "stream",
     "text": [
      "                                                           \r"
     ]
    },
    {
     "name": "stdout",
     "output_type": "stream",
     "text": [
      "Train Loss: 0.8854 | Val Loss: 1.1440\n",
      "\n",
      "Epoch [2/50]\n"
     ]
    },
    {
     "name": "stderr",
     "output_type": "stream",
     "text": [
      "                                                           \r"
     ]
    },
    {
     "name": "stdout",
     "output_type": "stream",
     "text": [
      "Train Loss: 0.7530 | Val Loss: 0.8987\n",
      "\n",
      "Epoch [3/50]\n"
     ]
    },
    {
     "name": "stderr",
     "output_type": "stream",
     "text": [
      "                                                           \r"
     ]
    },
    {
     "name": "stdout",
     "output_type": "stream",
     "text": [
      "Train Loss: 0.7315 | Val Loss: 1.2251\n",
      "\n",
      "Epoch [4/50]\n"
     ]
    },
    {
     "name": "stderr",
     "output_type": "stream",
     "text": [
      "                                                           \r"
     ]
    },
    {
     "name": "stdout",
     "output_type": "stream",
     "text": [
      "Train Loss: 0.7467 | Val Loss: 1.2053\n",
      "⏹️ Early stopping triggered at epoch 4\n",
      "Finished training for gene: TTC7B\n",
      "Loading CSV and images...\n",
      "Training model for gene: OPHN1 (Index: 86)\n",
      "\n",
      "Epoch [1/50]\n"
     ]
    },
    {
     "name": "stderr",
     "output_type": "stream",
     "text": [
      "                                                           \r"
     ]
    },
    {
     "name": "stdout",
     "output_type": "stream",
     "text": [
      "Train Loss: 1.9300 | Val Loss: 0.8767\n",
      "\n",
      "Epoch [2/50]\n"
     ]
    },
    {
     "name": "stderr",
     "output_type": "stream",
     "text": [
      "                                                           \r"
     ]
    },
    {
     "name": "stdout",
     "output_type": "stream",
     "text": [
      "Train Loss: 0.7776 | Val Loss: 1.0250\n",
      "\n",
      "Epoch [3/50]\n"
     ]
    },
    {
     "name": "stderr",
     "output_type": "stream",
     "text": [
      "                                                           \r"
     ]
    },
    {
     "name": "stdout",
     "output_type": "stream",
     "text": [
      "Train Loss: 0.8087 | Val Loss: 0.9040\n",
      "⏹️ Early stopping triggered at epoch 3\n",
      "Finished training for gene: OPHN1\n",
      "Loading CSV and images...\n",
      "⚠️ Skipping patient R01-005 due to NaN gene value for AKR1C1\n",
      "⚠️ Skipping patient R01-015 due to NaN gene value for AKR1C1\n",
      "⚠️ Skipping patient R01-129 due to NaN gene value for AKR1C1\n",
      "⚠️ Skipping patient R01-145 due to NaN gene value for AKR1C1\n",
      "⚠️ Skipping patient R01-149 due to NaN gene value for AKR1C1\n",
      "⚠️ Skipping patient R01-160 due to NaN gene value for AKR1C1\n",
      "Training model for gene: AKR1C1 (Index: 87)\n",
      "\n",
      "Epoch [1/50]\n"
     ]
    },
    {
     "name": "stderr",
     "output_type": "stream",
     "text": [
      "                                                           \r"
     ]
    },
    {
     "name": "stdout",
     "output_type": "stream",
     "text": [
      "Train Loss: 0.9774 | Val Loss: 1.0758\n",
      "\n",
      "Epoch [2/50]\n"
     ]
    },
    {
     "name": "stderr",
     "output_type": "stream",
     "text": [
      "                                                           \r"
     ]
    },
    {
     "name": "stdout",
     "output_type": "stream",
     "text": [
      "Train Loss: 0.9023 | Val Loss: 0.9441\n",
      "\n",
      "Epoch [3/50]\n"
     ]
    },
    {
     "name": "stderr",
     "output_type": "stream",
     "text": [
      "                                                           \r"
     ]
    },
    {
     "name": "stdout",
     "output_type": "stream",
     "text": [
      "Train Loss: 0.8570 | Val Loss: 0.9708\n",
      "\n",
      "Epoch [4/50]\n"
     ]
    },
    {
     "name": "stderr",
     "output_type": "stream",
     "text": [
      "                                                           \r"
     ]
    },
    {
     "name": "stdout",
     "output_type": "stream",
     "text": [
      "Train Loss: 0.9266 | Val Loss: 0.9808\n",
      "⏹️ Early stopping triggered at epoch 4\n",
      "Finished training for gene: AKR1C1\n",
      "Loading CSV and images...\n",
      "⚠️ Skipping patient R01-046 due to NaN gene value for ZNF606\n",
      "⚠️ Skipping patient R01-096 due to NaN gene value for ZNF606\n",
      "⚠️ Skipping patient R01-105 due to NaN gene value for ZNF606\n",
      "Training model for gene: ZNF606 (Index: 88)\n",
      "\n",
      "Epoch [1/50]\n"
     ]
    },
    {
     "name": "stderr",
     "output_type": "stream",
     "text": [
      "                                                           \r"
     ]
    },
    {
     "name": "stdout",
     "output_type": "stream",
     "text": [
      "Train Loss: 0.4179 | Val Loss: 0.0000\n",
      "\n",
      "Epoch [2/50]\n"
     ]
    },
    {
     "name": "stderr",
     "output_type": "stream",
     "text": [
      "                                                           \r"
     ]
    },
    {
     "name": "stdout",
     "output_type": "stream",
     "text": [
      "Train Loss: 0.3913 | Val Loss: 0.0000\n",
      "\n",
      "Epoch [3/50]\n"
     ]
    },
    {
     "name": "stderr",
     "output_type": "stream",
     "text": [
      "                                                           \r"
     ]
    },
    {
     "name": "stdout",
     "output_type": "stream",
     "text": [
      "Train Loss: 0.3315 | Val Loss: 0.0000\n",
      "⏹️ Early stopping triggered at epoch 3\n",
      "Finished training for gene: ZNF606\n",
      "Loading CSV and images...\n",
      "⚠️ Skipping patient R01-093 due to NaN gene value for CCT6P3\n",
      "Training model for gene: CCT6P3 (Index: 89)\n",
      "\n",
      "Epoch [1/50]\n"
     ]
    },
    {
     "name": "stderr",
     "output_type": "stream",
     "text": [
      "                                                           \r"
     ]
    },
    {
     "name": "stdout",
     "output_type": "stream",
     "text": [
      "Train Loss: 1.0279 | Val Loss: 0.7255\n",
      "\n",
      "Epoch [2/50]\n"
     ]
    },
    {
     "name": "stderr",
     "output_type": "stream",
     "text": [
      "                                                           \r"
     ]
    },
    {
     "name": "stdout",
     "output_type": "stream",
     "text": [
      "Train Loss: 0.9730 | Val Loss: 0.7168\n",
      "\n",
      "Epoch [3/50]\n"
     ]
    },
    {
     "name": "stderr",
     "output_type": "stream",
     "text": [
      "                                                           \r"
     ]
    },
    {
     "name": "stdout",
     "output_type": "stream",
     "text": [
      "Train Loss: 0.8945 | Val Loss: 0.7082\n",
      "\n",
      "Epoch [4/50]\n"
     ]
    },
    {
     "name": "stderr",
     "output_type": "stream",
     "text": [
      "                                                           \r"
     ]
    },
    {
     "name": "stdout",
     "output_type": "stream",
     "text": [
      "Train Loss: 0.8887 | Val Loss: 0.7210\n",
      "\n",
      "Epoch [5/50]\n"
     ]
    },
    {
     "name": "stderr",
     "output_type": "stream",
     "text": [
      "                                                           \r"
     ]
    },
    {
     "name": "stdout",
     "output_type": "stream",
     "text": [
      "Train Loss: 0.8364 | Val Loss: 0.6922\n",
      "\n",
      "Epoch [6/50]\n"
     ]
    },
    {
     "name": "stderr",
     "output_type": "stream",
     "text": [
      "                                                           \r"
     ]
    },
    {
     "name": "stdout",
     "output_type": "stream",
     "text": [
      "Train Loss: 0.8568 | Val Loss: 0.7071\n",
      "\n",
      "Epoch [7/50]\n"
     ]
    },
    {
     "name": "stderr",
     "output_type": "stream",
     "text": [
      "                                                           \r"
     ]
    },
    {
     "name": "stdout",
     "output_type": "stream",
     "text": [
      "Train Loss: 0.8050 | Val Loss: 0.7266\n",
      "⏹️ Early stopping triggered at epoch 7\n",
      "Finished training for gene: CCT6P3\n",
      "Loading CSV and images...\n",
      "⚠️ Skipping patient R01-113 due to NaN gene value for H3F3A\n",
      "Training model for gene: H3F3A (Index: 90)\n",
      "\n",
      "Epoch [1/50]\n"
     ]
    },
    {
     "name": "stderr",
     "output_type": "stream",
     "text": [
      "                                                           \r"
     ]
    },
    {
     "name": "stdout",
     "output_type": "stream",
     "text": [
      "Train Loss: 1.0740 | Val Loss: 1.0562\n",
      "\n",
      "Epoch [2/50]\n"
     ]
    },
    {
     "name": "stderr",
     "output_type": "stream",
     "text": [
      "                                                           \r"
     ]
    },
    {
     "name": "stdout",
     "output_type": "stream",
     "text": [
      "Train Loss: 1.0409 | Val Loss: 1.0130\n",
      "\n",
      "Epoch [3/50]\n"
     ]
    },
    {
     "name": "stderr",
     "output_type": "stream",
     "text": [
      "                                                           \r"
     ]
    },
    {
     "name": "stdout",
     "output_type": "stream",
     "text": [
      "Train Loss: 1.0554 | Val Loss: 1.0476\n",
      "\n",
      "Epoch [4/50]\n"
     ]
    },
    {
     "name": "stderr",
     "output_type": "stream",
     "text": [
      "                                                           \r"
     ]
    },
    {
     "name": "stdout",
     "output_type": "stream",
     "text": [
      "Train Loss: 1.0570 | Val Loss: 1.0039\n",
      "\n",
      "Epoch [5/50]\n"
     ]
    },
    {
     "name": "stderr",
     "output_type": "stream",
     "text": [
      "                                                           \r"
     ]
    },
    {
     "name": "stdout",
     "output_type": "stream",
     "text": [
      "Train Loss: 1.0172 | Val Loss: 1.0009\n",
      "\n",
      "Epoch [6/50]\n"
     ]
    },
    {
     "name": "stderr",
     "output_type": "stream",
     "text": [
      "                                                           \r"
     ]
    },
    {
     "name": "stdout",
     "output_type": "stream",
     "text": [
      "Train Loss: 1.0442 | Val Loss: 1.0184\n",
      "\n",
      "Epoch [7/50]\n"
     ]
    },
    {
     "name": "stderr",
     "output_type": "stream",
     "text": [
      "                                                           \r"
     ]
    },
    {
     "name": "stdout",
     "output_type": "stream",
     "text": [
      "Train Loss: 1.0272 | Val Loss: 0.9803\n",
      "\n",
      "Epoch [8/50]\n"
     ]
    },
    {
     "name": "stderr",
     "output_type": "stream",
     "text": [
      "                                                           \r"
     ]
    },
    {
     "name": "stdout",
     "output_type": "stream",
     "text": [
      "Train Loss: 1.0043 | Val Loss: 0.9884\n",
      "\n",
      "Epoch [9/50]\n"
     ]
    },
    {
     "name": "stderr",
     "output_type": "stream",
     "text": [
      "                                                           \r"
     ]
    },
    {
     "name": "stdout",
     "output_type": "stream",
     "text": [
      "Train Loss: 0.9699 | Val Loss: 0.9459\n",
      "\n",
      "Epoch [10/50]\n"
     ]
    },
    {
     "name": "stderr",
     "output_type": "stream",
     "text": [
      "                                                           \r"
     ]
    },
    {
     "name": "stdout",
     "output_type": "stream",
     "text": [
      "Train Loss: 0.9592 | Val Loss: 1.4885\n",
      "\n",
      "Epoch [11/50]\n"
     ]
    },
    {
     "name": "stderr",
     "output_type": "stream",
     "text": [
      "                                                           \r"
     ]
    },
    {
     "name": "stdout",
     "output_type": "stream",
     "text": [
      "Train Loss: 0.7875 | Val Loss: 0.7771\n",
      "\n",
      "Epoch [12/50]\n"
     ]
    },
    {
     "name": "stderr",
     "output_type": "stream",
     "text": [
      "                                                           \r"
     ]
    },
    {
     "name": "stdout",
     "output_type": "stream",
     "text": [
      "Train Loss: 0.8141 | Val Loss: 0.7411\n",
      "\n",
      "Epoch [13/50]\n"
     ]
    },
    {
     "name": "stderr",
     "output_type": "stream",
     "text": [
      "                                                           \r"
     ]
    },
    {
     "name": "stdout",
     "output_type": "stream",
     "text": [
      "Train Loss: 0.7839 | Val Loss: 0.6400\n",
      "\n",
      "Epoch [14/50]\n"
     ]
    },
    {
     "name": "stderr",
     "output_type": "stream",
     "text": [
      "                                                           \r"
     ]
    },
    {
     "name": "stdout",
     "output_type": "stream",
     "text": [
      "Train Loss: 0.7973 | Val Loss: 0.7509\n",
      "\n",
      "Epoch [15/50]\n"
     ]
    },
    {
     "name": "stderr",
     "output_type": "stream",
     "text": [
      "                                                           \r"
     ]
    },
    {
     "name": "stdout",
     "output_type": "stream",
     "text": [
      "Train Loss: 0.7179 | Val Loss: 1.2633\n",
      "⏹️ Early stopping triggered at epoch 15\n",
      "Finished training for gene: H3F3A\n",
      "Loading CSV and images...\n",
      "⚠️ Skipping patient R01-069 due to NaN gene value for PTRH2\n",
      "⚠️ Skipping patient R01-100 due to NaN gene value for PTRH2\n",
      "⚠️ Skipping patient R01-102 due to NaN gene value for PTRH2\n",
      "⚠️ Skipping patient R01-118 due to NaN gene value for PTRH2\n",
      "⚠️ Skipping patient R01-128 due to NaN gene value for PTRH2\n",
      "⚠️ Skipping patient R01-131 due to NaN gene value for PTRH2\n",
      "⚠️ Skipping patient R01-160 due to NaN gene value for PTRH2\n",
      "Training model for gene: PTRH2 (Index: 91)\n",
      "\n",
      "Epoch [1/50]\n"
     ]
    },
    {
     "name": "stderr",
     "output_type": "stream",
     "text": [
      "                                                           \r"
     ]
    },
    {
     "name": "stdout",
     "output_type": "stream",
     "text": [
      "Train Loss: 0.4881 | Val Loss: 0.0000\n",
      "\n",
      "Epoch [2/50]\n"
     ]
    },
    {
     "name": "stderr",
     "output_type": "stream",
     "text": [
      "                                                           \r"
     ]
    },
    {
     "name": "stdout",
     "output_type": "stream",
     "text": [
      "Train Loss: 0.4513 | Val Loss: 0.0000\n",
      "\n",
      "Epoch [3/50]\n"
     ]
    },
    {
     "name": "stderr",
     "output_type": "stream",
     "text": [
      "                                                           \r"
     ]
    },
    {
     "name": "stdout",
     "output_type": "stream",
     "text": [
      "Train Loss: 0.5425 | Val Loss: 0.0000\n",
      "⏹️ Early stopping triggered at epoch 3\n",
      "Finished training for gene: PTRH2\n",
      "Loading CSV and images...\n",
      "⚠️ Skipping patient R01-015 due to NaN gene value for CCNJL\n",
      "⚠️ Skipping patient R01-028 due to NaN gene value for CCNJL\n",
      "⚠️ Skipping patient R01-029 due to NaN gene value for CCNJL\n",
      "⚠️ Skipping patient R01-040 due to NaN gene value for CCNJL\n",
      "⚠️ Skipping patient R01-065 due to NaN gene value for CCNJL\n",
      "⚠️ Skipping patient R01-069 due to NaN gene value for CCNJL\n",
      "⚠️ Skipping patient R01-073 due to NaN gene value for CCNJL\n",
      "⚠️ Skipping patient R01-083 due to NaN gene value for CCNJL\n",
      "⚠️ Skipping patient R01-093 due to NaN gene value for CCNJL\n",
      "⚠️ Skipping patient R01-150 due to NaN gene value for CCNJL\n",
      "⚠️ Skipping patient R01-156 due to NaN gene value for CCNJL\n",
      "⚠️ Skipping patient R01-157 due to NaN gene value for CCNJL\n",
      "⚠️ Skipping patient R01-158 due to NaN gene value for CCNJL\n",
      "⚠️ Skipping patient R01-159 due to NaN gene value for CCNJL\n",
      "Training model for gene: CCNJL (Index: 92)\n",
      "\n",
      "Epoch [1/50]\n"
     ]
    },
    {
     "name": "stderr",
     "output_type": "stream",
     "text": [
      "                                                           \r"
     ]
    },
    {
     "name": "stdout",
     "output_type": "stream",
     "text": [
      "Train Loss: 1.1190 | Val Loss: 0.8634\n",
      "\n",
      "Epoch [2/50]\n"
     ]
    },
    {
     "name": "stderr",
     "output_type": "stream",
     "text": [
      "                                                           \r"
     ]
    },
    {
     "name": "stdout",
     "output_type": "stream",
     "text": [
      "Train Loss: 1.0109 | Val Loss: 0.9738\n",
      "\n",
      "Epoch [3/50]\n"
     ]
    },
    {
     "name": "stderr",
     "output_type": "stream",
     "text": [
      "                                                           \r"
     ]
    },
    {
     "name": "stdout",
     "output_type": "stream",
     "text": [
      "Train Loss: 0.9836 | Val Loss: 0.8518\n",
      "\n",
      "Epoch [4/50]\n"
     ]
    },
    {
     "name": "stderr",
     "output_type": "stream",
     "text": [
      "                                                           \r"
     ]
    },
    {
     "name": "stdout",
     "output_type": "stream",
     "text": [
      "Train Loss: 0.9695 | Val Loss: 0.8222\n",
      "\n",
      "Epoch [5/50]\n"
     ]
    },
    {
     "name": "stderr",
     "output_type": "stream",
     "text": [
      "                                                           \r"
     ]
    },
    {
     "name": "stdout",
     "output_type": "stream",
     "text": [
      "Train Loss: 0.8822 | Val Loss: 0.8171\n",
      "\n",
      "Epoch [6/50]\n"
     ]
    },
    {
     "name": "stderr",
     "output_type": "stream",
     "text": [
      "                                                           \r"
     ]
    },
    {
     "name": "stdout",
     "output_type": "stream",
     "text": [
      "Train Loss: 0.8534 | Val Loss: 0.9580\n",
      "\n",
      "Epoch [7/50]\n"
     ]
    },
    {
     "name": "stderr",
     "output_type": "stream",
     "text": [
      "                                                           \r"
     ]
    },
    {
     "name": "stdout",
     "output_type": "stream",
     "text": [
      "Train Loss: 0.8219 | Val Loss: 0.8016\n",
      "\n",
      "Epoch [8/50]\n"
     ]
    },
    {
     "name": "stderr",
     "output_type": "stream",
     "text": [
      "                                                           \r"
     ]
    },
    {
     "name": "stdout",
     "output_type": "stream",
     "text": [
      "Train Loss: 0.8819 | Val Loss: 0.9261\n",
      "\n",
      "Epoch [9/50]\n"
     ]
    },
    {
     "name": "stderr",
     "output_type": "stream",
     "text": [
      "                                                           \r"
     ]
    },
    {
     "name": "stdout",
     "output_type": "stream",
     "text": [
      "Train Loss: 0.8194 | Val Loss: 0.9902\n",
      "⏹️ Early stopping triggered at epoch 9\n",
      "Finished training for gene: CCNJL\n",
      "Loading CSV and images...\n",
      "⚠️ Skipping patient R01-015 due to NaN gene value for SCGB3A1\n",
      "⚠️ Skipping patient R01-018 due to NaN gene value for SCGB3A1\n",
      "⚠️ Skipping patient R01-027 due to NaN gene value for SCGB3A1\n",
      "⚠️ Skipping patient R01-029 due to NaN gene value for SCGB3A1\n",
      "⚠️ Skipping patient R01-040 due to NaN gene value for SCGB3A1\n",
      "⚠️ Skipping patient R01-048 due to NaN gene value for SCGB3A1\n",
      "⚠️ Skipping patient R01-051 due to NaN gene value for SCGB3A1\n",
      "⚠️ Skipping patient R01-055 due to NaN gene value for SCGB3A1\n",
      "⚠️ Skipping patient R01-065 due to NaN gene value for SCGB3A1\n",
      "⚠️ Skipping patient R01-084 due to NaN gene value for SCGB3A1\n",
      "⚠️ Skipping patient R01-093 due to NaN gene value for SCGB3A1\n",
      "⚠️ Skipping patient R01-106 due to NaN gene value for SCGB3A1\n",
      "⚠️ Skipping patient R01-112 due to NaN gene value for SCGB3A1\n",
      "⚠️ Skipping patient R01-114 due to NaN gene value for SCGB3A1\n",
      "⚠️ Skipping patient R01-119 due to NaN gene value for SCGB3A1\n",
      "⚠️ Skipping patient R01-134 due to NaN gene value for SCGB3A1\n",
      "⚠️ Skipping patient R01-153 due to NaN gene value for SCGB3A1\n",
      "⚠️ Skipping patient R01-160 due to NaN gene value for SCGB3A1\n",
      "Training model for gene: SCGB3A1 (Index: 93)\n",
      "\n",
      "Epoch [1/50]\n"
     ]
    },
    {
     "name": "stderr",
     "output_type": "stream",
     "text": [
      "                                                           \r"
     ]
    },
    {
     "name": "stdout",
     "output_type": "stream",
     "text": [
      "Train Loss: 1.0876 | Val Loss: 0.8078\n",
      "\n",
      "Epoch [2/50]\n"
     ]
    },
    {
     "name": "stderr",
     "output_type": "stream",
     "text": [
      "                                                           \r"
     ]
    },
    {
     "name": "stdout",
     "output_type": "stream",
     "text": [
      "Train Loss: 1.0239 | Val Loss: 0.8446\n",
      "\n",
      "Epoch [3/50]\n"
     ]
    },
    {
     "name": "stderr",
     "output_type": "stream",
     "text": [
      "                                                           \r"
     ]
    },
    {
     "name": "stdout",
     "output_type": "stream",
     "text": [
      "Train Loss: 0.9974 | Val Loss: 0.8228\n",
      "⏹️ Early stopping triggered at epoch 3\n",
      "Finished training for gene: SCGB3A1\n",
      "Loading CSV and images...\n",
      "⚠️ Skipping patient R01-101 due to NaN gene value for RPS7\n",
      "Training model for gene: RPS7 (Index: 94)\n",
      "\n",
      "Epoch [1/50]\n"
     ]
    },
    {
     "name": "stderr",
     "output_type": "stream",
     "text": [
      "                                                           \r"
     ]
    },
    {
     "name": "stdout",
     "output_type": "stream",
     "text": [
      "Train Loss: 1.3124 | Val Loss: 1.0135\n",
      "\n",
      "Epoch [2/50]\n"
     ]
    },
    {
     "name": "stderr",
     "output_type": "stream",
     "text": [
      "                                                           \r"
     ]
    },
    {
     "name": "stdout",
     "output_type": "stream",
     "text": [
      "Train Loss: 1.0464 | Val Loss: 0.8708\n",
      "\n",
      "Epoch [3/50]\n"
     ]
    },
    {
     "name": "stderr",
     "output_type": "stream",
     "text": [
      "                                                           \r"
     ]
    },
    {
     "name": "stdout",
     "output_type": "stream",
     "text": [
      "Train Loss: 1.0280 | Val Loss: 0.9690\n",
      "\n",
      "Epoch [4/50]\n"
     ]
    },
    {
     "name": "stderr",
     "output_type": "stream",
     "text": [
      "                                                           \r"
     ]
    },
    {
     "name": "stdout",
     "output_type": "stream",
     "text": [
      "Train Loss: 1.0047 | Val Loss: 0.8514\n",
      "\n",
      "Epoch [5/50]\n"
     ]
    },
    {
     "name": "stderr",
     "output_type": "stream",
     "text": [
      "                                                           \r"
     ]
    },
    {
     "name": "stdout",
     "output_type": "stream",
     "text": [
      "Train Loss: 1.0143 | Val Loss: 0.8908\n",
      "\n",
      "Epoch [6/50]\n"
     ]
    },
    {
     "name": "stderr",
     "output_type": "stream",
     "text": [
      "                                                           \r"
     ]
    },
    {
     "name": "stdout",
     "output_type": "stream",
     "text": [
      "Train Loss: 0.9627 | Val Loss: 0.9433\n",
      "⏹️ Early stopping triggered at epoch 6\n",
      "Finished training for gene: RPS7\n",
      "Loading CSV and images...\n",
      "Training model for gene: EYA3 (Index: 95)\n",
      "\n",
      "Epoch [1/50]\n"
     ]
    },
    {
     "name": "stderr",
     "output_type": "stream",
     "text": [
      "                                                           \r"
     ]
    },
    {
     "name": "stdout",
     "output_type": "stream",
     "text": [
      "Train Loss: 0.4444 | Val Loss: 0.0000\n",
      "\n",
      "Epoch [2/50]\n"
     ]
    },
    {
     "name": "stderr",
     "output_type": "stream",
     "text": [
      "                                                           \r"
     ]
    },
    {
     "name": "stdout",
     "output_type": "stream",
     "text": [
      "Train Loss: 0.6827 | Val Loss: 0.0000\n",
      "\n",
      "Epoch [3/50]\n"
     ]
    },
    {
     "name": "stderr",
     "output_type": "stream",
     "text": [
      "                                                           \r"
     ]
    },
    {
     "name": "stdout",
     "output_type": "stream",
     "text": [
      "Train Loss: 0.5180 | Val Loss: 0.0000\n",
      "⏹️ Early stopping triggered at epoch 3\n",
      "Finished training for gene: EYA3\n",
      "Loading CSV and images...\n",
      "⚠️ Skipping patient R01-021 due to NaN gene value for PLCB1\n",
      "⚠️ Skipping patient R01-037 due to NaN gene value for PLCB1\n",
      "⚠️ Skipping patient R01-108 due to NaN gene value for PLCB1\n",
      "⚠️ Skipping patient R01-132 due to NaN gene value for PLCB1\n",
      "⚠️ Skipping patient R01-150 due to NaN gene value for PLCB1\n",
      "Training model for gene: PLCB1 (Index: 96)\n",
      "\n",
      "Epoch [1/50]\n"
     ]
    },
    {
     "name": "stderr",
     "output_type": "stream",
     "text": [
      "                                                           \r"
     ]
    },
    {
     "name": "stdout",
     "output_type": "stream",
     "text": [
      "Train Loss: 1.0774 | Val Loss: 1.0397\n",
      "\n",
      "Epoch [2/50]\n"
     ]
    },
    {
     "name": "stderr",
     "output_type": "stream",
     "text": [
      "                                                           \r"
     ]
    },
    {
     "name": "stdout",
     "output_type": "stream",
     "text": [
      "Train Loss: 0.9676 | Val Loss: 0.8676\n",
      "\n",
      "Epoch [3/50]\n"
     ]
    },
    {
     "name": "stderr",
     "output_type": "stream",
     "text": [
      "                                                           \r"
     ]
    },
    {
     "name": "stdout",
     "output_type": "stream",
     "text": [
      "Train Loss: 0.8974 | Val Loss: 0.8813\n",
      "\n",
      "Epoch [4/50]\n"
     ]
    },
    {
     "name": "stderr",
     "output_type": "stream",
     "text": [
      "                                                           \r"
     ]
    },
    {
     "name": "stdout",
     "output_type": "stream",
     "text": [
      "Train Loss: 0.9005 | Val Loss: 0.8617\n",
      "\n",
      "Epoch [5/50]\n"
     ]
    },
    {
     "name": "stderr",
     "output_type": "stream",
     "text": [
      "                                                           \r"
     ]
    },
    {
     "name": "stdout",
     "output_type": "stream",
     "text": [
      "Train Loss: 0.8987 | Val Loss: 0.8945\n",
      "\n",
      "Epoch [6/50]\n"
     ]
    },
    {
     "name": "stderr",
     "output_type": "stream",
     "text": [
      "                                                           \r"
     ]
    },
    {
     "name": "stdout",
     "output_type": "stream",
     "text": [
      "Train Loss: 0.9416 | Val Loss: 0.8813\n",
      "⏹️ Early stopping triggered at epoch 6\n",
      "Finished training for gene: PLCB1\n",
      "Loading CSV and images...\n",
      "⚠️ Skipping patient R01-027 due to NaN gene value for NR3C2\n",
      "⚠️ Skipping patient R01-046 due to NaN gene value for NR3C2\n",
      "⚠️ Skipping patient R01-093 due to NaN gene value for NR3C2\n",
      "⚠️ Skipping patient R01-106 due to NaN gene value for NR3C2\n",
      "⚠️ Skipping patient R01-119 due to NaN gene value for NR3C2\n",
      "⚠️ Skipping patient R01-124 due to NaN gene value for NR3C2\n",
      "⚠️ Skipping patient R01-150 due to NaN gene value for NR3C2\n",
      "Training model for gene: NR3C2 (Index: 97)\n",
      "\n",
      "Epoch [1/50]\n"
     ]
    },
    {
     "name": "stderr",
     "output_type": "stream",
     "text": [
      "                                                           \r"
     ]
    },
    {
     "name": "stdout",
     "output_type": "stream",
     "text": [
      "Train Loss: 1.0863 | Val Loss: 0.9140\n",
      "\n",
      "Epoch [2/50]\n"
     ]
    },
    {
     "name": "stderr",
     "output_type": "stream",
     "text": [
      "                                                           \r"
     ]
    },
    {
     "name": "stdout",
     "output_type": "stream",
     "text": [
      "Train Loss: 1.0053 | Val Loss: 0.8068\n",
      "\n",
      "Epoch [3/50]\n"
     ]
    },
    {
     "name": "stderr",
     "output_type": "stream",
     "text": [
      "                                                           \r"
     ]
    },
    {
     "name": "stdout",
     "output_type": "stream",
     "text": [
      "Train Loss: 0.9772 | Val Loss: 0.8500\n",
      "\n",
      "Epoch [4/50]\n"
     ]
    },
    {
     "name": "stderr",
     "output_type": "stream",
     "text": [
      "                                                           \r"
     ]
    },
    {
     "name": "stdout",
     "output_type": "stream",
     "text": [
      "Train Loss: 0.9503 | Val Loss: 0.8998\n",
      "⏹️ Early stopping triggered at epoch 4\n",
      "Finished training for gene: NR3C2\n",
      "Loading CSV and images...\n",
      "⚠️ Skipping patient R01-100 due to NaN gene value for NCAPD2\n",
      "⚠️ Skipping patient R01-105 due to NaN gene value for NCAPD2\n",
      "⚠️ Skipping patient R01-123 due to NaN gene value for NCAPD2\n",
      "⚠️ Skipping patient R01-127 due to NaN gene value for NCAPD2\n",
      "Training model for gene: NCAPD2 (Index: 98)\n",
      "\n",
      "Epoch [1/50]\n"
     ]
    },
    {
     "name": "stderr",
     "output_type": "stream",
     "text": [
      "                                                           \r"
     ]
    },
    {
     "name": "stdout",
     "output_type": "stream",
     "text": [
      "Train Loss: 1.9035 | Val Loss: 0.5435\n",
      "\n",
      "Epoch [2/50]\n"
     ]
    },
    {
     "name": "stderr",
     "output_type": "stream",
     "text": [
      "                                                           \r"
     ]
    },
    {
     "name": "stdout",
     "output_type": "stream",
     "text": [
      "Train Loss: 0.7900 | Val Loss: 0.5010\n",
      "\n",
      "Epoch [3/50]\n"
     ]
    },
    {
     "name": "stderr",
     "output_type": "stream",
     "text": [
      "                                                           \r"
     ]
    },
    {
     "name": "stdout",
     "output_type": "stream",
     "text": [
      "Train Loss: 0.8642 | Val Loss: 0.5379\n",
      "\n",
      "Epoch [4/50]\n"
     ]
    },
    {
     "name": "stderr",
     "output_type": "stream",
     "text": [
      "                                                           \r"
     ]
    },
    {
     "name": "stdout",
     "output_type": "stream",
     "text": [
      "Train Loss: 0.8168 | Val Loss: 0.6142\n",
      "⏹️ Early stopping triggered at epoch 4\n",
      "Finished training for gene: NCAPD2\n",
      "Loading CSV and images...\n",
      "Training model for gene: TMEM131 (Index: 99)\n",
      "\n",
      "Epoch [1/50]\n"
     ]
    },
    {
     "name": "stderr",
     "output_type": "stream",
     "text": [
      "                                                           \r"
     ]
    },
    {
     "name": "stdout",
     "output_type": "stream",
     "text": [
      "Train Loss: 1.8312 | Val Loss: 0.0000\n",
      "\n",
      "Epoch [2/50]\n"
     ]
    },
    {
     "name": "stderr",
     "output_type": "stream",
     "text": [
      "                                                           \r"
     ]
    },
    {
     "name": "stdout",
     "output_type": "stream",
     "text": [
      "Train Loss: 0.4946 | Val Loss: 0.0065\n",
      "\n",
      "Epoch [3/50]\n"
     ]
    },
    {
     "name": "stderr",
     "output_type": "stream",
     "text": [
      "                                                           \r"
     ]
    },
    {
     "name": "stdout",
     "output_type": "stream",
     "text": [
      "Train Loss: 0.4587 | Val Loss: 0.0436\n",
      "⏹️ Early stopping triggered at epoch 3\n",
      "Finished training for gene: TMEM131\n"
     ]
    },
    {
     "data": {
      "image/png": "[encoded data removed]",
      "text/plain": [
       "<Figure size 1200x600 with 1 Axes>"
      ]
     },
     "metadata": {},
     "output_type": "display_data"
    }
   ],
   "source": [
    "\n",
    "criterion = nn.CrossEntropyLoss()  # Assuming a classification task, change to MSELoss for regression tasks\n",
    "\n",
    "batch_size = 1\n",
    "#want to store the models for each gene, the list of losses, list of vals, gene name as uid\n",
    "gene_performance = {}\n",
    "\n",
    "\n",
    "device = torch.device(\"cuda\" if torch.cuda.is_available() else \"cpu\")\n",
    "print(f\"Using device: {device}\")\n",
    "\n",
    "for gene_idx in range(100):\n",
    "    \n",
    "\n",
    "    # Update the dataset index for the current gene\n",
    "    dataset = PatientDicomDatasetSingleGeneByIndexClass(\n",
    "        root_dir='data/Images/NSCLC Radiogenomics',\n",
    "        csv_path='data/df_zscore.csv',\n",
    "        transform=transform,\n",
    "        index=gene_idx\n",
    "    )\n",
    "    train_size = int(0.7 * len(dataset))\n",
    "    val_size = int(0.15 * len(dataset))\n",
    "    test_size = len(dataset) - train_size - val_size\n",
    "\n",
    "    # Split the dataset\n",
    "    train_dataset, val_dataset, test_dataset = random_split(\n",
    "        dataset, [train_size, val_size, test_size]\n",
    "    )\n",
    "    _,_,_,gene_name = dataset[0]\n",
    "    print(f\"Training model for gene: {gene_name} (Index: {gene_idx})\")\n",
    "    # Update DataLoaders\n",
    "    train_loader = DataLoader(train_dataset, batch_size=batch_size, shuffle=True, collate_fn=collate_fn)\n",
    "    val_loader = DataLoader(val_dataset, batch_size=batch_size, shuffle=False, collate_fn=collate_fn)\n",
    "\n",
    "    # Create a new model for the current gene\n",
    "    model = CNNClassifier(\n",
    "        cnn_encoder=MedicalImageCNN(output_dim=128),\n",
    "        embedding_dim=128,\n",
    "        num_classes=3  # Single output for the current gene\n",
    "    )\n",
    "    model.to(device)\n",
    "    optimizer = torch.optim.Adam(model.parameters(), lr=0.001)\n",
    "\n",
    "\n",
    "    # Train the model\n",
    "    train_losses, val_losses = train_model(\n",
    "        model, train_loader, val_loader,\n",
    "        criterion, optimizer, device, patience=2\n",
    "    )\n",
    "\n",
    "    # Store the losses for the current gene\n",
    "    gene_performance[gene_name] = {\n",
    "        'train_losses': train_losses,\n",
    "        'val_losses': val_losses,\n",
    "        'model': model,\n",
    "        'total_lost': val_losses[-1],  # Store the last validation loss\n",
    "        'gene_name': gene_name,\n",
    "        'test_dataset': test_dataset\n",
    "    }\n",
    "\n",
    "    print(f\"Finished training for gene: {gene_name}\")\n",
    "\n",
    "\n",
    "#sort by total_lost in descending order\n",
    "gene_performance = dict(sorted(gene_performance.items(), key=lambda item: item[1]['total_lost'], reverse=True))\n",
    "\n",
    "# Visualize losses for top 10 genes\n",
    "top_genes = list(gene_performance.keys())[:10]\n",
    "# top genes structure: {'gene_name': {'train_losses': [...], 'val_losses': [...], 'model': model, 'total_lost': value}}\n",
    "plt.figure(figsize=(12, 6))\n",
    "gene_losses = {gene: gene_performance[gene] for gene in top_genes}\n",
    "for gene, losses in gene_losses.items():\n",
    "    plt.plot(losses['train_losses'], label=f'{gene} - Training Loss')\n",
    "    plt.plot(losses['val_losses'], label=f'{gene} - Validation Loss')\n",
    "plt.xlabel('Epochs')\n",
    "plt.ylabel('Loss')\n",
    "plt.title('Training and Validation Losses for Top 10 Genes')\n",
    "plt.legend()\n",
    "plt.show()\n",
    "\n",
    "\n",
    "#save the top model\n",
    "top_gene = list(gene_performance.keys())[0]\n",
    "top_model = gene_performance[top_gene]['model']\n",
    "torch.save(top_model.state_dict(), f'models/top_gene_model_{top_gene}.pt')\n",
    "torch.save(gene_performance, 'gene_performance.pth')\n"
   ]
  },
  {
   "cell_type": "code",
   "execution_count": null,
   "id": "fa28509c",
   "metadata": {},
   "outputs": [],
   "source": [
    "top_model = gene_performance[top_gene]['model']\n",
    "torch.save(top_model, f'models/top_gene_model_{top_gene}.pth')"
   ]
  },
  {
   "cell_type": "code",
   "execution_count": null,
   "id": "589dca2b",
   "metadata": {},
   "outputs": [
    {
     "name": "stderr",
     "output_type": "stream",
     "text": [
      "                                                        "
     ]
    },
    {
     "name": "stdout",
     "output_type": "stream",
     "text": [
      "Test MSE: 0.1547759473323822\n",
      "Test R² : -9.104867935180664\n"
     ]
    },
    {
     "name": "stderr",
     "output_type": "stream",
     "text": [
      "\r"
     ]
    }
   ],
   "source": [
    "import torch\n",
    "import numpy as np\n",
    "from tqdm import tqdm\n",
    "\n",
    "def test_model(model, test_loader, device):\n",
    "    model.eval()\n",
    "    model.to(device)\n",
    "\n",
    "    all_predictions = []\n",
    "    all_targets = []\n",
    "\n",
    "    with torch.no_grad():\n",
    "        for images, _, gene_values, _ in tqdm(test_loader, desc=\"Testing\", leave=False):\n",
    "            images = images.to(device)\n",
    "            gene_values = gene_values.to(device)\n",
    "\n",
    "            outputs = model(images)\n",
    "\n",
    "            all_predictions.append(outputs.cpu().numpy())\n",
    "            all_targets.append(gene_values.cpu().numpy())\n",
    "\n",
    "    preds = np.concatenate(all_predictions, axis=0)\n",
    "    targets = np.concatenate(all_targets, axis=0)\n",
    "\n",
    "    return preds, targets\n",
    "\n",
    "test_loader = DataLoader(test_dataset, batch_size=batch_size, shuffle=False, collate_fn=collate_fn)\n",
    "preds, labels = test_model(model, test_loader, device)\n",
    "\n",
    "print(\"Test MSE:\", mean_squared_error(labels, preds))\n",
    "print(\"Test R² :\", r2_score(labels, preds))  # Good for regression quality"
   ]
  },
  {
   "cell_type": "code",
   "execution_count": 6,
   "id": "06ad557c",
   "metadata": {},
   "outputs": [
    {
     "data": {
      "image/png": "[encoded data removed]",
      "text/plain": [
       "<Figure size 1200x600 with 1 Axes>"
      ]
     },
     "metadata": {},
     "output_type": "display_data"
    }
   ],
   "source": [
    "# Visualize losses for top 10 genes\n",
    "top_genes = list(gene_performance.keys())[:10]\n",
    "# top genes structure: {'gene_name': {'train_losses': [...], 'val_losses': [...], 'model': model, 'total_lost': value}}\n",
    "plt.figure(figsize=(12, 6))\n",
    "gene_losses = {gene: gene_performance[gene] for gene in top_genes}\n",
    "for gene, losses in gene_losses.items():\n",
    "    plt.plot(losses['train_losses'], label=f'{gene} - Training Loss')\n",
    "    plt.plot(losses['val_losses'], label=f'{gene} - Validation Loss')\n",
    "plt.xlabel('Epochs')\n",
    "plt.ylabel('Loss')\n",
    "plt.title('Training and Validation Losses for Top 10 Genes')\n",
    "plt.legend()\n",
    "plt.show()\n"
   ]
  },
  {
   "cell_type": "code",
   "execution_count": 22,
   "id": "11deb5d8",
   "metadata": {},
   "outputs": [
    {
     "name": "stdout",
     "output_type": "stream",
     "text": [
      "Gene indexes found in df_zscore.csv: [0, 1, 2, 3, 4, 5, 6, 7, 8, 9, 10, 11, 12, 13, 14, 15, 16, 17, 18, 19, 20, 21, 22, 23, 24, 25, 26, 27, 28, 29, 30, 31, 32, 33, 34, 35, 36, 37, 38, 39, 40, 41, 42, 43, 44, 45, 46, 47, 48, 49, 50, 51, 52, 53, 54, 55, 56, 57, 58, 59, 60, 61, 62, 63, 64, 65, 66, 67, 68, 69, 70, 71, 72, 73, 74, 75, 76, 77, 78, 79, 80, 81, 82, 83, 84, 85, 86, 87, 88, 89, 90, 91, 92, 93, 94, 95, 96, 97, 98, 99]\n",
      "Table saved to tables\\gene_performance_table_100.csv\n",
      "Table saved to tables\\gene_performance_table_lt_0.6.csv\n"
     ]
    }
   ],
   "source": [
    "import pandas as pd\n",
    "\n",
    "#get gene indexes from data/df_zscore.csv\n",
    "df_zscore = pd.read_csv('data/df_zscore.csv')\n",
    "gene_indexes = df_zscore['gene'].tolist()\n",
    "\n",
    "def get_gene_index(gene_name):\n",
    "    \"\"\"\n",
    "    Get the index of a gene by its name.\n",
    "    :param gene_name: Name of the gene.\n",
    "    :return: Index of the gene or None if not found.\n",
    "    \"\"\"\n",
    "    try:\n",
    "        return df_zscore[df_zscore['gene'] == gene_name].index[0]\n",
    "    except IndexError:\n",
    "        return None\n",
    "#100 genes are indexed from 0 to 99\n",
    "gene_indexes = list(range(100))  # Assuming the first 100 genes are indexed from 0 to 99\n",
    "# Print the gene indexes found in df_zscore.csv     \n",
    "print(f\"Gene indexes found in df_zscore.csv: {gene_indexes}\")\n",
    "\n",
    "#sort by total_lost in descending order\n",
    "gene_performance = dict(sorted(gene_performance.items(), key=lambda item: item[1]['total_lost']))\n",
    "#print the 100 genes and their losses\n",
    "    # Create a DataFrame from the gene_performance dictionary\n",
    "gene_performance_df = pd.DataFrame([\n",
    "    {'Gene': gene, 'Total Loss': performance['total_lost'], 'Gene Index': get_gene_index(gene)}\n",
    "    for gene, performance in gene_performance.items()\n",
    "])\n",
    "\n",
    "# Sort the DataFrame by 'Total Loss'\n",
    "gene_performance_df = gene_performance_df.sort_values(by='Total Loss', ascending=True)\n",
    "\n",
    "# Plot the data using matplotlib\n",
    "# Print the DataFrame as a table\n",
    "\n",
    "# Save the DataFrame to a CSV file in the 'tables' folder\n",
    "output_folder = 'tables'\n",
    "os.makedirs(output_folder, exist_ok=True)\n",
    "output_path = os.path.join(output_folder, 'gene_performance_table_100.csv')\n",
    "gene_performance_df.to_csv(output_path, index=False)\n",
    "print(f\"Table saved to {output_path}\")\n",
    "\n",
    "#delete the data points with less than 0.1 loss\n",
    "gene_performance_thresholded = {gene: performance for gene, performance in gene_performance.items() if performance['total_lost'] < 0.6}\n",
    "\n",
    "gene_performance_df = pd.DataFrame([\n",
    "    {'Gene': gene, 'Total Loss': performance['total_lost'], 'Gene Index': get_gene_index(gene)}\n",
    "    for gene, performance in gene_performance_thresholded.items()\n",
    "])\n",
    "    # Sort the DataFrame by 'Total Loss'\n",
    "gene_performance_df = gene_performance_df.sort_values(by='Total Loss', ascending=True)\n",
    "\n",
    "    # Plot the data using matplotlib\n",
    "output_folder = 'tables'\n",
    "os.makedirs(output_folder, exist_ok=True)\n",
    "output_path = os.path.join(output_folder, 'gene_performance_table_lt_0.6.csv')\n",
    "gene_performance_df.to_csv(output_path, index=False)\n",
    "print(f\"Table saved to {output_path}\")\n"
   ]
  },
  {
   "cell_type": "markdown",
   "id": "f40f1637",
   "metadata": {},
   "source": [
    "saved all the relevant data so can go back to it in case it crashes\n",
    "\n",
    "problem there is a massive class embalence"
   ]
  },
  {
   "cell_type": "code",
   "execution_count": 35,
   "id": "f7a6177c",
   "metadata": {},
   "outputs": [],
   "source": [
    "from sklearn.metrics import roc_auc_score\n",
    "import torch.nn.functional as F\n",
    "\n",
    "def evaluate_model_auc(model, dataloader, device):\n",
    "    model.eval()\n",
    "    all_probs = []\n",
    "    all_targets = []\n",
    "\n",
    "    with torch.no_grad():\n",
    "        for images, _, labels, _ in dataloader:\n",
    "            images = images.to(device)\n",
    "            labels = labels.to(device)\n",
    "\n",
    "            outputs = model(images)  # [B, num_classes]\n",
    "            probs = F.softmax(outputs, dim=1)  # Convert logits to probabilities\n",
    "\n",
    "            all_probs.append(probs.cpu())\n",
    "            all_targets.append(labels.cpu())\n",
    "\n",
    "    probs = torch.cat(all_probs).numpy()\n",
    "    targets = torch.cat(all_targets).numpy()\n",
    "\n",
    "    try:\n",
    "        auc = roc_auc_score(targets, probs, multi_class='ovo', average='macro')  # 'ovr' also valid\n",
    "    except ValueError:\n",
    "        auc = float('nan')  # Handle degenerate cases\n",
    "\n",
    "    return auc\n",
    "def zscore_to_class(z, pos_thresh=0, neg_thresh=0):\n",
    "    \"\"\"\n",
    "    Convert z-score to classification label based\n",
    "    the thresholds for overexpression and underexpression are about the same\"\"\"\n",
    "    if z >= pos_thresh:\n",
    "        return 1  # overexpressed\n",
    "    elif z <= neg_thresh:\n",
    "        return -1  # underexpressed\n",
    "    else:\n",
    "        return 1  # normal"
   ]
  },
  {
   "cell_type": "markdown",
   "id": "b384bbe1",
   "metadata": {},
   "source": [
    "data is super skewed"
   ]
  },
  {
   "cell_type": "code",
   "execution_count": null,
   "id": "beb294c6",
   "metadata": {},
   "outputs": [],
   "source": []
  },
  {
   "cell_type": "code",
   "execution_count": 36,
   "id": "967a3b69",
   "metadata": {},
   "outputs": [
    {
     "name": "stdout",
     "output_type": "stream",
     "text": [
      "Using device: cuda\n",
      "Loading CSV and images...\n",
      "Labels for gene 46: [1, 1, -1, 1, 1, -1, 1, -1, -1, 1, 1, 1, 1, -1, 1, 1, 1, -1, -1, 1, -1, -1, 1, -1, -1, -1, -1, -1, 1, 1, -1, -1, -1, 1, -1, -1, -1, 1, -1, -1, -1, -1, 1, -1, -1, 1, -1, -1, 1, -1, -1, -1, -1, -1, 1, 1, 1, 1, -1, 1, 1, -1, 1, 1, 1, -1, -1, -1, 1, 1, -1, -1, -1, 1, -1, 1, 1, -1, 1, -1, -1, 1, 1, 1, 1, -1, -1, 1, 1, 1, 1, -1, -1, -1, 1, -1, 1, -1, -1, 1, -1, -1, 1, -1, -1, -1, -1, 1, -1, -1, -1, -1, -1, 1, -1, -1, -1, 1, -1, 1, -1, 1, 1, -1, 1, 1, 1, -1, 1, 1]\n",
      "Training model for gene: VGLL4 (Index: 46)\n",
      "\n",
      "Epoch [1/50]\n"
     ]
    },
    {
     "name": "stderr",
     "output_type": "stream",
     "text": [
      "                                                        \r"
     ]
    },
    {
     "ename": "KeyboardInterrupt",
     "evalue": "",
     "output_type": "error",
     "traceback": [
      "\u001b[31m---------------------------------------------------------------------------\u001b[39m",
      "\u001b[31mKeyboardInterrupt\u001b[39m                         Traceback (most recent call last)",
      "\u001b[36mCell\u001b[39m\u001b[36m \u001b[39m\u001b[32mIn[36]\u001b[39m\u001b[32m, line 67\u001b[39m\n\u001b[32m     63\u001b[39m optimizer = torch.optim.Adam(model.parameters(), lr=\u001b[32m0.001\u001b[39m)\n\u001b[32m     66\u001b[39m \u001b[38;5;66;03m# Train the model\u001b[39;00m\n\u001b[32m---> \u001b[39m\u001b[32m67\u001b[39m train_losses, val_losses = \u001b[43mtrain_model\u001b[49m\u001b[43m(\u001b[49m\n\u001b[32m     68\u001b[39m \u001b[43m    \u001b[49m\u001b[43mmodel\u001b[49m\u001b[43m,\u001b[49m\u001b[43m \u001b[49m\u001b[43mtrain_loader\u001b[49m\u001b[43m,\u001b[49m\u001b[43m \u001b[49m\u001b[43mval_loader\u001b[49m\u001b[43m,\u001b[49m\n\u001b[32m     69\u001b[39m \u001b[43m    \u001b[49m\u001b[43mcriterion\u001b[49m\u001b[43m,\u001b[49m\u001b[43m \u001b[49m\u001b[43moptimizer\u001b[49m\u001b[43m,\u001b[49m\u001b[43m \u001b[49m\u001b[43mdevice\u001b[49m\u001b[43m,\u001b[49m\u001b[43m \u001b[49m\u001b[43mpatience\u001b[49m\u001b[43m=\u001b[49m\u001b[32;43m2\u001b[39;49m\n\u001b[32m     70\u001b[39m \u001b[43m\u001b[49m\u001b[43m)\u001b[49m\n\u001b[32m     72\u001b[39m \u001b[38;5;66;03m# Store the losses for the current gene\u001b[39;00m\n\u001b[32m     73\u001b[39m gene_performance[gene_name] = {\n\u001b[32m     74\u001b[39m     \u001b[33m'\u001b[39m\u001b[33mtrain_losses\u001b[39m\u001b[33m'\u001b[39m: train_losses,\n\u001b[32m     75\u001b[39m     \u001b[33m'\u001b[39m\u001b[33mval_losses\u001b[39m\u001b[33m'\u001b[39m: val_losses,\n\u001b[32m   (...)\u001b[39m\u001b[32m     82\u001b[39m     \u001b[33m'\u001b[39m\u001b[33mdataset_length\u001b[39m\u001b[33m'\u001b[39m: \u001b[38;5;28mlen\u001b[39m(dataset)\n\u001b[32m     83\u001b[39m }\n",
      "\u001b[36mFile \u001b[39m\u001b[32mc:\\Users\\jacob\\428\\non-invasive-to-invasive-imagery\\model.py:138\u001b[39m, in \u001b[36mtrain_model\u001b[39m\u001b[34m(model, train_loader, val_loader, criterion, optimizer, device, num_epochs, patience, min_delta)\u001b[39m\n\u001b[32m    135\u001b[39m optimizer.zero_grad()\n\u001b[32m    137\u001b[39m \u001b[38;5;28;01mwith\u001b[39;00m autocast(\u001b[33m\"\u001b[39m\u001b[33mcuda\u001b[39m\u001b[33m\"\u001b[39m):  \u001b[38;5;66;03m# Mixed precision context\u001b[39;00m\n\u001b[32m--> \u001b[39m\u001b[32m138\u001b[39m     outputs = \u001b[43mmodel\u001b[49m\u001b[43m(\u001b[49m\u001b[43mimages\u001b[49m\u001b[43m)\u001b[49m\n\u001b[32m    139\u001b[39m     loss = criterion(outputs, gene_values)\n\u001b[32m    141\u001b[39m scaler.scale(loss).backward()\n",
      "\u001b[36mFile \u001b[39m\u001b[32m~\\AppData\\Local\\Packages\\PythonSoftwareFoundation.Python.3.11_qbz5n2kfra8p0\\LocalCache\\local-packages\\Python311\\site-packages\\torch\\nn\\modules\\module.py:1751\u001b[39m, in \u001b[36mModule._wrapped_call_impl\u001b[39m\u001b[34m(self, *args, **kwargs)\u001b[39m\n\u001b[32m   1749\u001b[39m     \u001b[38;5;28;01mreturn\u001b[39;00m \u001b[38;5;28mself\u001b[39m._compiled_call_impl(*args, **kwargs)  \u001b[38;5;66;03m# type: ignore[misc]\u001b[39;00m\n\u001b[32m   1750\u001b[39m \u001b[38;5;28;01melse\u001b[39;00m:\n\u001b[32m-> \u001b[39m\u001b[32m1751\u001b[39m     \u001b[38;5;28;01mreturn\u001b[39;00m \u001b[38;5;28;43mself\u001b[39;49m\u001b[43m.\u001b[49m\u001b[43m_call_impl\u001b[49m\u001b[43m(\u001b[49m\u001b[43m*\u001b[49m\u001b[43margs\u001b[49m\u001b[43m,\u001b[49m\u001b[43m \u001b[49m\u001b[43m*\u001b[49m\u001b[43m*\u001b[49m\u001b[43mkwargs\u001b[49m\u001b[43m)\u001b[49m\n",
      "\u001b[36mFile \u001b[39m\u001b[32m~\\AppData\\Local\\Packages\\PythonSoftwareFoundation.Python.3.11_qbz5n2kfra8p0\\LocalCache\\local-packages\\Python311\\site-packages\\torch\\nn\\modules\\module.py:1762\u001b[39m, in \u001b[36mModule._call_impl\u001b[39m\u001b[34m(self, *args, **kwargs)\u001b[39m\n\u001b[32m   1757\u001b[39m \u001b[38;5;66;03m# If we don't have any hooks, we want to skip the rest of the logic in\u001b[39;00m\n\u001b[32m   1758\u001b[39m \u001b[38;5;66;03m# this function, and just call forward.\u001b[39;00m\n\u001b[32m   1759\u001b[39m \u001b[38;5;28;01mif\u001b[39;00m \u001b[38;5;129;01mnot\u001b[39;00m (\u001b[38;5;28mself\u001b[39m._backward_hooks \u001b[38;5;129;01mor\u001b[39;00m \u001b[38;5;28mself\u001b[39m._backward_pre_hooks \u001b[38;5;129;01mor\u001b[39;00m \u001b[38;5;28mself\u001b[39m._forward_hooks \u001b[38;5;129;01mor\u001b[39;00m \u001b[38;5;28mself\u001b[39m._forward_pre_hooks\n\u001b[32m   1760\u001b[39m         \u001b[38;5;129;01mor\u001b[39;00m _global_backward_pre_hooks \u001b[38;5;129;01mor\u001b[39;00m _global_backward_hooks\n\u001b[32m   1761\u001b[39m         \u001b[38;5;129;01mor\u001b[39;00m _global_forward_hooks \u001b[38;5;129;01mor\u001b[39;00m _global_forward_pre_hooks):\n\u001b[32m-> \u001b[39m\u001b[32m1762\u001b[39m     \u001b[38;5;28;01mreturn\u001b[39;00m \u001b[43mforward_call\u001b[49m\u001b[43m(\u001b[49m\u001b[43m*\u001b[49m\u001b[43margs\u001b[49m\u001b[43m,\u001b[49m\u001b[43m \u001b[49m\u001b[43m*\u001b[49m\u001b[43m*\u001b[49m\u001b[43mkwargs\u001b[49m\u001b[43m)\u001b[49m\n\u001b[32m   1764\u001b[39m result = \u001b[38;5;28;01mNone\u001b[39;00m\n\u001b[32m   1765\u001b[39m called_always_called_hooks = \u001b[38;5;28mset\u001b[39m()\n",
      "\u001b[36mFile \u001b[39m\u001b[32mc:\\Users\\jacob\\428\\non-invasive-to-invasive-imagery\\model.py:105\u001b[39m, in \u001b[36mCNNClassifier.forward\u001b[39m\u001b[34m(self, images)\u001b[39m\n\u001b[32m    102\u001b[39m B, N, C, H, W = images.shape\n\u001b[32m    103\u001b[39m images = images.view(B * N, C, H, W)\n\u001b[32m--> \u001b[39m\u001b[32m105\u001b[39m features = \u001b[38;5;28;43mself\u001b[39;49m\u001b[43m.\u001b[49m\u001b[43mencoder\u001b[49m\u001b[43m(\u001b[49m\u001b[43mimages\u001b[49m\u001b[43m)\u001b[49m  \u001b[38;5;66;03m# [B*N, emb_dim]\u001b[39;00m\n\u001b[32m    106\u001b[39m features = features.view(B, N, -\u001b[32m1\u001b[39m)  \u001b[38;5;66;03m# [B, N, emb_dim]\u001b[39;00m\n\u001b[32m    107\u001b[39m pooled = features.mean(dim=\u001b[32m1\u001b[39m)      \u001b[38;5;66;03m# [B, emb_dim]\u001b[39;00m\n",
      "\u001b[36mFile \u001b[39m\u001b[32m~\\AppData\\Local\\Packages\\PythonSoftwareFoundation.Python.3.11_qbz5n2kfra8p0\\LocalCache\\local-packages\\Python311\\site-packages\\torch\\nn\\modules\\module.py:1751\u001b[39m, in \u001b[36mModule._wrapped_call_impl\u001b[39m\u001b[34m(self, *args, **kwargs)\u001b[39m\n\u001b[32m   1749\u001b[39m     \u001b[38;5;28;01mreturn\u001b[39;00m \u001b[38;5;28mself\u001b[39m._compiled_call_impl(*args, **kwargs)  \u001b[38;5;66;03m# type: ignore[misc]\u001b[39;00m\n\u001b[32m   1750\u001b[39m \u001b[38;5;28;01melse\u001b[39;00m:\n\u001b[32m-> \u001b[39m\u001b[32m1751\u001b[39m     \u001b[38;5;28;01mreturn\u001b[39;00m \u001b[38;5;28;43mself\u001b[39;49m\u001b[43m.\u001b[49m\u001b[43m_call_impl\u001b[49m\u001b[43m(\u001b[49m\u001b[43m*\u001b[49m\u001b[43margs\u001b[49m\u001b[43m,\u001b[49m\u001b[43m \u001b[49m\u001b[43m*\u001b[49m\u001b[43m*\u001b[49m\u001b[43mkwargs\u001b[49m\u001b[43m)\u001b[49m\n",
      "\u001b[36mFile \u001b[39m\u001b[32m~\\AppData\\Local\\Packages\\PythonSoftwareFoundation.Python.3.11_qbz5n2kfra8p0\\LocalCache\\local-packages\\Python311\\site-packages\\torch\\nn\\modules\\module.py:1762\u001b[39m, in \u001b[36mModule._call_impl\u001b[39m\u001b[34m(self, *args, **kwargs)\u001b[39m\n\u001b[32m   1757\u001b[39m \u001b[38;5;66;03m# If we don't have any hooks, we want to skip the rest of the logic in\u001b[39;00m\n\u001b[32m   1758\u001b[39m \u001b[38;5;66;03m# this function, and just call forward.\u001b[39;00m\n\u001b[32m   1759\u001b[39m \u001b[38;5;28;01mif\u001b[39;00m \u001b[38;5;129;01mnot\u001b[39;00m (\u001b[38;5;28mself\u001b[39m._backward_hooks \u001b[38;5;129;01mor\u001b[39;00m \u001b[38;5;28mself\u001b[39m._backward_pre_hooks \u001b[38;5;129;01mor\u001b[39;00m \u001b[38;5;28mself\u001b[39m._forward_hooks \u001b[38;5;129;01mor\u001b[39;00m \u001b[38;5;28mself\u001b[39m._forward_pre_hooks\n\u001b[32m   1760\u001b[39m         \u001b[38;5;129;01mor\u001b[39;00m _global_backward_pre_hooks \u001b[38;5;129;01mor\u001b[39;00m _global_backward_hooks\n\u001b[32m   1761\u001b[39m         \u001b[38;5;129;01mor\u001b[39;00m _global_forward_hooks \u001b[38;5;129;01mor\u001b[39;00m _global_forward_pre_hooks):\n\u001b[32m-> \u001b[39m\u001b[32m1762\u001b[39m     \u001b[38;5;28;01mreturn\u001b[39;00m \u001b[43mforward_call\u001b[49m\u001b[43m(\u001b[49m\u001b[43m*\u001b[49m\u001b[43margs\u001b[49m\u001b[43m,\u001b[49m\u001b[43m \u001b[49m\u001b[43m*\u001b[49m\u001b[43m*\u001b[49m\u001b[43mkwargs\u001b[49m\u001b[43m)\u001b[49m\n\u001b[32m   1764\u001b[39m result = \u001b[38;5;28;01mNone\u001b[39;00m\n\u001b[32m   1765\u001b[39m called_always_called_hooks = \u001b[38;5;28mset\u001b[39m()\n",
      "\u001b[36mFile \u001b[39m\u001b[32mc:\\Users\\jacob\\428\\non-invasive-to-invasive-imagery\\model.py:35\u001b[39m, in \u001b[36mMedicalImageCNN.forward\u001b[39m\u001b[34m(self, x)\u001b[39m\n\u001b[32m     34\u001b[39m \u001b[38;5;28;01mdef\u001b[39;00m\u001b[38;5;250m \u001b[39m\u001b[34mforward\u001b[39m(\u001b[38;5;28mself\u001b[39m, x):  \u001b[38;5;66;03m# x: [B, 1, H, W]\u001b[39;00m\n\u001b[32m---> \u001b[39m\u001b[32m35\u001b[39m     x = \u001b[38;5;28;43mself\u001b[39;49m\u001b[43m.\u001b[49m\u001b[43mfeatures\u001b[49m\u001b[43m(\u001b[49m\u001b[43mx\u001b[49m\u001b[43m)\u001b[49m\n\u001b[32m     36\u001b[39m     x = \u001b[38;5;28mself\u001b[39m.fc(x)\n\u001b[32m     37\u001b[39m     \u001b[38;5;28;01mreturn\u001b[39;00m x\n",
      "\u001b[36mFile \u001b[39m\u001b[32m~\\AppData\\Local\\Packages\\PythonSoftwareFoundation.Python.3.11_qbz5n2kfra8p0\\LocalCache\\local-packages\\Python311\\site-packages\\torch\\nn\\modules\\module.py:1751\u001b[39m, in \u001b[36mModule._wrapped_call_impl\u001b[39m\u001b[34m(self, *args, **kwargs)\u001b[39m\n\u001b[32m   1749\u001b[39m     \u001b[38;5;28;01mreturn\u001b[39;00m \u001b[38;5;28mself\u001b[39m._compiled_call_impl(*args, **kwargs)  \u001b[38;5;66;03m# type: ignore[misc]\u001b[39;00m\n\u001b[32m   1750\u001b[39m \u001b[38;5;28;01melse\u001b[39;00m:\n\u001b[32m-> \u001b[39m\u001b[32m1751\u001b[39m     \u001b[38;5;28;01mreturn\u001b[39;00m \u001b[38;5;28;43mself\u001b[39;49m\u001b[43m.\u001b[49m\u001b[43m_call_impl\u001b[49m\u001b[43m(\u001b[49m\u001b[43m*\u001b[49m\u001b[43margs\u001b[49m\u001b[43m,\u001b[49m\u001b[43m \u001b[49m\u001b[43m*\u001b[49m\u001b[43m*\u001b[49m\u001b[43mkwargs\u001b[49m\u001b[43m)\u001b[49m\n",
      "\u001b[36mFile \u001b[39m\u001b[32m~\\AppData\\Local\\Packages\\PythonSoftwareFoundation.Python.3.11_qbz5n2kfra8p0\\LocalCache\\local-packages\\Python311\\site-packages\\torch\\nn\\modules\\module.py:1762\u001b[39m, in \u001b[36mModule._call_impl\u001b[39m\u001b[34m(self, *args, **kwargs)\u001b[39m\n\u001b[32m   1757\u001b[39m \u001b[38;5;66;03m# If we don't have any hooks, we want to skip the rest of the logic in\u001b[39;00m\n\u001b[32m   1758\u001b[39m \u001b[38;5;66;03m# this function, and just call forward.\u001b[39;00m\n\u001b[32m   1759\u001b[39m \u001b[38;5;28;01mif\u001b[39;00m \u001b[38;5;129;01mnot\u001b[39;00m (\u001b[38;5;28mself\u001b[39m._backward_hooks \u001b[38;5;129;01mor\u001b[39;00m \u001b[38;5;28mself\u001b[39m._backward_pre_hooks \u001b[38;5;129;01mor\u001b[39;00m \u001b[38;5;28mself\u001b[39m._forward_hooks \u001b[38;5;129;01mor\u001b[39;00m \u001b[38;5;28mself\u001b[39m._forward_pre_hooks\n\u001b[32m   1760\u001b[39m         \u001b[38;5;129;01mor\u001b[39;00m _global_backward_pre_hooks \u001b[38;5;129;01mor\u001b[39;00m _global_backward_hooks\n\u001b[32m   1761\u001b[39m         \u001b[38;5;129;01mor\u001b[39;00m _global_forward_hooks \u001b[38;5;129;01mor\u001b[39;00m _global_forward_pre_hooks):\n\u001b[32m-> \u001b[39m\u001b[32m1762\u001b[39m     \u001b[38;5;28;01mreturn\u001b[39;00m \u001b[43mforward_call\u001b[49m\u001b[43m(\u001b[49m\u001b[43m*\u001b[49m\u001b[43margs\u001b[49m\u001b[43m,\u001b[49m\u001b[43m \u001b[49m\u001b[43m*\u001b[49m\u001b[43m*\u001b[49m\u001b[43mkwargs\u001b[49m\u001b[43m)\u001b[49m\n\u001b[32m   1764\u001b[39m result = \u001b[38;5;28;01mNone\u001b[39;00m\n\u001b[32m   1765\u001b[39m called_always_called_hooks = \u001b[38;5;28mset\u001b[39m()\n",
      "\u001b[36mFile \u001b[39m\u001b[32m~\\AppData\\Local\\Packages\\PythonSoftwareFoundation.Python.3.11_qbz5n2kfra8p0\\LocalCache\\local-packages\\Python311\\site-packages\\torch\\nn\\modules\\container.py:240\u001b[39m, in \u001b[36mSequential.forward\u001b[39m\u001b[34m(self, input)\u001b[39m\n\u001b[32m    238\u001b[39m \u001b[38;5;28;01mdef\u001b[39;00m\u001b[38;5;250m \u001b[39m\u001b[34mforward\u001b[39m(\u001b[38;5;28mself\u001b[39m, \u001b[38;5;28minput\u001b[39m):\n\u001b[32m    239\u001b[39m     \u001b[38;5;28;01mfor\u001b[39;00m module \u001b[38;5;129;01min\u001b[39;00m \u001b[38;5;28mself\u001b[39m:\n\u001b[32m--> \u001b[39m\u001b[32m240\u001b[39m         \u001b[38;5;28minput\u001b[39m = \u001b[43mmodule\u001b[49m\u001b[43m(\u001b[49m\u001b[38;5;28;43minput\u001b[39;49m\u001b[43m)\u001b[49m\n\u001b[32m    241\u001b[39m     \u001b[38;5;28;01mreturn\u001b[39;00m \u001b[38;5;28minput\u001b[39m\n",
      "\u001b[36mFile \u001b[39m\u001b[32m~\\AppData\\Local\\Packages\\PythonSoftwareFoundation.Python.3.11_qbz5n2kfra8p0\\LocalCache\\local-packages\\Python311\\site-packages\\torch\\nn\\modules\\module.py:1751\u001b[39m, in \u001b[36mModule._wrapped_call_impl\u001b[39m\u001b[34m(self, *args, **kwargs)\u001b[39m\n\u001b[32m   1749\u001b[39m     \u001b[38;5;28;01mreturn\u001b[39;00m \u001b[38;5;28mself\u001b[39m._compiled_call_impl(*args, **kwargs)  \u001b[38;5;66;03m# type: ignore[misc]\u001b[39;00m\n\u001b[32m   1750\u001b[39m \u001b[38;5;28;01melse\u001b[39;00m:\n\u001b[32m-> \u001b[39m\u001b[32m1751\u001b[39m     \u001b[38;5;28;01mreturn\u001b[39;00m \u001b[38;5;28;43mself\u001b[39;49m\u001b[43m.\u001b[49m\u001b[43m_call_impl\u001b[49m\u001b[43m(\u001b[49m\u001b[43m*\u001b[49m\u001b[43margs\u001b[49m\u001b[43m,\u001b[49m\u001b[43m \u001b[49m\u001b[43m*\u001b[49m\u001b[43m*\u001b[49m\u001b[43mkwargs\u001b[49m\u001b[43m)\u001b[49m\n",
      "\u001b[36mFile \u001b[39m\u001b[32m~\\AppData\\Local\\Packages\\PythonSoftwareFoundation.Python.3.11_qbz5n2kfra8p0\\LocalCache\\local-packages\\Python311\\site-packages\\torch\\nn\\modules\\module.py:1762\u001b[39m, in \u001b[36mModule._call_impl\u001b[39m\u001b[34m(self, *args, **kwargs)\u001b[39m\n\u001b[32m   1757\u001b[39m \u001b[38;5;66;03m# If we don't have any hooks, we want to skip the rest of the logic in\u001b[39;00m\n\u001b[32m   1758\u001b[39m \u001b[38;5;66;03m# this function, and just call forward.\u001b[39;00m\n\u001b[32m   1759\u001b[39m \u001b[38;5;28;01mif\u001b[39;00m \u001b[38;5;129;01mnot\u001b[39;00m (\u001b[38;5;28mself\u001b[39m._backward_hooks \u001b[38;5;129;01mor\u001b[39;00m \u001b[38;5;28mself\u001b[39m._backward_pre_hooks \u001b[38;5;129;01mor\u001b[39;00m \u001b[38;5;28mself\u001b[39m._forward_hooks \u001b[38;5;129;01mor\u001b[39;00m \u001b[38;5;28mself\u001b[39m._forward_pre_hooks\n\u001b[32m   1760\u001b[39m         \u001b[38;5;129;01mor\u001b[39;00m _global_backward_pre_hooks \u001b[38;5;129;01mor\u001b[39;00m _global_backward_hooks\n\u001b[32m   1761\u001b[39m         \u001b[38;5;129;01mor\u001b[39;00m _global_forward_hooks \u001b[38;5;129;01mor\u001b[39;00m _global_forward_pre_hooks):\n\u001b[32m-> \u001b[39m\u001b[32m1762\u001b[39m     \u001b[38;5;28;01mreturn\u001b[39;00m \u001b[43mforward_call\u001b[49m\u001b[43m(\u001b[49m\u001b[43m*\u001b[49m\u001b[43margs\u001b[49m\u001b[43m,\u001b[49m\u001b[43m \u001b[49m\u001b[43m*\u001b[49m\u001b[43m*\u001b[49m\u001b[43mkwargs\u001b[49m\u001b[43m)\u001b[49m\n\u001b[32m   1764\u001b[39m result = \u001b[38;5;28;01mNone\u001b[39;00m\n\u001b[32m   1765\u001b[39m called_always_called_hooks = \u001b[38;5;28mset\u001b[39m()\n",
      "\u001b[36mFile \u001b[39m\u001b[32m~\\AppData\\Local\\Packages\\PythonSoftwareFoundation.Python.3.11_qbz5n2kfra8p0\\LocalCache\\local-packages\\Python311\\site-packages\\torch\\nn\\modules\\activation.py:133\u001b[39m, in \u001b[36mReLU.forward\u001b[39m\u001b[34m(self, input)\u001b[39m\n\u001b[32m    132\u001b[39m \u001b[38;5;28;01mdef\u001b[39;00m\u001b[38;5;250m \u001b[39m\u001b[34mforward\u001b[39m(\u001b[38;5;28mself\u001b[39m, \u001b[38;5;28minput\u001b[39m: Tensor) -> Tensor:\n\u001b[32m--> \u001b[39m\u001b[32m133\u001b[39m     \u001b[38;5;28;01mreturn\u001b[39;00m \u001b[43mF\u001b[49m\u001b[43m.\u001b[49m\u001b[43mrelu\u001b[49m\u001b[43m(\u001b[49m\u001b[38;5;28;43minput\u001b[39;49m\u001b[43m,\u001b[49m\u001b[43m \u001b[49m\u001b[43minplace\u001b[49m\u001b[43m=\u001b[49m\u001b[38;5;28;43mself\u001b[39;49m\u001b[43m.\u001b[49m\u001b[43minplace\u001b[49m\u001b[43m)\u001b[49m\n",
      "\u001b[36mFile \u001b[39m\u001b[32m~\\AppData\\Local\\Packages\\PythonSoftwareFoundation.Python.3.11_qbz5n2kfra8p0\\LocalCache\\local-packages\\Python311\\site-packages\\torch\\nn\\functional.py:1704\u001b[39m, in \u001b[36mrelu\u001b[39m\u001b[34m(input, inplace)\u001b[39m\n\u001b[32m   1702\u001b[39m     result = torch.relu_(\u001b[38;5;28minput\u001b[39m)\n\u001b[32m   1703\u001b[39m \u001b[38;5;28;01melse\u001b[39;00m:\n\u001b[32m-> \u001b[39m\u001b[32m1704\u001b[39m     result = \u001b[43mtorch\u001b[49m\u001b[43m.\u001b[49m\u001b[43mrelu\u001b[49m\u001b[43m(\u001b[49m\u001b[38;5;28;43minput\u001b[39;49m\u001b[43m)\u001b[49m\n\u001b[32m   1705\u001b[39m \u001b[38;5;28;01mreturn\u001b[39;00m result\n",
      "\u001b[31mKeyboardInterrupt\u001b[39m: "
     ]
    }
   ],
   "source": [
    "from sklearn.model_selection import train_test_split\n",
    "\n",
    "#extract the list of indexes of the genes with less than 0.6 loss\n",
    "gene_indexes = [get_gene_index(gene) for gene in gene_performance_thresholded.keys() if get_gene_index(gene) is not None]\n",
    "\n",
    "\n",
    "criterion = nn.CrossEntropyLoss()  # Assuming a classification task, change to MSELoss for regression tasks\n",
    "\n",
    "batch_size = 1\n",
    "#want to store the models for each gene, the list of losses, list of vals, gene name as uid\n",
    "gene_performance = {}\n",
    "\n",
    "\n",
    "device = torch.device(\"cuda\" if torch.cuda.is_available() else \"cpu\")\n",
    "print(f\"Using device: {device}\")\n",
    "\n",
    "for gene_idx in gene_indexes:\n",
    "    \n",
    "\n",
    "    # Update the dataset index for the current gene\n",
    "    dataset = PatientDicomDatasetSingleGeneByIndexClass(\n",
    "        root_dir='data/Images/NSCLC Radiogenomics',\n",
    "        csv_path='data/df_zscore.csv',\n",
    "        transform=transform,\n",
    "        index=gene_idx\n",
    "    )\n",
    "    train_size = int(0.7 * len(dataset))\n",
    "    val_size = int(0.15 * len(dataset))\n",
    "    test_size = len(dataset) - train_size - val_size\n",
    "\n",
    "    # Extract labels for stratification\n",
    "    labels = [zscore_to_class(float(val)) for val in dataset.gene_values]\n",
    "    print(f\"Labels for gene {gene_idx}: {labels}\")\n",
    "\n",
    "\n",
    "    # Perform stratified split\n",
    "\n",
    "    train_indices, temp_indices = train_test_split(\n",
    "        range(len(labels)), test_size=0.3, stratify=labels, random_state=42\n",
    "    )\n",
    "    val_indices, test_indices = train_test_split(\n",
    "        temp_indices, test_size=0.5, stratify=[labels[i] for i in temp_indices], random_state=42\n",
    "    )\n",
    "\n",
    "    # Create subsets\n",
    "    train_dataset = torch.utils.data.Subset(dataset, train_indices)\n",
    "    val_dataset = torch.utils.data.Subset(dataset, val_indices)\n",
    "    test_dataset = torch.utils.data.Subset(dataset, test_indices)\n",
    "    _,_,_,gene_name = dataset[0]\n",
    "    print(f\"Training model for gene: {gene_name} (Index: {gene_idx})\")\n",
    "    # Update DataLoaders\n",
    "    train_loader = DataLoader(train_dataset, batch_size=batch_size, shuffle=True, collate_fn=collate_fn)\n",
    "    val_loader = DataLoader(val_dataset, batch_size=batch_size, shuffle=False, collate_fn=collate_fn)\n",
    "    test_loader = DataLoader(test_dataset, batch_size=1, shuffle=False, collate_fn=collate_fn)\n",
    "\n",
    "    # Create a new model for the current gene\n",
    "    model = CNNClassifier(\n",
    "        cnn_encoder=MedicalImageCNN(output_dim=128),\n",
    "        embedding_dim=128,\n",
    "        num_classes=3  # Single output for the current gene\n",
    "    )\n",
    "    model.to(device)\n",
    "    optimizer = torch.optim.Adam(model.parameters(), lr=0.001)\n",
    "\n",
    "\n",
    "    # Train the model\n",
    "    train_losses, val_losses = train_model(\n",
    "        model, train_loader, val_loader,\n",
    "        criterion, optimizer, device, patience=2\n",
    "    )\n",
    "\n",
    "    # Store the losses for the current gene\n",
    "    gene_performance[gene_name] = {\n",
    "        'train_losses': train_losses,\n",
    "        'val_losses': val_losses,\n",
    "        'model': model,\n",
    "        'total_lost': val_losses[-1],  # Store the last validation loss\n",
    "        'gene_name': gene_name,\n",
    "        'test_dataset': test_dataset,\n",
    "        'test_accuracy':evaluate_model_auc(model, test_loader, device),\n",
    "        'index': gene_idx,\n",
    "        'dataset_length': len(dataset)\n",
    "    }\n",
    "\n",
    "    print(f\"Finished training for gene: {gene_name}\")\n",
    "    torch.save(gene_performance, 'gene_performance.pth')\n",
    "\n",
    "\n",
    "#sort by total_lost in descending order\n",
    "gene_performance = dict(sorted(gene_performance.items(), key=lambda item: item[1]['total_lost']))\n",
    "\n",
    "# Visualize losses for top 10 genes\n",
    "top_genes = list(gene_performance.keys())[:10]\n"
   ]
  }
 ],
 "metadata": {
  "kernelspec": {
   "display_name": "Python 3",
   "language": "python",
   "name": "python3"
  },
  "language_info": {
   "codemirror_mode": {
    "name": "ipython",
    "version": 3
   },
   "file_extension": ".py",
   "mimetype": "text/x-python",
   "name": "python",
   "nbconvert_exporter": "python",
   "pygments_lexer": "ipython3",
   "version": "3.11.9"
  }
 },
 "nbformat": 4,
 "nbformat_minor": 5
}
